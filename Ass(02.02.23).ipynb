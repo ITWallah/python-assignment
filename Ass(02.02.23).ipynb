{
 "cells": [
  {
   "cell_type": "markdown",
   "id": "d00672a9-9cfc-4a2f-af66-e5cebf558664",
   "metadata": {},
   "source": [
    "## Assignment(02/FEB/2023)"
   ]
  },
  {
   "cell_type": "markdown",
   "id": "2340cc67-efbf-4bb1-96ee-404d5cdc9d79",
   "metadata": {},
   "source": [
    "Q1. What are the characteristics of the tuples? Is tuple immutable?"
   ]
  },
  {
   "cell_type": "code",
   "execution_count": null,
   "id": "978e8115-509f-40ee-b436-ef76f9c21b3a",
   "metadata": {},
   "outputs": [],
   "source": [
    "## answer 1\n",
    "-> Tuples are defined in the same way as lists.\n",
    "\n",
    "-> They are enclosed within parenthesis and not within square braces.\n",
    "\n",
    "-> Elements of the tuple must have a defined order.\n",
    "\n",
    "-> Negative indices are counted from the end of the tuple, just like lists.\n",
    "\n",
    "-> Tuple also has the same structure where commas separate the values.\n",
    "\n",
    "=> YES, tuple is immptable."
   ]
  },
  {
   "cell_type": "code",
   "execution_count": null,
   "id": "d4e8a90c-9239-442e-9ffd-1de8b816d6b2",
   "metadata": {},
   "outputs": [],
   "source": []
  },
  {
   "cell_type": "code",
   "execution_count": null,
   "id": "45932630-e137-4185-b7b5-fb9501208388",
   "metadata": {},
   "outputs": [],
   "source": []
  },
  {
   "cell_type": "markdown",
   "id": "35683514-ff4c-4f29-8c47-e1be19ac3d0b",
   "metadata": {},
   "source": [
    "Q2. What are the two tuple methods in python? Give an example of each method. Give a reason why \n",
    "tuples have only two in-built methods as compared to Lists."
   ]
  },
  {
   "cell_type": "code",
   "execution_count": null,
   "id": "9b5fdca0-c73f-4481-a17b-d3ee6ab828f9",
   "metadata": {},
   "outputs": [],
   "source": [
    "## answer 2\n",
    "\n",
    "-> two tuple methods in python are :\n",
    "   1. count()\n",
    "   2. index()\n",
    "    \n",
    "-> EXAMPLE :   \n",
    "    Tuple1 = (0, 1, 2, 3, 2, 3, 1, 3, 2)\n",
    "  \n",
    "# count the appearance of 3\n",
    "  res = Tuple1.count(3)\n",
    "  print('Count of 3 in Tuple1 is:', res)\n",
    "      output: Count of 3 in Tuple1 is: 3   \n",
    "    \n",
    "# getting the index of 3\n",
    "  res = Tuple.index(3)\n",
    "  print('First occurrence of 3 is', res)\n",
    "      output: First occurrence of 3 is 3   \n",
    "      \n",
    "      \n",
    "=> A tuple has fewer built-in methods than a list. This is mainly because a tuple is immutable. Thus operations such as insertion, deletion, or update would be meaningless.      "
   ]
  },
  {
   "cell_type": "code",
   "execution_count": null,
   "id": "fb099ece-55e3-47b4-9fb9-5b9fbf22482f",
   "metadata": {},
   "outputs": [],
   "source": []
  },
  {
   "cell_type": "code",
   "execution_count": null,
   "id": "2f02510f-cb54-4b3e-bdfa-52590ecdd2aa",
   "metadata": {},
   "outputs": [],
   "source": []
  },
  {
   "cell_type": "markdown",
   "id": "13f2f74c-b3fd-406c-8923-7e0e5d865ce5",
   "metadata": {},
   "source": [
    "Q3. Which collection datatypes in python do not allow duplicate items? Write a code using a set to remove \n",
    "duplicates from the given list."
   ]
  },
  {
   "cell_type": "code",
   "execution_count": null,
   "id": "d06dd5ac-4467-4521-a349-2e791c119954",
   "metadata": {},
   "outputs": [],
   "source": [
    "## answer 3\n",
    "\n",
    "-> SET and DICTONARY do not allow duplicate items in python.\n",
    "\n",
    "-> CODE:\n"
   ]
  },
  {
   "cell_type": "code",
   "execution_count": 10,
   "id": "cb598a74-13cb-4be9-b45a-bbd31461fd7b",
   "metadata": {},
   "outputs": [
    {
     "name": "stdout",
     "output_type": "stream",
     "text": [
      "[1, 2, 3, 4]\n"
     ]
    }
   ],
   "source": [
    "List = [1, 1, 1, 2, 1, 3, 1, 4, 2, 1, 2, 2, 2, 3, 2, 4, 3, 1, 3, 2, 3, 3, 3, 4, 4, 1, 4, 2, 4, 3, 4, 4]\n",
    "print(list(set(List)))"
   ]
  },
  {
   "cell_type": "code",
   "execution_count": null,
   "id": "cddbd36c-f41d-4a06-af25-c0a973dd41c9",
   "metadata": {},
   "outputs": [],
   "source": []
  },
  {
   "cell_type": "code",
   "execution_count": null,
   "id": "0d2008c1-5ca6-4538-b96b-3ba7ef354c4c",
   "metadata": {},
   "outputs": [],
   "source": []
  },
  {
   "cell_type": "markdown",
   "id": "75c18206-2cad-4432-bf0a-ff06653a9ed2",
   "metadata": {},
   "source": [
    "Q4. Explain the difference between the union() and update() methods for a set. Give an example of \n",
    "each method"
   ]
  },
  {
   "cell_type": "code",
   "execution_count": null,
   "id": "29768716-c07e-4c71-a0be-4500273d2095",
   "metadata": {},
   "outputs": [],
   "source": [
    "## answer 4\n",
    "\n",
    "-> It is very similar to union () method, with difference is that where union () method create and return a new set, containing all the elements (distinct) present in all the iterables, update () method updates the set on which this method is called with all the distinct elements present in all the iterables.\n",
    "\n",
    "-> EXAMPLE:"
   ]
  },
  {
   "cell_type": "code",
   "execution_count": 11,
   "id": "f7e8834f-e0af-4eb7-97cc-b5b0e35d6310",
   "metadata": {},
   "outputs": [
    {
     "name": "stdout",
     "output_type": "stream",
     "text": [
      "A U B =  {1, 2, 3, 5}\n"
     ]
    }
   ],
   "source": [
    "A = {2, 3, 5}\n",
    "B = {1, 3, 5}\n",
    "\n",
    "# compute union between A and B\n",
    "print('A U B = ', A.union(B))"
   ]
  },
  {
   "cell_type": "code",
   "execution_count": 12,
   "id": "dc1cd266-fdc1-4225-a3c8-de1b1b0bfef3",
   "metadata": {},
   "outputs": [
    {
     "name": "stdout",
     "output_type": "stream",
     "text": [
      "{1, 2, 3, 'b', 'a'}\n"
     ]
    }
   ],
   "source": [
    "A = {'a', 'b'}\n",
    "B = {1, 2, 3}\n",
    "\n",
    "# updates A after the items of B is added to A\n",
    "A.update(B)\n",
    "\n",
    "print(A)"
   ]
  },
  {
   "cell_type": "code",
   "execution_count": null,
   "id": "b45288f7-a081-44d4-aa21-ff79127d5483",
   "metadata": {},
   "outputs": [],
   "source": []
  },
  {
   "cell_type": "code",
   "execution_count": null,
   "id": "d1bfd069-0a54-4917-9a96-a773c331c31b",
   "metadata": {},
   "outputs": [],
   "source": []
  },
  {
   "cell_type": "markdown",
   "id": "29f2d8b4-46bb-4e77-9a9b-76ec3f5f9078",
   "metadata": {},
   "source": [
    "Q5. What is a dictionary? Give an example. Also, state whether a dictionary is ordered or unordered"
   ]
  },
  {
   "cell_type": "code",
   "execution_count": null,
   "id": "02044ff8-6db2-4376-b234-26e7e9799029",
   "metadata": {},
   "outputs": [],
   "source": [
    "## answer 5\n",
    "\n",
    "-> A dictionary consists of a collection of key-value pairs. Each key-value pair maps the key to its associated value.\n",
    "\n",
    "-> EXAMPLE:"
   ]
  },
  {
   "cell_type": "code",
   "execution_count": 14,
   "id": "184425f9-5088-4356-b807-2e2cdca2abd8",
   "metadata": {},
   "outputs": [
    {
     "name": "stdout",
     "output_type": "stream",
     "text": [
      "{'Nepal': 'Kathmandu', 'Italy': 'Rome', 'England': 'London'}\n"
     ]
    }
   ],
   "source": [
    "capital_city = {\"Nepal\": \"Kathmandu\", \"Italy\": \"Rome\", \"England\": \"London\"}\n",
    "print(capital_city)"
   ]
  },
  {
   "cell_type": "raw",
   "id": "d919428e-7c3f-4422-a617-bb0711b9cf77",
   "metadata": {},
   "source": [
    "-> Dictionary is UNORDERED."
   ]
  },
  {
   "cell_type": "code",
   "execution_count": null,
   "id": "10fb7565-8a34-4ce7-87d0-0567d2584f94",
   "metadata": {},
   "outputs": [],
   "source": []
  },
  {
   "cell_type": "code",
   "execution_count": null,
   "id": "c12c9995-78b0-4ffc-ae5a-4e9c58aaf943",
   "metadata": {},
   "outputs": [],
   "source": []
  },
  {
   "cell_type": "markdown",
   "id": "f9f73d1b-3f0a-4f72-b39c-a113eae8ecc7",
   "metadata": {},
   "source": [
    "Q6. Can we create a nested dictionary? If so, please give an example by creating a simple one-level \n",
    "nested dictionary."
   ]
  },
  {
   "cell_type": "code",
   "execution_count": null,
   "id": "83758f0b-fa49-407b-86fd-5706adf4d2ee",
   "metadata": {},
   "outputs": [],
   "source": [
    "## answer 6\n",
    "\n",
    "-> YES, we can create a nested dictionary.\n",
    "\n",
    "-> EXAMPLE:"
   ]
  },
  {
   "cell_type": "code",
   "execution_count": 18,
   "id": "716397be-b81f-4751-bdb9-8cb379d51b75",
   "metadata": {},
   "outputs": [
    {
     "name": "stdout",
     "output_type": "stream",
     "text": [
      "John\n",
      "27\n",
      "Male\n"
     ]
    }
   ],
   "source": [
    "people = {1: {'name': 'John', 'age': '27', 'sex': 'Male'},\n",
    "          2: {'name': 'Marie', 'age': '22', 'sex': 'Female'}}\n",
    "\n",
    "print(people[1]['name'])\n",
    "print(people[1]['age'])\n",
    "print(people[1]['sex'])"
   ]
  },
  {
   "cell_type": "code",
   "execution_count": null,
   "id": "57de9547-d926-47aa-8730-fbec04835be4",
   "metadata": {},
   "outputs": [],
   "source": []
  },
  {
   "cell_type": "code",
   "execution_count": null,
   "id": "cec5cff2-61a6-44ac-8d3b-c66248ddaeb2",
   "metadata": {},
   "outputs": [],
   "source": []
  },
  {
   "cell_type": "markdown",
   "id": "cbef67a6-ffee-4c28-b43f-c51b0adf792b",
   "metadata": {},
   "source": [
    "Q7. Using setdefault() method, create key named topics in the given dictionary and also add the value of \n",
    "the key as this list ['Python', 'Machine Learning’, 'Deep Learning']"
   ]
  },
  {
   "cell_type": "code",
   "execution_count": null,
   "id": "a4e08182-d20f-44c0-bd93-89eee1db0ec4",
   "metadata": {},
   "outputs": [],
   "source": [
    "dict1 = {'language' : 'Python', 'course': 'Data Science Masters'}"
   ]
  },
  {
   "cell_type": "code",
   "execution_count": 29,
   "id": "7b36ce16-1171-4e10-886f-96f4c5284372",
   "metadata": {
    "jp-MarkdownHeadingCollapsed": true,
    "tags": []
   },
   "outputs": [
    {
     "data": {
      "text/plain": [
       "'Deep learning'"
      ]
     },
     "execution_count": 29,
     "metadata": {},
     "output_type": "execute_result"
    }
   ],
   "source": [
    "dict1.setdefault('topics','Deep Learning')"
   ]
  },
  {
   "cell_type": "code",
   "execution_count": 30,
   "id": "8c38b1d5-afc2-4619-b03a-9bb2107e999e",
   "metadata": {},
   "outputs": [
    {
     "data": {
      "text/plain": [
       "'Machine Learning'"
      ]
     },
     "execution_count": 30,
     "metadata": {},
     "output_type": "execute_result"
    }
   ],
   "source": [
    "dict1.setdefault('topic','Machine Learning')"
   ]
  },
  {
   "cell_type": "code",
   "execution_count": 31,
   "id": "4b29b916-e20f-41d6-95db-f82a24711a06",
   "metadata": {},
   "outputs": [
    {
     "data": {
      "text/plain": [
       "{'language': 'Python',\n",
       " 'course': 'Data Science Masters',\n",
       " 'topics': 'Deep learning',\n",
       " 'topic': 'Machine Learning'}"
      ]
     },
     "execution_count": 31,
     "metadata": {},
     "output_type": "execute_result"
    }
   ],
   "source": [
    "dict1"
   ]
  },
  {
   "cell_type": "code",
   "execution_count": null,
   "id": "1dc18fea-6e68-4f77-95aa-be1bc5f887e3",
   "metadata": {},
   "outputs": [],
   "source": []
  },
  {
   "cell_type": "code",
   "execution_count": null,
   "id": "26795828-1f03-4e4f-a860-fda4d8365b92",
   "metadata": {},
   "outputs": [],
   "source": []
  },
  {
   "cell_type": "markdown",
   "id": "afc5bfde-9bf0-4771-810a-f3267c8638b0",
   "metadata": {},
   "source": [
    "Q8. What are the three view objects in dictionaries? Use the three in-built methods in python to display \n",
    "these three view objects for the given dictionary.\n",
    "\n",
    "dict1 = {'Sport': 'Cricket' , 'Teams': ['India', 'Australia', 'England', 'South Africa', 'Sri Lanka', 'New Zealand']}\n"
   ]
  },
  {
   "cell_type": "code",
   "execution_count": null,
   "id": "3f31c4ac-33d3-44c5-8e8c-679a399a0dd2",
   "metadata": {},
   "outputs": [],
   "source": [
    "## answer 8\n",
    "\n",
    "-> The main view objects of dictionary in python are KEYS, VALUES and ITEMS."
   ]
  },
  {
   "cell_type": "code",
   "execution_count": 7,
   "id": "e5275381-53fc-41ac-b876-38538ad0a0a6",
   "metadata": {},
   "outputs": [
    {
     "name": "stdout",
     "output_type": "stream",
     "text": [
      "dict_keys(['A', 'B', 'C'])\n"
     ]
    }
   ],
   "source": [
    "## with using KEYS:\n",
    "\n",
    "# Dictionary with three keys\n",
    "Dictionary1 = {'A': 'Geeks', 'B': 'For', 'C': 'Geeks'}\n",
    " \n",
    "# Printing keys of dictionary\n",
    "print(Dictionary1.keys())"
   ]
  },
  {
   "cell_type": "code",
   "execution_count": 8,
   "id": "c2f10657-0e8c-410a-8941-a84e0407f26f",
   "metadata": {},
   "outputs": [
    {
     "name": "stdout",
     "output_type": "stream",
     "text": [
      "dict_values(['Geeks', 'For', 'Geeks'])\n"
     ]
    }
   ],
   "source": [
    "## with using VALUESl\n",
    "\n",
    "# Dictionary with three keys\n",
    "Dictionary2 = {'A': 'Geeks', 'B': 'For', 'C': 'Geeks'}\n",
    " \n",
    "# Printing keys of dictionary\n",
    "print(Dictionary2.values())"
   ]
  },
  {
   "cell_type": "code",
   "execution_count": 9,
   "id": "66191feb-267a-4e54-b3f0-fe62a326660d",
   "metadata": {},
   "outputs": [
    {
     "name": "stdout",
     "output_type": "stream",
     "text": [
      "dict_items([('A', 'Geeks'), ('B', 'For'), ('C', 'Geeks')])\n"
     ]
    }
   ],
   "source": [
    "# Dictionary with three keys\n",
    "Dictionary3 = {'A': 'Geeks', 'B': 'For', 'C': 'Geeks'}\n",
    " \n",
    "# Printing keys of dictionary\n",
    "print(Dictionary3.items())"
   ]
  },
  {
   "cell_type": "code",
   "execution_count": null,
   "id": "32100f15-85ca-463c-9050-31014f505e22",
   "metadata": {},
   "outputs": [],
   "source": []
  }
 ],
 "metadata": {
  "kernelspec": {
   "display_name": "Python 3 (ipykernel)",
   "language": "python",
   "name": "python3"
  },
  "language_info": {
   "codemirror_mode": {
    "name": "ipython",
    "version": 3
   },
   "file_extension": ".py",
   "mimetype": "text/x-python",
   "name": "python",
   "nbconvert_exporter": "python",
   "pygments_lexer": "ipython3",
   "version": "3.10.8"
  }
 },
 "nbformat": 4,
 "nbformat_minor": 5
}
