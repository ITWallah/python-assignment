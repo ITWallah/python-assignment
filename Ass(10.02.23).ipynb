{
 "cells": [
  {
   "cell_type": "markdown",
   "id": "40f2f0ad-b7cf-4b1c-84dd-bdd467e3b803",
   "metadata": {},
   "source": [
    "## Assignment(10/FEB/2023)"
   ]
  },
  {
   "cell_type": "markdown",
   "id": "e3b3551c-b809-4375-a12d-f9604cc13fec",
   "metadata": {},
   "source": [
    "Q1. Which function is used to open a file? What are the different modes of opening a file? Explain each mode \n",
    "of file opening"
   ]
  },
  {
   "cell_type": "code",
   "execution_count": null,
   "id": "e75bd95f-9710-4cd6-bdb0-32ed7642998a",
   "metadata": {},
   "outputs": [],
   "source": [
    "## answer 1\n",
    "\n",
    "-> The open() is used to open a file in python.\n",
    "-> 6 modes are read(r), write(w), read in binary(rb), write in binary()wb, append in binary(ab).\n",
    "\n",
    "-> Read(‘r’): Open text file for reading. The handle is positioned at the beginning of the file.\n",
    "-> Write(‘w’): Open the file for writing. For the existing files, the data is truncated and over-written.Creates the file if the file does not exist.\n",
    "-> Append(‘a’): Open the file for writing. The file is created if it does not exist. The handle is positioned at the end of the file.\n",
    "-> Read Only in Binary format(‘rb’):  It lets the user open the file for reading in binary format.\n",
    "-> Write Only in Binary Format(‘wb’): It lets the user open the file for writing in binary format.\n",
    "-> Append only in Binary Format(‘ab’): It lets the user open the file for appending in binary format."
   ]
  },
  {
   "cell_type": "code",
   "execution_count": null,
   "id": "ea7a990c-2bd7-467c-933d-a3935fec0d5c",
   "metadata": {},
   "outputs": [],
   "source": []
  },
  {
   "cell_type": "code",
   "execution_count": null,
   "id": "7bbe4f89-c49e-4ef8-84c8-b98801f54d85",
   "metadata": {},
   "outputs": [],
   "source": []
  },
  {
   "cell_type": "markdown",
   "id": "7ab3c664-2edf-4bd3-9263-510b0d7cc599",
   "metadata": {},
   "source": [
    "Q2. Why close() function is used? Why is it important to close a file?"
   ]
  },
  {
   "cell_type": "code",
   "execution_count": null,
   "id": "e466a6da-df7e-485d-8dd0-41c4c5e642e1",
   "metadata": {},
   "outputs": [],
   "source": [
    "## answer 2\n",
    "\n",
    "-> The close () method of a file object flushes any unwritten information and closes the file object, after which no more writing can be done. Python automatically closes a file when the reference object of a file is reassigned to another file.\n",
    "\n",
    "-> it is important because it is a good practice to close a file."
   ]
  },
  {
   "cell_type": "code",
   "execution_count": null,
   "id": "3543edb2-5564-4c50-a51d-caeae2f5b1e5",
   "metadata": {},
   "outputs": [],
   "source": []
  },
  {
   "cell_type": "code",
   "execution_count": null,
   "id": "0a456664-0cd8-4181-a29f-78a3d8c10090",
   "metadata": {},
   "outputs": [],
   "source": []
  },
  {
   "cell_type": "markdown",
   "id": "ab58b8a5-3341-4121-8ab5-b1fec40e92dc",
   "metadata": {},
   "source": [
    "Q3. Write a python program to create a text file. Write ‘I want to become a Data Scientist’ in that file. Then \n",
    "close the file. Open this file and read the content of the file. "
   ]
  },
  {
   "cell_type": "code",
   "execution_count": 4,
   "id": "00f56d67-bce2-44e9-8e40-53f9ad184672",
   "metadata": {},
   "outputs": [],
   "source": [
    "## answer 3\n",
    "\n",
    "f = open(\"test.txt\" , 'w')"
   ]
  },
  {
   "cell_type": "code",
   "execution_count": 5,
   "id": "387ec812-a067-4bf2-9305-c88fd482e341",
   "metadata": {},
   "outputs": [
    {
     "data": {
      "text/plain": [
       "33"
      ]
     },
     "execution_count": 5,
     "metadata": {},
     "output_type": "execute_result"
    }
   ],
   "source": [
    "f.write(\"I want to become a Data Scientist\")"
   ]
  },
  {
   "cell_type": "code",
   "execution_count": 6,
   "id": "18ef7e47-05a9-4c7a-a437-b17ddd99ff8d",
   "metadata": {},
   "outputs": [],
   "source": [
    "f.close()"
   ]
  },
  {
   "cell_type": "code",
   "execution_count": 21,
   "id": "163f5819-71cf-43e7-90c7-b4bd3890dd98",
   "metadata": {},
   "outputs": [],
   "source": [
    "data = open(\"test.txt\" , 'r')"
   ]
  },
  {
   "cell_type": "code",
   "execution_count": 22,
   "id": "9af8cd7f-aa0d-4ebb-b556-86f63db46d25",
   "metadata": {},
   "outputs": [
    {
     "data": {
      "text/plain": [
       "'I want to become a Data Scientist'"
      ]
     },
     "execution_count": 22,
     "metadata": {},
     "output_type": "execute_result"
    }
   ],
   "source": [
    "data.read()"
   ]
  },
  {
   "cell_type": "raw",
   "id": "46a5d4ed-220e-40fb-9f01-ba806c755789",
   "metadata": {},
   "source": []
  },
  {
   "cell_type": "code",
   "execution_count": null,
   "id": "c79d6fd4-8894-4967-84bc-70adbf4febfc",
   "metadata": {},
   "outputs": [],
   "source": []
  },
  {
   "cell_type": "markdown",
   "id": "0027f957-454e-4052-9651-94761791790c",
   "metadata": {},
   "source": [
    "Q4. Explain the following with python code: read(), readline() and readlines()."
   ]
  },
  {
   "cell_type": "code",
   "execution_count": null,
   "id": "82cdce40-eba8-4c97-988f-1a71e86d7a69",
   "metadata": {},
   "outputs": [],
   "source": [
    "## answer 4\n",
    "\n",
    "# read() reads the entire file and returns a string\n",
    "with open(\"example.txt\") as f:\n",
    "    content = f.read()"
   ]
  },
  {
   "cell_type": "code",
   "execution_count": null,
   "id": "fe89d1a2-6439-47a6-b53f-70c61bf2a44b",
   "metadata": {},
   "outputs": [],
   "source": [
    "#  readline() reads just one line from a file\n",
    "\n",
    "with open(\"example.txt\") as f:\n",
    "    first_line = f.readline()\n",
    "    second_line = f.readline()\n",
    "    third_line = f.readline()\n"
   ]
  },
  {
   "cell_type": "code",
   "execution_count": null,
   "id": "439a9fb2-833e-4d66-ad3b-917b2d23c481",
   "metadata": {},
   "outputs": [],
   "source": [
    "# readlines() returns a list of strings representing the lines of the file\n",
    "\n",
    "myfile = open(\"example.txt\", \"r\")\n",
    "\n",
    "lines = myfile.readlines()\n",
    "\n",
    "for line in lines:\n",
    "    stripped_line = line.strip()\n"
   ]
  },
  {
   "cell_type": "code",
   "execution_count": null,
   "id": "94613b19-a0df-4c9c-bba7-eb93ab647ce5",
   "metadata": {},
   "outputs": [],
   "source": []
  },
  {
   "cell_type": "code",
   "execution_count": null,
   "id": "f91aa5ae-d6e1-4ea7-9fbf-9858c8f38585",
   "metadata": {},
   "outputs": [],
   "source": []
  },
  {
   "cell_type": "markdown",
   "id": "c44528e0-9c6a-4da1-b701-adca9c1ea2f1",
   "metadata": {},
   "source": [
    "Q5. Explain why with statement is used with open(). What is the advantage of using with statement and \n",
    "open() together?"
   ]
  },
  {
   "cell_type": "code",
   "execution_count": null,
   "id": "7c335b44-79fa-48df-b9d4-8519c2e9417e",
   "metadata": {},
   "outputs": [],
   "source": [
    "## answer 5\n",
    "\n",
    "The with keyword in Python is used as a context manager. \n",
    "As in any programming language, the usage of resources like file operations or database connections is very common.\n",
    "But these resources are limited in supply. "
   ]
  },
  {
   "cell_type": "code",
   "execution_count": null,
   "id": "29413988-d1df-43d1-900c-0d086a15f04c",
   "metadata": {},
   "outputs": [],
   "source": []
  },
  {
   "cell_type": "code",
   "execution_count": null,
   "id": "5ce960a8-2c55-4546-bda9-a113c6921e37",
   "metadata": {},
   "outputs": [],
   "source": []
  },
  {
   "cell_type": "markdown",
   "id": "bb8550ce-7f1a-4b6f-bc90-c89fc28563e4",
   "metadata": {},
   "source": [
    "Q6. Explain the write() and writelines() functions. Give a suitable example."
   ]
  },
  {
   "cell_type": "code",
   "execution_count": null,
   "id": "6ccca8a2-f1fb-411f-9dc7-88d2224fb402",
   "metadata": {},
   "outputs": [],
   "source": [
    "## answer 6\n",
    "\n",
    "-> write() is used to give input of same data."
   ]
  },
  {
   "cell_type": "code",
   "execution_count": 29,
   "id": "ab6107c2-e699-4dcb-a960-68a6357a4392",
   "metadata": {},
   "outputs": [
    {
     "name": "stdin",
     "output_type": "stream",
     "text": [
      "Enter the name of the employee:  neel\n",
      "Enter the name of the employee:  sudh\n",
      "Enter the name of the employee:  krish\n"
     ]
    },
    {
     "name": "stdout",
     "output_type": "stream",
     "text": [
      "Data is written into the file.\n"
     ]
    }
   ],
   "source": [
    "file = open(\"Employees.txt\", \"w\")\n",
    "  \n",
    "for i in range(3):\n",
    "   name = input(\"Enter the name of the employee: \")\n",
    "   file.write(name)\n",
    "   file.write(\"\\n\")\n",
    "     \n",
    "file.close()\n",
    "  \n",
    "print(\"Data is written into the file.\")"
   ]
  },
  {
   "cell_type": "code",
   "execution_count": null,
   "id": "0904d950-0300-44d1-8447-8398195d9d22",
   "metadata": {},
   "outputs": [],
   "source": []
  },
  {
   "cell_type": "code",
   "execution_count": null,
   "id": "9361aae2-58b4-4c3e-9d20-fdfe8046a116",
   "metadata": {},
   "outputs": [],
   "source": [
    "-> writelines() writes the content of a list to a file."
   ]
  },
  {
   "cell_type": "code",
   "execution_count": 30,
   "id": "b7d75adf-29c1-4382-a530-f58ed1778056",
   "metadata": {},
   "outputs": [
    {
     "name": "stdin",
     "output_type": "stream",
     "text": [
      "Enter the name of the employee:  dev\n",
      "Enter the name of the employee:  kumar\n",
      "Enter the name of the employee:  naik\n"
     ]
    },
    {
     "name": "stdout",
     "output_type": "stream",
     "text": [
      "Data is written into the file.\n"
     ]
    }
   ],
   "source": [
    "file1 = open(\"Employees.txt\", \"w\")\n",
    "lst = []\n",
    "for i in range(3):\n",
    "    name = input(\"Enter the name of the employee: \")\n",
    "    lst.append(name + '\\n')\n",
    "      \n",
    "file1.writelines(lst)\n",
    "file1.close()\n",
    "print(\"Data is written into the file.\") \n"
   ]
  },
  {
   "cell_type": "code",
   "execution_count": null,
   "id": "26595347-cab8-4a0a-8697-39ca19a19a9e",
   "metadata": {},
   "outputs": [],
   "source": []
  }
 ],
 "metadata": {
  "kernelspec": {
   "display_name": "Python 3 (ipykernel)",
   "language": "python",
   "name": "python3"
  },
  "language_info": {
   "codemirror_mode": {
    "name": "ipython",
    "version": 3
   },
   "file_extension": ".py",
   "mimetype": "text/x-python",
   "name": "python",
   "nbconvert_exporter": "python",
   "pygments_lexer": "ipython3",
   "version": "3.10.8"
  }
 },
 "nbformat": 4,
 "nbformat_minor": 5
}
