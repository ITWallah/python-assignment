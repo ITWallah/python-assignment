{
 "cells": [
  {
   "cell_type": "markdown",
   "id": "4c934f65-b46c-49ba-a277-7e8ecc0ff6e6",
   "metadata": {},
   "source": [
    "## Assignment(16/02/2023)"
   ]
  },
  {
   "cell_type": "markdown",
   "id": "8dfea91a-1c3d-43eb-9aef-606681434981",
   "metadata": {},
   "source": [
    "Q1. What is a database? Differentiate between SQL and NoSQL databases."
   ]
  },
  {
   "cell_type": "markdown",
   "id": "a70030b2-0eab-46d9-ac64-5069926e0dd5",
   "metadata": {},
   "source": [
    "## ANSWER : 1\n",
    "\n",
    "-> The Database is an essential part of our life. As we encounter several activities that involve our interaction with databases, for example in the bank, in the railway station, in school, in a grocery store, etc.\n",
    "\n",
    "difference:\n",
    "SQL=SQL, which stands for “Structured Query Language,” is the programming language that’s been widely used in managing data in relational database management systems (RDBMS) since the 1970s. In the early years, when storage was expensive, SQL databases focused on reducing data duplication\n",
    "\n",
    "NoSQL=NoSQL is a non-relational database, meaning it allows different structures than a SQL database (not rows and columns) and more flexibility to use a format that best fits the data. The term “NoSQL” was not coined until the early 2000s.\n"
   ]
  },
  {
   "cell_type": "code",
   "execution_count": null,
   "id": "7221a3ba-7b70-4661-ba46-b6f9d88f78bb",
   "metadata": {},
   "outputs": [],
   "source": []
  },
  {
   "cell_type": "code",
   "execution_count": null,
   "id": "75162f15-c59e-4bbd-afce-03a43fc9bb1a",
   "metadata": {},
   "outputs": [],
   "source": []
  },
  {
   "cell_type": "markdown",
   "id": "ff880ecf-5a52-42a2-aff5-01d87fcb935b",
   "metadata": {},
   "source": [
    "Q2. What is DDL? Explain why CREATE, DROP, ALTER, and TRUNCATE are used with an example."
   ]
  },
  {
   "cell_type": "code",
   "execution_count": null,
   "id": "0cd5a0ff-85ee-4e5d-9c78-3038c9281918",
   "metadata": {},
   "outputs": [],
   "source": [
    "## ANSWER: 2\n",
    "\n",
    " # DDL or Data Definition Language actually consists of the SQL commands that can \n",
    "    # be used to define the database schema. It simply deals with descriptions of the database schema \n",
    "    # and is used to create and modify the structure of database objects in the database. \n",
    "    # DDL is a set of SQL commands used to create, modify, and delete database structures but not data. \n",
    "    # These commands are normally not used by a general user, who should be accessing the database via an application.\n",
    "    # List of DDL commands: \n",
    "    # CREATE: This command is used to create the database or its objects (like table, index, \n",
    "    # function, views, store procedure, and triggers).\n",
    "\n",
    "    # DROP: This command is used to delete objects from the database.\n",
    "\n",
    "    # ALTER: This is used to alter the structure of the database.\n",
    "\n",
    "    # TRUNCATE: This is used to remove all records from a table, including all spaces allocated for the records are removed.\n",
    "\n",
    "# Create a database\n",
    "import mysql.connector\n",
    "mydb=mysql.connector.connect(\n",
    "    host=\"localhost\",\n",
    "    user=\"abc\",\n",
    "    password=\"password\"\n",
    ")\n",
    "print(mydb)\n",
    "my_cursor=mydb.cursor()\n",
    "my_cursor.execute(\"create database if not exists data_base\")\n",
    "mydb.close()\n",
    "\n",
    "# Create a table\n",
    "\n",
    "import mysql.connector\n",
    "mydb=mysql.connector.connect(\n",
    "    host=\"localhost\",\n",
    "    user=\"abc\",\n",
    "    password=\"password\"\n",
    ")\n",
    "print(mydb)\n",
    "my_cursor=mydb.cursor()\n",
    "my_cursor.execute(\"create table if not exists data_base.table1 (c1 int, c2 varchar(40))\")\n",
    "mydb.close()\n",
    "\n",
    "# alter \n",
    "\n",
    "import mysql.connector\n",
    "mydb=mysql.connector.connect(\n",
    "    host=\"localhost\",\n",
    "    user=\"abc\",\n",
    "    password=\"password\"\n",
    ")\n",
    "print(mydb)\n",
    "my_cursor=mydb.cursor()\n",
    "my_cursor.execute(\"alter table data_base.table1 add (c5 char(30))\")\n",
    "mydb.close()\n",
    "\n",
    "# Truncate\n",
    "import mysql.connector\n",
    "mydb=mysql.connector.connect(\n",
    "    host=\"localhost\",\n",
    "    user=\"abc\",\n",
    "    password=\"password\"\n",
    ")\n",
    "print(mydb)\n",
    "my_cursor=mydb.cursor()\n",
    "my_cursor.execute(\"Truncate table data_base.table1\")\n",
    "mydb.close()\n",
    "\n",
    "# drop\n",
    "import mysql.connector\n",
    "mydb=mysql.connector.connect(\n",
    "    host=\"localhost\",\n",
    "    user=\"abc\",\n",
    "    password=\"password\"\n",
    ")\n",
    "print(mydb)\n",
    "my_cursor=mydb.cursor()\n",
    "my_cursor.execute(\"Drop table data_base.table1\")\n",
    "mydb.close()\n"
   ]
  },
  {
   "cell_type": "code",
   "execution_count": null,
   "id": "537c2e4a-2b47-4169-9d8c-c9d057b46986",
   "metadata": {},
   "outputs": [],
   "source": []
  },
  {
   "cell_type": "code",
   "execution_count": null,
   "id": "a6efa410-eef5-4b84-83a5-55039a88c203",
   "metadata": {},
   "outputs": [],
   "source": []
  },
  {
   "cell_type": "markdown",
   "id": "915879f5-3f16-4967-8d4d-2deacb8de57b",
   "metadata": {},
   "source": [
    "Q3. What is DML? Explain INSERT, UPDATE, and DELETE with an example."
   ]
  },
  {
   "cell_type": "code",
   "execution_count": null,
   "id": "8323e939-6bca-402e-9a6a-dbf398a0f278",
   "metadata": {},
   "outputs": [],
   "source": [
    "## ANSWER : 3\n",
    "\n",
    " #The SQL commands that deals with the manipulation of data present in the \n",
    "    # database belong to DML or Data Manipulation Language and this includes most of the SQL statements.\n",
    "    #  It is the component of the SQL statement that controls access to data and to the database.\n",
    "    # Basically, DCL statements are grouped with DML statements.\n",
    "    # List of DML commands:\n",
    "    # INSERT : It is used to insert data into a table.\n",
    "    # UPDATE: It is used to update existing data within a table.\n",
    "    # DELETE : It is used to delete records from a database table.\n",
    "\n",
    "#Table is created\n",
    "import mysql.connector\n",
    "mydb=mysql.connector.connect(\n",
    "    host='localhost',\n",
    "    user='abc',\n",
    "    password='password'\n",
    ")\n",
    "print(mydb)\n",
    "my_cursor=mydb.cursor()\n",
    "my_cursor.execute('CREATE TABLE if not exists data_base.table2 (c1 int, c2 varchar(40)) ')\n",
    "mydb.close()\n",
    "\n",
    "#INSERT DATA Into table\n",
    "import mysql.connector\n",
    "mydb=mysql.connector.connect(\n",
    "    host='localhost',\n",
    "    user='abc',\n",
    "    password='password'\n",
    ")\n",
    "print(mydb),\n",
    "my_cursor=mydb.cursor()\n",
    "my_cursor.execute('insert into data_base.table2 values(1224, \"PWSKILLS\")')\n",
    "my_cursor.execute('insert into data_base.table2 values(2005, \"DATA SCIENCE\")')\n",
    "mydb.close()\n",
    "\n",
    "#update\n",
    "import mysql.connector\n",
    "mydb=mysql.connector.connect(\n",
    "    host='localhost',\n",
    "    user='abc',\n",
    "    password='password'\n",
    ")\n",
    "print(mydb),\n",
    "my_cursor=mydb.cursor()\n",
    "my_cursor.execute('UPDATE data_base.table2 SET c2 = \"SKILLS\" WHERE c2 = \"PWSKILLS\"')\n",
    "mydb.close()\n",
    "\n",
    "#delete\n",
    "import mysql.connector\n",
    "mydb=mysql.connector.connect(\n",
    "    host='localhost',\n",
    "    user='abc',\n",
    "    password='password'\n",
    ")\n",
    "print(mydb),\n",
    "my_cursor=mydb.cursor()\n",
    "my_cursor.execute('DELETE from data_base.table2 WHERE c2 = \"PWSKILLS\"')\n",
    "mydb.close()"
   ]
  },
  {
   "cell_type": "code",
   "execution_count": null,
   "id": "3fc84347-ca72-4dda-8ddc-b8810df6534d",
   "metadata": {},
   "outputs": [],
   "source": []
  },
  {
   "cell_type": "code",
   "execution_count": null,
   "id": "7bd5ef0c-4547-4638-adc9-6774f690ac77",
   "metadata": {},
   "outputs": [],
   "source": []
  },
  {
   "cell_type": "markdown",
   "id": "c6cac707-6f0a-4a50-ad41-2ee3158b051e",
   "metadata": {},
   "source": [
    "Q4. What is DQL? Explain SELECT with an example."
   ]
  },
  {
   "cell_type": "code",
   "execution_count": null,
   "id": "5a08ed8d-6d6e-43fc-9460-d44b89dd771a",
   "metadata": {},
   "outputs": [],
   "source": [
    "## answer 4:\n",
    "\n",
    " #DQL statements are used for performing queries on the data within schema objects\n",
    "    # Select -- the result is compiled into a further temporary table, \n",
    "    # which is displayed or perhaps received by the program\n",
    "\n",
    "import mysql.connector\n",
    "mydb=mysql.connector.connect(\n",
    "    host='localhost',\n",
    "    user='abc',\n",
    "    password='password'\n",
    ")\n",
    "print(mydb),\n",
    "my_cursor=mydb.cursor()\n",
    "my_cursor.execute('SELECT * FROM data_base.table2')\n",
    "mydb.close()"
   ]
  },
  {
   "cell_type": "code",
   "execution_count": null,
   "id": "66b59af5-16d3-4380-ac39-1df555526ac8",
   "metadata": {},
   "outputs": [],
   "source": []
  },
  {
   "cell_type": "code",
   "execution_count": null,
   "id": "936af44d-d4d8-4d4b-9380-3f82381224f0",
   "metadata": {},
   "outputs": [],
   "source": []
  },
  {
   "cell_type": "markdown",
   "id": "f7d837f5-b3a1-4e89-bdcf-1c808dfa23b1",
   "metadata": {},
   "source": [
    "Q5. Explain Primary Key and Foreign Key."
   ]
  },
  {
   "cell_type": "code",
   "execution_count": null,
   "id": "097b2651-36bc-4387-881a-24208f371d02",
   "metadata": {},
   "outputs": [],
   "source": [
    "#Primary Key: A primary key is used to ensure that data in the specific column is unique.\n",
    "    #  A column cannot have NULL values. It is either an existing table column or a column that \n",
    "    # is specifically generated by the database according to a defined sequence. \n",
    "\n",
    "    # Foreign Key: \n",
    "    # A foreign key is a column or group of columns in a relational database table that provides \n",
    "    # a link between data in two tables. It is a column (or columns) that references a column \n",
    "    # (most often the primary key) of another table. "
   ]
  },
  {
   "cell_type": "code",
   "execution_count": null,
   "id": "415be624-00db-482a-b4e6-d91a174d73b0",
   "metadata": {},
   "outputs": [],
   "source": []
  },
  {
   "cell_type": "code",
   "execution_count": null,
   "id": "b41fb0de-e12c-40d3-b8a0-793e64b612a9",
   "metadata": {},
   "outputs": [],
   "source": []
  },
  {
   "cell_type": "markdown",
   "id": "d28d4e9d-75f0-4b03-a851-4b82d482452d",
   "metadata": {},
   "source": [
    "Q6. Write a python code to connect MySQL to python. Explain the cursor() and execute() method."
   ]
  },
  {
   "cell_type": "code",
   "execution_count": null,
   "id": "50dc8881-0a08-4767-a90e-3b973bcf1939",
   "metadata": {},
   "outputs": [],
   "source": [
    "## answer 6\n",
    "\n",
    " #Cursor() The cursor () method is used to create a cursor object, which is used to execute SQL queries. \n",
    "    #execute () method is used to execute an SQL query, \n",
    "    #fetchall () method is used to fetch all the rows of the result set\n",
    "    \n",
    "import mysql.connector\n",
    "mydb=mysql.connector.connect(\n",
    "    host='localhost',\n",
    "    user='abc',\n",
    "    password='password'\n",
    ")\n",
    "print(mydb),\n",
    "my_cursor=mydb.cursor()\n",
    "my_cursor.execute('SELECT * FROM data_base.table2')\n",
    "mydb.close()"
   ]
  },
  {
   "cell_type": "code",
   "execution_count": null,
   "id": "1ab2efe4-9345-499c-bcc4-97a9d3088c71",
   "metadata": {},
   "outputs": [],
   "source": []
  },
  {
   "cell_type": "code",
   "execution_count": null,
   "id": "ce814d1c-aa9c-4147-bdf6-ebce2b7ae724",
   "metadata": {},
   "outputs": [],
   "source": []
  },
  {
   "cell_type": "code",
   "execution_count": null,
   "id": "e280ef6f-5c58-4559-9bfb-426f5fab183c",
   "metadata": {},
   "outputs": [],
   "source": [
    "Q7. Give the order of execution of SQL clauses in an SQL query."
   ]
  },
  {
   "cell_type": "code",
   "execution_count": null,
   "id": "2d972f0b-62a5-40cf-84f0-547eee9b5102",
   "metadata": {},
   "outputs": [],
   "source": [
    "## answer 7\n",
    " #FROM\n",
    "    #   ON\n",
    "    #   JOIN\n",
    "    #   WHERE\n",
    "    #   GROUP BY\n",
    "    #   WITH CUBE or WITH ROLLUP\n",
    "    #   HAVING\n",
    "    #   SELECT\n",
    "    #   DISTINCT\n",
    "    #   ORDER BY\n",
    "    #   TOP"
   ]
  },
  {
   "cell_type": "code",
   "execution_count": null,
   "id": "5f51735b-5425-492d-9e02-6b516f937bc6",
   "metadata": {},
   "outputs": [],
   "source": []
  },
  {
   "cell_type": "code",
   "execution_count": null,
   "id": "d3602ea5-422b-4c0c-8e72-76d5ec3536df",
   "metadata": {},
   "outputs": [],
   "source": []
  },
  {
   "cell_type": "code",
   "execution_count": null,
   "id": "987a4dab-acbf-4209-a3ce-4a2e511cd97c",
   "metadata": {},
   "outputs": [],
   "source": []
  }
 ],
 "metadata": {
  "kernelspec": {
   "display_name": "Python 3 (ipykernel)",
   "language": "python",
   "name": "python3"
  },
  "language_info": {
   "codemirror_mode": {
    "name": "ipython",
    "version": 3
   },
   "file_extension": ".py",
   "mimetype": "text/x-python",
   "name": "python",
   "nbconvert_exporter": "python",
   "pygments_lexer": "ipython3",
   "version": "3.10.8"
  }
 },
 "nbformat": 4,
 "nbformat_minor": 5
}
