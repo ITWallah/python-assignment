{
 "cells": [
  {
   "cell_type": "markdown",
   "id": "80e2a2b7-43ed-4fdb-a825-84d9ccf89d44",
   "metadata": {},
   "source": [
    "## Assignment(26/FEB2023) NUMPY"
   ]
  },
  {
   "cell_type": "code",
   "execution_count": 4,
   "id": "d1edf10b-31d1-45aa-ac53-83974c201a6a",
   "metadata": {},
   "outputs": [],
   "source": [
    "import numpy as np\n",
    "\n",
    "list_ = [ '1' , '2' , '3' , '4' , '5' ]\n",
    "\n",
    "array_list = np.array(object = list_)"
   ]
  },
  {
   "cell_type": "markdown",
   "id": "6bb0a1dc-2d0b-4548-833d-71bd314f0ec2",
   "metadata": {},
   "source": [
    "Q1. Is there any difference in the data type of variables list_ and array_list? If there is then write a code \n",
    "to print the data types of both the variables."
   ]
  },
  {
   "cell_type": "code",
   "execution_count": null,
   "id": "c63fd1ab-4c2b-4b96-9152-b4b4c3b4960e",
   "metadata": {},
   "outputs": [],
   "source": [
    "## answer 1:\n",
    "\n",
    "-> n Python, there is no specific data type called \"array_list.\" However, there is a data type called \"list\" that can be used to store a collection of elements. Therefore, it's important to clarify the context in which you are referring to \"array_list\" to provide an accurate answer. "
   ]
  },
  {
   "cell_type": "code",
   "execution_count": 5,
   "id": "317930ec-f684-4572-af99-10febf887b06",
   "metadata": {},
   "outputs": [
    {
     "name": "stdout",
     "output_type": "stream",
     "text": [
      "Data type of list_: <class 'list'>\n",
      "Data type of array_list: <class 'array.array'>\n"
     ]
    }
   ],
   "source": [
    "import array\n",
    "\n",
    "# Regular list\n",
    "list_ = [1, 2, 3, 4, 5]\n",
    "\n",
    "# Array list\n",
    "array_list = array.array('i', [1, 2, 3, 4, 5])\n",
    "\n",
    "# Printing the data types\n",
    "print(\"Data type of list_:\", type(list_))\n",
    "print(\"Data type of array_list:\", type(array_list))\n"
   ]
  },
  {
   "cell_type": "code",
   "execution_count": null,
   "id": "bae72315-ec9d-44e1-b16e-5978ec45e8d0",
   "metadata": {},
   "outputs": [],
   "source": []
  },
  {
   "cell_type": "code",
   "execution_count": null,
   "id": "f1b325bb-da3f-475d-8628-ffbe678915a6",
   "metadata": {},
   "outputs": [],
   "source": []
  },
  {
   "cell_type": "markdown",
   "id": "8ebe1ead-921c-4748-bcb6-0ed4298a2ee2",
   "metadata": {},
   "source": [
    "Q2. Write a code to print the data type of each and every element of both the variables list_ and \n",
    "arra_list."
   ]
  },
  {
   "cell_type": "code",
   "execution_count": 8,
   "id": "a236ec04-bf70-4c34-80fb-18b8d756125d",
   "metadata": {},
   "outputs": [
    {
     "name": "stdout",
     "output_type": "stream",
     "text": [
      "<class 'int'>\n",
      "<class 'int'>\n",
      "<class 'int'>\n",
      "<class 'int'>\n",
      "<class 'int'>\n",
      "\n",
      "<class 'int'>\n",
      "<class 'int'>\n",
      "<class 'int'>\n",
      "<class 'int'>\n",
      "<class 'int'>\n"
     ]
    }
   ],
   "source": [
    "## answer 2:\n",
    "\n",
    "for i in list_:\n",
    "    print(type(i))\n",
    "    \n",
    "print()    \n",
    "    \n",
    "for x in array_list:\n",
    "    print(type(x))"
   ]
  },
  {
   "cell_type": "code",
   "execution_count": null,
   "id": "4a1e47ae-85aa-41a6-ad8c-a90f4fe5d127",
   "metadata": {},
   "outputs": [],
   "source": []
  },
  {
   "cell_type": "code",
   "execution_count": null,
   "id": "b82e4cf6-2158-4825-84ee-dbb96a5ebce7",
   "metadata": {},
   "outputs": [],
   "source": []
  },
  {
   "cell_type": "markdown",
   "id": "78d09ed8-d6e6-41d5-95d8-60fc029998ea",
   "metadata": {},
   "source": [
    "Q3. Considering the following changes in the variable, array_list:\n",
    "\n",
    "array_list = np.array(object = list_, dtype = int)\n",
    "\n",
    "Will there be any difference in the data type of the elements present in both the variables, list_ and \n",
    "arra_list? If so then print the data types of each and every element present in both the variables, list_ \n",
    "and arra_list."
   ]
  },
  {
   "cell_type": "code",
   "execution_count": 2,
   "id": "e13ab20d-53ed-4b0b-b53c-02bd14c1aebb",
   "metadata": {},
   "outputs": [],
   "source": [
    "## answer 3:\n",
    "\n",
    "import numpy as np\n",
    "\n",
    "num_list = [ [ 1 , 2 , 3 ] , [ 4 , 5 , 6 ] ]\n",
    "\n",
    "num_array = np.array(object = num_list)"
   ]
  },
  {
   "cell_type": "code",
   "execution_count": null,
   "id": "6058564b-d772-4ffd-9ceb-7e6170abf53a",
   "metadata": {},
   "outputs": [],
   "source": []
  },
  {
   "cell_type": "code",
   "execution_count": null,
   "id": "aec74494-ba62-480d-8c67-882af39d58af",
   "metadata": {},
   "outputs": [],
   "source": []
  },
  {
   "cell_type": "markdown",
   "id": "f13a19b8-7668-4db1-ab24-c7a649487b38",
   "metadata": {},
   "source": [
    "Q4. Write a code to find the following characteristics of variable, num_array:\n",
    "\n",
    "(i)\t shape\n",
    "\n",
    "(ii) size"
   ]
  },
  {
   "cell_type": "code",
   "execution_count": 11,
   "id": "8aa69261-345c-4397-a602-6d4863567ac9",
   "metadata": {},
   "outputs": [
    {
     "name": "stdout",
     "output_type": "stream",
     "text": [
      "5 5\n",
      "(5,) (5,)\n"
     ]
    }
   ],
   "source": [
    "## answer 4:\n",
    "\n",
    "a = np.size(list_)\n",
    "b = np.size(array_list)\n",
    "\n",
    "print(a,b)\n",
    "\n",
    "c = np.shape(list_)\n",
    "d = np.shape(array_list)\n",
    "\n",
    "print(c,d)"
   ]
  },
  {
   "cell_type": "code",
   "execution_count": null,
   "id": "5d84b133-6fc4-484f-bdef-d1f8f9be2510",
   "metadata": {},
   "outputs": [],
   "source": []
  },
  {
   "cell_type": "code",
   "execution_count": null,
   "id": "bd6c0ae1-0da4-4b3c-babc-f0617f8f0913",
   "metadata": {},
   "outputs": [],
   "source": []
  },
  {
   "cell_type": "markdown",
   "id": "060c5437-f7fd-4f04-b6b4-285082a5737f",
   "metadata": {},
   "source": [
    "Q5. Write a code to create numpy array of 3*3 matrix containing zeros only, using a numpy array \n",
    "creation function."
   ]
  },
  {
   "cell_type": "code",
   "execution_count": 2,
   "id": "6a3d1a07-a9a1-426c-b5dd-b48ffc6b180f",
   "metadata": {},
   "outputs": [
    {
     "data": {
      "text/plain": [
       "array([[0., 0., 0.],\n",
       "       [0., 0., 0.],\n",
       "       [0., 0., 0.]])"
      ]
     },
     "execution_count": 2,
     "metadata": {},
     "output_type": "execute_result"
    }
   ],
   "source": [
    "import numpy as np\n",
    "\n",
    "s = (3,3)\n",
    "np.zeros(s)"
   ]
  },
  {
   "cell_type": "code",
   "execution_count": null,
   "id": "91fa13ce-9ee5-4d6a-900c-4a7884416908",
   "metadata": {},
   "outputs": [],
   "source": []
  },
  {
   "cell_type": "code",
   "execution_count": null,
   "id": "803d8ed7-9296-4556-ad33-717c0609b721",
   "metadata": {},
   "outputs": [],
   "source": []
  },
  {
   "cell_type": "markdown",
   "id": "af26c05d-5875-4281-b0b8-9a2a5c886a98",
   "metadata": {},
   "source": [
    "Q6. Create an identity matrix of shape (5,5) using numpy functions?"
   ]
  },
  {
   "cell_type": "code",
   "execution_count": 4,
   "id": "ba435cef-f7f4-49b8-856e-5a63b1a73a2d",
   "metadata": {},
   "outputs": [
    {
     "data": {
      "text/plain": [
       "array([[1., 0., 0., 0., 0.],\n",
       "       [0., 1., 0., 0., 0.],\n",
       "       [0., 0., 1., 0., 0.],\n",
       "       [0., 0., 0., 1., 0.],\n",
       "       [0., 0., 0., 0., 1.]])"
      ]
     },
     "execution_count": 4,
     "metadata": {},
     "output_type": "execute_result"
    }
   ],
   "source": [
    "np.identity(5)"
   ]
  },
  {
   "cell_type": "code",
   "execution_count": null,
   "id": "087af587-038c-4e3f-b926-7de4eb1803e7",
   "metadata": {},
   "outputs": [],
   "source": []
  },
  {
   "cell_type": "code",
   "execution_count": null,
   "id": "92f53a34-d6be-454a-a0b6-70ce21affa85",
   "metadata": {},
   "outputs": [],
   "source": []
  },
  {
   "cell_type": "code",
   "execution_count": null,
   "id": "22b84634-383c-4eb5-908d-4464a8f1d5ae",
   "metadata": {},
   "outputs": [],
   "source": []
  },
  {
   "cell_type": "code",
   "execution_count": null,
   "id": "c5685e20-97d7-451e-ac4b-7c5834518f6d",
   "metadata": {},
   "outputs": [],
   "source": []
  },
  {
   "cell_type": "code",
   "execution_count": null,
   "id": "ece7494e-f459-4eda-bb1d-e4e50cbd52d3",
   "metadata": {},
   "outputs": [],
   "source": []
  },
  {
   "cell_type": "code",
   "execution_count": null,
   "id": "525bee3d-f20e-4ef6-9185-fa0c91f81c65",
   "metadata": {},
   "outputs": [],
   "source": []
  }
 ],
 "metadata": {
  "kernelspec": {
   "display_name": "Python 3 (ipykernel)",
   "language": "python",
   "name": "python3"
  },
  "language_info": {
   "codemirror_mode": {
    "name": "ipython",
    "version": 3
   },
   "file_extension": ".py",
   "mimetype": "text/x-python",
   "name": "python",
   "nbconvert_exporter": "python",
   "pygments_lexer": "ipython3",
   "version": "3.10.8"
  }
 },
 "nbformat": 4,
 "nbformat_minor": 5
}
