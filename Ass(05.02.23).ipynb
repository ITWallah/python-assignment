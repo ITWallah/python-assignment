{
 "cells": [
  {
   "cell_type": "markdown",
   "id": "28721dc4-fa48-4eee-882a-162f3365a9c9",
   "metadata": {
    "tags": []
   },
   "source": [
    "# Assignment(05/FEB/2023)"
   ]
  },
  {
   "cell_type": "code",
   "execution_count": null,
   "id": "5d496482-1cdd-4032-b40e-9104add0d33b",
   "metadata": {},
   "outputs": [],
   "source": []
  },
  {
   "cell_type": "markdown",
   "id": "a6f7e586-733c-4b95-8955-0e843d608b1a",
   "metadata": {},
   "source": [
    "Q1. Explain Class and Object with respect to Object-Oriented Programming. Give a suitable example."
   ]
  },
  {
   "cell_type": "raw",
   "id": "fb33e615-deb8-4f0d-93e5-52d579544746",
   "metadata": {},
   "source": [
    "## answer 1:\n",
    "\n",
    "==>CLASS:\n",
    "-> A class is a collection of objects. A class contains the blueprints or the prototype from which the objects are being created. It is a logical entity that contains some attributes and methods. \n",
    "\n",
    "-> Classes are created by keyword class.\n",
    "-> Attributes are the variables that belong to a class."
   ]
  },
  {
   "cell_type": "raw",
   "id": "389d520a-cab9-45b3-8fd5-f6e9a8f5832f",
   "metadata": {},
   "source": [
    "==>OBJECT: \n",
    "-> The object is an entity that has a state and behavior associated with it. It may be any real-world object like a mouse, keyboard, chair, table, pen, etc. Integers, strings, floating-point numbers, even arrays, and dictionaries, are all objects. More specifically, any single integer or any single string is an object."
   ]
  },
  {
   "cell_type": "code",
   "execution_count": 15,
   "id": "c98a948c-431c-411c-a340-e4d207c2f5ed",
   "metadata": {},
   "outputs": [],
   "source": [
    "## example\n",
    "\n",
    "class student:\n",
    "    def __init__(self, s_name, s_id, s_number ):  \n",
    "     \n",
    "        self.s_name = s_name\n",
    "        self.s_id = s_id\n",
    "        self.s_number = s_number\n",
    "      \n",
    "    def return_student_details(self):    \n",
    "        \n",
    "        return self.s_name ,self.s_id, self.s_number\n",
    "       "
   ]
  },
  {
   "cell_type": "code",
   "execution_count": 18,
   "id": "74151ed5-568e-405a-afb5-a02a6b4ed6db",
   "metadata": {},
   "outputs": [],
   "source": [
    "# Object instantiation\n",
    "\n",
    "a = student('neel',101,799010)\n",
    "b = student('sudh',102,987654)"
   ]
  },
  {
   "cell_type": "code",
   "execution_count": 20,
   "id": "ede28f4a-42a6-4757-b656-bacfa8c28ab4",
   "metadata": {},
   "outputs": [
    {
     "data": {
      "text/plain": [
       "799010"
      ]
     },
     "execution_count": 20,
     "metadata": {},
     "output_type": "execute_result"
    }
   ],
   "source": [
    "a.s_number"
   ]
  },
  {
   "cell_type": "raw",
   "id": "69a43987-12e8-45e0-be95-31e26ecb95f8",
   "metadata": {},
   "source": [
    "b.return_student_details()"
   ]
  },
  {
   "cell_type": "code",
   "execution_count": null,
   "id": "c8311eda-d681-4fe5-a3bf-9ecc5ced3c8e",
   "metadata": {},
   "outputs": [],
   "source": []
  },
  {
   "cell_type": "code",
   "execution_count": null,
   "id": "436ec831-0ef6-49d8-86d0-7aad22652f8d",
   "metadata": {},
   "outputs": [],
   "source": []
  },
  {
   "cell_type": "markdown",
   "id": "800789be-5c05-446a-982c-7d05b7ff16e9",
   "metadata": {},
   "source": [
    "Q2. Name the four pillars of OOPs"
   ]
  },
  {
   "cell_type": "raw",
   "id": "92a0c340-a26b-4296-9fa0-63268f62563b",
   "metadata": {},
   "source": [
    "## answer 2\n",
    "\n",
    "1. Encapsulation\n",
    "2. Inheritance\n",
    "3. Polymorphism\n",
    "4. Abstraction"
   ]
  },
  {
   "cell_type": "code",
   "execution_count": null,
   "id": "d3eebeb8-46b0-498d-aba3-a4ef4c29e957",
   "metadata": {},
   "outputs": [],
   "source": []
  },
  {
   "cell_type": "code",
   "execution_count": null,
   "id": "0264f72d-dbbe-4924-95a6-4d86ac6c031d",
   "metadata": {},
   "outputs": [],
   "source": []
  },
  {
   "cell_type": "markdown",
   "id": "f788b20c-ea57-4906-a6e0-f1eac10348f0",
   "metadata": {},
   "source": [
    "Q3. Explain why the __init__() function is used. Give a suitable example."
   ]
  },
  {
   "cell_type": "raw",
   "id": "f1fd8eaa-f746-44e0-a80d-01d450e03428",
   "metadata": {},
   "source": [
    "## answer 3\n",
    "\n",
    "-> The __init__ is a constructor which take data.\n",
    "->Constructors are used to initializing the object’s state. The task of constructors is to initialize(assign values) to the data members of the class when an object of the class is created."
   ]
  },
  {
   "cell_type": "code",
   "execution_count": 31,
   "id": "7eda2fad-78d1-4499-9f08-063f1280aa30",
   "metadata": {},
   "outputs": [],
   "source": [
    "## example\n",
    "\n",
    "class person:\n",
    "    def __init__(self, name, age):\n",
    "        self.name = name\n",
    "        self.age = age\n",
    " \n",
    "    def return_person_details(self):\n",
    "        return self.name , self.age"
   ]
  },
  {
   "cell_type": "code",
   "execution_count": 35,
   "id": "62133060-5dbc-42dc-a12e-67cfcb95e708",
   "metadata": {},
   "outputs": [],
   "source": [
    "x = person('neel',18)"
   ]
  },
  {
   "cell_type": "code",
   "execution_count": 36,
   "id": "a83b7502-a1b2-4aa1-ae0c-3105149e8642",
   "metadata": {},
   "outputs": [
    {
     "data": {
      "text/plain": [
       "'neel'"
      ]
     },
     "execution_count": 36,
     "metadata": {},
     "output_type": "execute_result"
    }
   ],
   "source": [
    "x.name"
   ]
  },
  {
   "cell_type": "code",
   "execution_count": null,
   "id": "84abb4c5-a9d9-4188-96d2-fb9d54f6d85e",
   "metadata": {},
   "outputs": [],
   "source": []
  },
  {
   "cell_type": "code",
   "execution_count": null,
   "id": "69d51e70-29a3-4905-91a6-a458fbda2038",
   "metadata": {},
   "outputs": [],
   "source": []
  },
  {
   "cell_type": "markdown",
   "id": "ce934cb0-2742-42b6-b06b-2d9b8ffb5a05",
   "metadata": {},
   "source": [
    "Q4. Why self is used in OOPs?"
   ]
  },
  {
   "cell_type": "raw",
   "id": "18601c23-d58a-4e00-be57-dbfc8e8eae10",
   "metadata": {},
   "source": [
    "## answer 4\n",
    "\n",
    "-> The self is used to represent the instance of the class. With this keyword, you can access the attributes and methods of the class in python. \n",
    "\n",
    "-> It binds the attributes with the given arguments.\n",
    "\n",
    "==> We can use other pointer instead of SELF."
   ]
  },
  {
   "cell_type": "code",
   "execution_count": null,
   "id": "fb104be0-517c-4b65-ba8c-bb91c216859a",
   "metadata": {},
   "outputs": [],
   "source": []
  },
  {
   "cell_type": "code",
   "execution_count": null,
   "id": "694d74fd-9830-4d87-a680-bcab6e19b87d",
   "metadata": {},
   "outputs": [],
   "source": []
  },
  {
   "cell_type": "markdown",
   "id": "25446d59-2c72-42cb-b8a3-da589d71ec99",
   "metadata": {},
   "source": [
    "Q5. What is inheritance? Give an example for each type of inheritance."
   ]
  },
  {
   "cell_type": "raw",
   "id": "1e52cd74-8ecf-4460-bdef-4f012b9e35c1",
   "metadata": {},
   "source": [
    "## answer 5\n",
    "\n",
    "-> Inheritance provides the reusability of a code.\n",
    "\n",
    "-> We don’t have to write the same code again and again. Also, it allows us to add more features to a class without modifying    it.\n",
    "\n",
    "-> It is transitive in nature, which means that if class B inherits from another class A, then all the subclasses of B would    automatically inherit from class A.\n",
    "\n",
    "-> Inheritance offers a simple, understandable model structure. \n",
    "\n",
    "-> Types of inheritance:\n",
    "   1. single inheritance.\n",
    "   2. multiple inheritance.\n",
    "   3. multilevel inheritance.\n",
    "   4. hierarchical inheritance.\n",
    "   5. hybrid inheritance."
   ]
  },
  {
   "cell_type": "code",
   "execution_count": 37,
   "id": "215ce5c0-6504-440d-9e50-eeec18bbf8e5",
   "metadata": {},
   "outputs": [],
   "source": [
    "## single inheritance\n",
    "\n",
    "class Parent:\n",
    "    def func1(self):\n",
    "        print(\"This function is in parent class.\")\n",
    " \n",
    "\n",
    "class Child(Parent):\n",
    "    def func2(self):\n",
    "        print(\"This function is in child class.\")"
   ]
  },
  {
   "cell_type": "code",
   "execution_count": 38,
   "id": "5e42e7a8-592a-421d-82a2-3b3893db0b91",
   "metadata": {},
   "outputs": [
    {
     "name": "stdout",
     "output_type": "stream",
     "text": [
      "This function is in parent class.\n",
      "This function is in child class.\n"
     ]
    }
   ],
   "source": [
    "object = Child()\n",
    "object.func1()\n",
    "object.func2()"
   ]
  },
  {
   "cell_type": "code",
   "execution_count": null,
   "id": "383dabf1-4813-4050-aafb-48138b957e28",
   "metadata": {},
   "outputs": [],
   "source": []
  },
  {
   "cell_type": "code",
   "execution_count": 39,
   "id": "c1464bab-e0e7-4b85-a39b-d045a8377d86",
   "metadata": {},
   "outputs": [],
   "source": [
    "## multiple inheritance\n",
    "\n",
    "class Mother:\n",
    "    mothername = \"\"\n",
    " \n",
    "    def mother(self):\n",
    "        print(self.mothername)\n",
    " \n",
    "\n",
    "class Father:\n",
    "    fathername = \"\"\n",
    " \n",
    "    def father(self):\n",
    "        print(self.fathername)\n",
    " \n",
    " \n",
    "class Son(Mother, Father):\n",
    "    def parents(self):\n",
    "        print(\"Father :\", self.fathername)\n",
    "        print(\"Mother :\", self.mothername)"
   ]
  },
  {
   "cell_type": "code",
   "execution_count": 40,
   "id": "15c0bdea-2592-4c8e-ad21-a452f69e44ac",
   "metadata": {},
   "outputs": [
    {
     "name": "stdout",
     "output_type": "stream",
     "text": [
      "Father : RAM\n",
      "Mother : SITA\n"
     ]
    }
   ],
   "source": [
    "s1 = Son()\n",
    "s1.fathername = \"RAM\"\n",
    "s1.mothername = \"SITA\"\n",
    "s1.parents()"
   ]
  },
  {
   "cell_type": "code",
   "execution_count": null,
   "id": "af34e0b0-5cec-4f18-9e33-b70a3e6e1190",
   "metadata": {},
   "outputs": [],
   "source": []
  },
  {
   "cell_type": "code",
   "execution_count": 41,
   "id": "236b3981-587b-4b59-bba3-5377393ffbba",
   "metadata": {},
   "outputs": [],
   "source": [
    "## multilevel inheritance\n",
    "\n",
    "class Grandfather:\n",
    " \n",
    "    def __init__(self, grandfathername):\n",
    "        self.grandfathername = grandfathername\n",
    " \n",
    "\n",
    "class Father(Grandfather):\n",
    "    def __init__(self, fathername, grandfathername):\n",
    "        self.fathername = fathername\n",
    " \n",
    "        Grandfather.__init__(self, grandfathername)\n",
    " \n",
    "\n",
    "class Son(Father):\n",
    "    def __init__(self, sonname, fathername, grandfathername):\n",
    "        self.sonname = sonname\n",
    " \n",
    "        Father.__init__(self, fathername, grandfathername)\n",
    " \n",
    "    def print_name(self):\n",
    "        print('Grandfather name :', self.grandfathername)\n",
    "        print(\"Father name :\", self.fathername)\n",
    "        print(\"Son name :\", self.sonname)"
   ]
  },
  {
   "cell_type": "code",
   "execution_count": 42,
   "id": "dce56414-9077-4838-932c-daf3ffd625a4",
   "metadata": {},
   "outputs": [
    {
     "name": "stdout",
     "output_type": "stream",
     "text": [
      "Lal mani\n",
      "Grandfather name : Lal mani\n",
      "Father name : Rampal\n",
      "Son name : Prince\n"
     ]
    }
   ],
   "source": [
    "s1 = Son('Prince', 'Rampal', 'Lal mani')\n",
    "print(s1.grandfathername)\n",
    "s1.print_name()"
   ]
  },
  {
   "cell_type": "code",
   "execution_count": null,
   "id": "776f1ef1-da9a-4461-8f8e-526c0d5ec32e",
   "metadata": {},
   "outputs": [],
   "source": []
  },
  {
   "cell_type": "code",
   "execution_count": 43,
   "id": "2f3ac211-ae96-4481-b28d-b4e1d27f8255",
   "metadata": {},
   "outputs": [],
   "source": [
    "## hierarchical inheritance\n",
    "\n",
    "class Parent:\n",
    "    def func1(self):\n",
    "        print(\"This function is in parent class.\")\n",
    " \n",
    "class Child1(Parent):\n",
    "    def func2(self):\n",
    "        print(\"This function is in child 1.\")\n",
    " \n",
    "class Child2(Parent):\n",
    "    def func3(self):\n",
    "        print(\"This function is in child 2.\")"
   ]
  },
  {
   "cell_type": "code",
   "execution_count": 44,
   "id": "728dbe1e-f27b-49cc-92cf-d963b933c1a9",
   "metadata": {},
   "outputs": [
    {
     "name": "stdout",
     "output_type": "stream",
     "text": [
      "This function is in parent class.\n",
      "This function is in child 1.\n",
      "This function is in parent class.\n",
      "This function is in child 2.\n"
     ]
    }
   ],
   "source": [
    "object1 = Child1()\n",
    "object2 = Child2()\n",
    "object1.func1()\n",
    "object1.func2()\n",
    "object2.func1()\n",
    "object2.func3()"
   ]
  },
  {
   "cell_type": "code",
   "execution_count": null,
   "id": "8e57abe1-ce5c-49de-bccc-7af08793a344",
   "metadata": {},
   "outputs": [],
   "source": []
  },
  {
   "cell_type": "code",
   "execution_count": 45,
   "id": "b2e2f876-c07b-4be7-85c2-b125fbd6db96",
   "metadata": {},
   "outputs": [],
   "source": [
    "## hybried inheritance\n",
    "\n",
    "class School:\n",
    "    def func1(self):\n",
    "        print(\"This function is in school.\")\n",
    " \n",
    "class Student1(School):\n",
    "    def func2(self):\n",
    "        print(\"This function is in student 1. \")\n",
    " \n",
    "class Student2(School):\n",
    "    def func3(self):\n",
    "        print(\"This function is in student 2.\")\n",
    " \n",
    "class Student3(Student1, School):\n",
    "    def func4(self):\n",
    "        print(\"This function is in student 3.\")"
   ]
  },
  {
   "cell_type": "code",
   "execution_count": 46,
   "id": "82c293de-8e81-4ee6-a1f6-bf6c015d3222",
   "metadata": {},
   "outputs": [
    {
     "name": "stdout",
     "output_type": "stream",
     "text": [
      "This function is in school.\n",
      "This function is in student 1. \n"
     ]
    }
   ],
   "source": [
    "object = Student3()\n",
    "object.func1()\n",
    "object.func2()"
   ]
  },
  {
   "cell_type": "code",
   "execution_count": null,
   "id": "3290d086-90a0-448d-9ba6-762d8478b8b0",
   "metadata": {},
   "outputs": [],
   "source": []
  }
 ],
 "metadata": {
  "kernelspec": {
   "display_name": "Python 3 (ipykernel)",
   "language": "python",
   "name": "python3"
  },
  "language_info": {
   "codemirror_mode": {
    "name": "ipython",
    "version": 3
   },
   "file_extension": ".py",
   "mimetype": "text/x-python",
   "name": "python",
   "nbconvert_exporter": "python",
   "pygments_lexer": "ipython3",
   "version": "3.10.8"
  }
 },
 "nbformat": 4,
 "nbformat_minor": 5
}
