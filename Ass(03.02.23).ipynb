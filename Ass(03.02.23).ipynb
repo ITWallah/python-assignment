{
 "cells": [
  {
   "cell_type": "markdown",
   "id": "49ecb55e-716e-48a5-a183-d290cf148217",
   "metadata": {
    "tags": []
   },
   "source": [
    "## Assignment (03/FEB/2023):\n",
    "\n"
   ]
  },
  {
   "cell_type": "markdown",
   "id": "b7db131e-c78c-499a-8ec8-68b35569a71e",
   "metadata": {},
   "source": [
    "Q1. Which keyword is used to create a function? Create a function to return a list of odd numbers in the \n",
    "range of 1 to 25."
   ]
  },
  {
   "cell_type": "code",
   "execution_count": 40,
   "id": "c9d7a94a-4ae1-4903-91b2-45825d08de83",
   "metadata": {},
   "outputs": [
    {
     "name": "stdout",
     "output_type": "stream",
     "text": [
      " def keyword is used to create a function. \n"
     ]
    }
   ],
   "source": [
    "## answer 1\n",
    "\n",
    "print(\" def keyword is used to create a function. \")\n",
    "    \n",
    "def odd_numbers(n):\n",
    "    return [x for x in range(0, n) if x%2 != 0]"
   ]
  },
  {
   "cell_type": "code",
   "execution_count": 41,
   "id": "ab8b6e64-fd88-491a-921a-c456648b2397",
   "metadata": {},
   "outputs": [
    {
     "name": "stdout",
     "output_type": "stream",
     "text": [
      "[1, 3, 5, 7, 9, 11, 13, 15, 17, 19, 21, 23]\n"
     ]
    }
   ],
   "source": [
    "print(odd_numbers(25))"
   ]
  },
  {
   "cell_type": "code",
   "execution_count": null,
   "id": "b545b1a4-f300-4712-bbb3-b384e66c3abc",
   "metadata": {},
   "outputs": [],
   "source": []
  },
  {
   "cell_type": "code",
   "execution_count": null,
   "id": "e9e469b7-ec0a-41b2-9229-d9ced0f79f27",
   "metadata": {},
   "outputs": [],
   "source": []
  },
  {
   "cell_type": "markdown",
   "id": "ff4bd63a-b675-4e11-8fc7-207d138e9e82",
   "metadata": {},
   "source": [
    "Q2. Why *args and **kwargs is used in some functions? Create a function each for *args and **kwargs to \n",
    "demonstrate their use"
   ]
  },
  {
   "cell_type": "code",
   "execution_count": 45,
   "id": "e517bef6-665f-4511-81f2-bafb6eac0aef",
   "metadata": {},
   "outputs": [],
   "source": [
    "## answer 2"
   ]
  },
  {
   "cell_type": "raw",
   "id": "4521291e-eb66-4c22-87b4-04afbd27b59d",
   "metadata": {},
   "source": [
    "-> *args and **kwargs as arguments of a function when you are unsure about the number of arguments to pass in the functions.\n",
    "\n",
    "-> *args allows us to pass a variable number of non-keyword arguments to a Python function.\n",
    "\n",
    "-> **kwargs allows us to pass n number of dictionary whose keys become seperate keyword arguements and the values become values of these arguements."
   ]
  },
  {
   "cell_type": "code",
   "execution_count": 61,
   "id": "5c67e3d9-28aa-45f4-ba0d-6290146f56be",
   "metadata": {},
   "outputs": [],
   "source": [
    "## Use of *args in function\n",
    "\n",
    "def test1(*args):\n",
    "    num = []\n",
    "    for i in args:\n",
    "        if type(i) == int or type(i) == float:\n",
    "            num.append(i)\n",
    "    return num    "
   ]
  },
  {
   "cell_type": "code",
   "execution_count": 62,
   "id": "e8f7a49b-bb1c-4b27-9add-b5be99a3fe8c",
   "metadata": {},
   "outputs": [
    {
     "data": {
      "text/plain": [
       "[1, 2, 3, 4.92, 5, 3, 2, 56.89]"
      ]
     },
     "execution_count": 62,
     "metadata": {},
     "output_type": "execute_result"
    }
   ],
   "source": [
    "test1(1,2,3,4.92,5,3,2,\"neel\",True,[56,34,65],\"pwskills\",56.89)"
   ]
  },
  {
   "cell_type": "code",
   "execution_count": 82,
   "id": "333b2806-aaad-47c4-8cb8-869cc9389f2d",
   "metadata": {},
   "outputs": [],
   "source": [
    "## Use of **kwargs in function\n",
    "\n",
    "def test2(**kwargs):\n",
    "    for i in kwargs.keys():\n",
    "        if type(kwargs[i]) == str:\n",
    "            return i,kwargs[i]       "
   ]
  },
  {
   "cell_type": "code",
   "execution_count": 83,
   "id": "c84906bb-d2ac-45f2-ae9f-eb52f81a561e",
   "metadata": {},
   "outputs": [
    {
     "data": {
      "text/plain": [
       "('c', 'Neel')"
      ]
     },
     "execution_count": 83,
     "metadata": {},
     "output_type": "execute_result"
    }
   ],
   "source": [
    "test2(a=55, b=59.2, x=1094, c=\"Neel\", d=(59,\"PWS\",34.6) )"
   ]
  },
  {
   "cell_type": "code",
   "execution_count": null,
   "id": "6b41d162-4e03-4cd0-95a2-ecb640bcb303",
   "metadata": {},
   "outputs": [],
   "source": []
  },
  {
   "cell_type": "code",
   "execution_count": null,
   "id": "bc310176-dff9-46fd-8909-21e6510c687f",
   "metadata": {},
   "outputs": [],
   "source": []
  },
  {
   "cell_type": "markdown",
   "id": "72b9b61a-cacd-4bba-a807-5530ca0d2023",
   "metadata": {},
   "source": [
    "Q3.  What is an iterator in python? Name the method used to initialise the iterator object and the method \n",
    "used for iteration. Use these methods to print the first five elements of the given list [2, 4, 6, 8, 10, 12, 14, 16, \n",
    "18, 20]"
   ]
  },
  {
   "cell_type": "raw",
   "id": "a9235e72-414d-4dbc-b1b8-9d4c0766b88b",
   "metadata": {},
   "source": [
    "## answer 3\n",
    "\n",
    "-> Iterator in Python is an object that is used to iterate over iterable objects like lists, tuples, dicts, and sets. The iterator object is initialized using the iter() method. It uses the next() method for iteration.\n",
    "\n",
    "-> 3 methods to print 1st 5 elements of list are:"
   ]
  },
  {
   "cell_type": "code",
   "execution_count": 24,
   "id": "eab35f50-3411-4493-8634-217631204e61",
   "metadata": {},
   "outputs": [],
   "source": [
    "l = [2, 4, 6, 8, 10, 12, 14, 16, 18, 20]"
   ]
  },
  {
   "cell_type": "code",
   "execution_count": 30,
   "id": "0b078fa6-1e62-44d0-b0b1-427ab8b6428d",
   "metadata": {},
   "outputs": [
    {
     "name": "stdout",
     "output_type": "stream",
     "text": [
      "2\n",
      "4\n",
      "6\n",
      "8\n",
      "10\n"
     ]
    }
   ],
   "source": [
    "## 1st method\n",
    "\n",
    "for i in l[:5]:\n",
    "    print(i)"
   ]
  },
  {
   "cell_type": "code",
   "execution_count": 31,
   "id": "61dd5084-974a-48a9-b028-5b36d9cbe11c",
   "metadata": {},
   "outputs": [
    {
     "data": {
      "text/plain": [
       "[2, 4, 6, 8, 10]"
      ]
     },
     "execution_count": 31,
     "metadata": {},
     "output_type": "execute_result"
    }
   ],
   "source": [
    "##2nd method\n",
    "\n",
    "l[:5]"
   ]
  },
  {
   "cell_type": "code",
   "execution_count": 35,
   "id": "576c91c3-55f3-42b6-9a19-7d53000841db",
   "metadata": {},
   "outputs": [
    {
     "name": "stdout",
     "output_type": "stream",
     "text": [
      "2\n",
      "4\n",
      "6\n",
      "8\n",
      "10\n"
     ]
    }
   ],
   "source": [
    "## 3rd method\n",
    "\n",
    "itr = iter(l)\n",
    "\n",
    "print(itr.__next__())\n",
    "print(itr.__next__())\n",
    "print(itr.__next__())\n",
    "print(itr.__next__())\n",
    "print(itr.__next__())"
   ]
  },
  {
   "cell_type": "code",
   "execution_count": null,
   "id": "bee6f8bc-a5f4-44cf-826f-88b5d78c7668",
   "metadata": {},
   "outputs": [],
   "source": []
  },
  {
   "cell_type": "code",
   "execution_count": null,
   "id": "b9127dc2-3608-4ebd-857c-1cb7920045ba",
   "metadata": {},
   "outputs": [],
   "source": []
  },
  {
   "cell_type": "markdown",
   "id": "e04fa623-8f1a-4937-9b49-ad0d725523e8",
   "metadata": {},
   "source": [
    "Q4. What is a generator function in python? Why yield keyword is used? Give an example of a generator \n",
    "function."
   ]
  },
  {
   "cell_type": "raw",
   "id": "035cd81c-7d32-45f3-b416-a3db2e1255a7",
   "metadata": {},
   "source": [
    "## answer 4\n",
    "\n",
    "-> A generator-function is defined like a normal function, but whenever it needs to generate a value, it does so with the yield keyword rather than return.\n",
    "\n",
    "-> yield is used to returns from the function without destroying the state of it’s local variables."
   ]
  },
  {
   "cell_type": "code",
   "execution_count": 43,
   "id": "2f3ca7e2-73e9-40e4-9184-1f4e0791fc9f",
   "metadata": {},
   "outputs": [
    {
     "name": "stdout",
     "output_type": "stream",
     "text": [
      "Values obtained from generator function are:\n",
      "1\n",
      "2\n",
      "3\n",
      "4\n",
      "5\n",
      "6\n",
      "7\n",
      "8\n",
      "9\n",
      "10\n"
     ]
    }
   ],
   "source": [
    "## example\n",
    "\n",
    "def num_generator():\n",
    "    for i in range(1, 11):\n",
    "        yield i\n",
    "\n",
    "\n",
    "gen = num_generator()\n",
    "print(\"Values obtained from generator function are:\")\n",
    "for element in gen:\n",
    "    print(element)"
   ]
  },
  {
   "cell_type": "code",
   "execution_count": null,
   "id": "eeac078e-e4d9-4375-8b06-5a204fe46514",
   "metadata": {},
   "outputs": [],
   "source": []
  },
  {
   "cell_type": "code",
   "execution_count": null,
   "id": "aa75647e-7de8-4bcf-bba1-30bc0e283e0f",
   "metadata": {},
   "outputs": [],
   "source": []
  },
  {
   "cell_type": "markdown",
   "id": "83d66067-a825-470e-b98f-32d1150f5863",
   "metadata": {},
   "source": [
    "Q5. Create a generator function for prime numbers less than 1000. Use the next() method to print the \n",
    "first 20 prime numbers"
   ]
  },
  {
   "cell_type": "code",
   "execution_count": 1,
   "id": "97cc4842-c69f-4103-9865-40489beee755",
   "metadata": {},
   "outputs": [
    {
     "name": "stdout",
     "output_type": "stream",
     "text": [
      "2\n",
      "3\n",
      "5\n",
      "7\n",
      "11\n",
      "13\n",
      "17\n",
      "19\n",
      "23\n",
      "29\n",
      "31\n",
      "37\n",
      "41\n",
      "43\n",
      "47\n",
      "53\n",
      "59\n",
      "61\n",
      "67\n",
      "71\n"
     ]
    }
   ],
   "source": [
    "## answer 5\n",
    "\n",
    "n = []\n",
    "for i in range(2,1000): \n",
    "    for j in range(2,1000):\n",
    "        if i%j == 0:\n",
    "            break\n",
    "    if i == j:\n",
    "    #    print(i,end=\",\")\n",
    "         n.append(i)\n",
    "        \n",
    "l_iter = iter(n) \n",
    "print(next(l_iter))\n",
    "print(next(l_iter))\n",
    "print(next(l_iter))\n",
    "print(next(l_iter))\n",
    "print(next(l_iter))\n",
    "print(next(l_iter))\n",
    "print(next(l_iter))\n",
    "print(next(l_iter))\n",
    "print(next(l_iter))\n",
    "print(next(l_iter))\n",
    "print(next(l_iter))\n",
    "print(next(l_iter))\n",
    "print(next(l_iter))\n",
    "print(next(l_iter))\n",
    "print(next(l_iter))\n",
    "print(next(l_iter))\n",
    "print(next(l_iter))\n",
    "print(next(l_iter))\n",
    "print(next(l_iter))\n",
    "print(next(l_iter))\n"
   ]
  },
  {
   "cell_type": "code",
   "execution_count": null,
   "id": "f215c251-b5e0-4ff0-a12f-13d10095d190",
   "metadata": {},
   "outputs": [],
   "source": []
  },
  {
   "cell_type": "code",
   "execution_count": null,
   "id": "0e01cbd4-5a8c-4b36-a89f-53206e49dde9",
   "metadata": {},
   "outputs": [],
   "source": []
  }
 ],
 "metadata": {
  "kernelspec": {
   "display_name": "Python 3 (ipykernel)",
   "language": "python",
   "name": "python3"
  },
  "language_info": {
   "codemirror_mode": {
    "name": "ipython",
    "version": 3
   },
   "file_extension": ".py",
   "mimetype": "text/x-python",
   "name": "python",
   "nbconvert_exporter": "python",
   "pygments_lexer": "ipython3",
   "version": "3.10.8"
  }
 },
 "nbformat": 4,
 "nbformat_minor": 5
}
