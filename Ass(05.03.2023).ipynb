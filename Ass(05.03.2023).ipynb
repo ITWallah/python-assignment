{
  "nbformat": 4,
  "nbformat_minor": 0,
  "metadata": {
    "colab": {
      "provenance": []
    },
    "kernelspec": {
      "name": "python3",
      "display_name": "Python 3"
    },
    "language_info": {
      "name": "python"
    }
  },
  "cells": [
    {
      "cell_type": "markdown",
      "source": [
        "##Assignment(05/03/2023) Bokeh"
      ],
      "metadata": {
        "id": "LugOBLtXO85M"
      }
    },
    {
      "cell_type": "code",
      "source": [],
      "metadata": {
        "id": "8X1GLU1gPC0H"
      },
      "execution_count": null,
      "outputs": []
    },
    {
      "cell_type": "markdown",
      "source": [
        "##Q1. How can you create a Bokeh plot using Python code?"
      ],
      "metadata": {
        "id": "py4V7AjjPEGE"
      }
    },
    {
      "cell_type": "code",
      "source": [],
      "metadata": {
        "id": "ZHpB9U4FPEpd"
      },
      "execution_count": null,
      "outputs": []
    },
    {
      "cell_type": "markdown",
      "source": [
        "Creating Bokeh plots using Python involves several steps. Bokeh is a popular interactive data visualization library that provides various types of plots, such as line plots, bar plots, scatter plots, and more. Here's a basic example of how to create a simple scatter plot using Bokeh:\n",
        "\n",
        "Install Bokeh:\n",
        "If you haven't already, you need to install the Bokeh library. You can do this using pip:\n",
        "\n",
        "bash\n",
        "Copy code\n",
        "pip install bokeh\n",
        "Import Required Libraries:\n",
        "Import the necessary modules from the Bokeh library and any other relevant libraries.\n",
        "\n",
        "python\n",
        "Copy code\n",
        "from bokeh.plotting import figure, output_file, show\n",
        "Prepare Data:\n",
        "Create data that you want to visualize. For a scatter plot, you'll need x and y data points.\n",
        "python\n",
        "Copy code\n",
        "# Example data\n",
        "x = [1, 2, 3, 4, 5]\n",
        "y = [6, 7, 2, 4, 5]\n",
        "Configure Plot:\n",
        "Create a Bokeh figure object and customize its properties, such as title, axis labels, and more.\n",
        "python\n",
        "Copy code\n",
        "# Create a figure\n",
        "plot = figure(title='Simple Bokeh Scatter Plot', x_axis_label='X-axis', y_axis_label='Y-axis')\n",
        "Add Data to Plot:\n",
        "Add the data to the figure using the circle glyph (for scatter plots) or other glyphs based on your desired plot type.\n",
        "python\n",
        "Copy code\n",
        "# Add data to the plot\n",
        "plot.circle(x, y, size=10, color='blue', alpha=0.5)\n",
        "Generate and Display Plot:\n",
        "Once your plot is configured and data is added, you can generate the plot and display it.\n",
        "python\n",
        "Copy code\n",
        "# Output to a static HTML file (optional)\n",
        "output_file(\"scatter_plot.html\")\n",
        "\n",
        "# Show the plot\n",
        "show(plot)\n",
        "Interactivity (Optional):\n",
        "Bokeh is known for its interactive capabilities. You can add tools like zoom, pan, and hover tooltips to make your visualization more interactive. Here's an example of how to add a hover tooltip to the scatter plot:"
      ],
      "metadata": {
        "id": "g68z6jP6Pb7X"
      }
    },
    {
      "cell_type": "code",
      "source": [],
      "metadata": {
        "id": "Q6SJ0DavPh6F"
      },
      "execution_count": null,
      "outputs": []
    },
    {
      "cell_type": "markdown",
      "source": [
        "##Q2. What are glyphs in Bokeh, and how can you add them to a Bokeh plot? Explain with an example."
      ],
      "metadata": {
        "id": "uvicDNAqPm_B"
      }
    },
    {
      "cell_type": "code",
      "source": [],
      "metadata": {
        "id": "RshRsCxGPqH2"
      },
      "execution_count": null,
      "outputs": []
    },
    {
      "cell_type": "markdown",
      "source": [
        "In Bokeh, glyphs are the visual representations of your data points within a plot. They are the building blocks used to create various types of visualizations like scatter plots, line plots, bars, and more. Glyphs allow you to customize the appearance of your data points by specifying attributes like color, size, shape, and more. Different glyph types are used for different types of plots."
      ],
      "metadata": {
        "id": "-NbnS4HVP0yd"
      }
    },
    {
      "cell_type": "code",
      "source": [],
      "metadata": {
        "id": "Q1v7J0V4P1TP"
      },
      "execution_count": null,
      "outputs": []
    },
    {
      "cell_type": "markdown",
      "source": [
        "##Q3. How can you customize the appearance of a Bokeh plot, including the axes, title, and legend?"
      ],
      "metadata": {
        "id": "C4p3TFi3P48V"
      }
    },
    {
      "cell_type": "code",
      "source": [
        "from bokeh.plotting import figure, output_file, show\n",
        "from bokeh.models import Legend\n",
        "\n",
        "# Sample data\n",
        "x = [1, 2, 3, 4, 5]\n",
        "y1 = [6, 7, 2, 4, 5]\n",
        "y2 = [3, 2, 8, 6, 4]\n",
        "\n",
        "# Create a figure\n",
        "plot = figure(title='Customized Bokeh Plot', x_axis_label='X-axis', y_axis_label='Y-axis')\n",
        "\n",
        "# Add data and customize glyphs\n",
        "plot.circle(x, y1, size=10, color='blue', alpha=0.5, legend_label='Series 1')\n",
        "plot.line(x, y2, line_width=2, color='red', alpha=0.7, legend_label='Series 2')\n",
        "\n",
        "# Customize plot appearance\n",
        "plot.title.text = \"Custom Title\"\n",
        "plot.title.text_font_size = \"20pt\"\n",
        "plot.xaxis.axis_label_text_font_size = \"14pt\"\n",
        "plot.yaxis.axis_label_text_font_size = \"14pt\"\n",
        "plot.legend.label_text_font_size = \"12pt\"\n",
        "plot.legend.location = \"top_left\"\n",
        "\n",
        "# Add legend\n",
        "legend = Legend(items=[\n",
        "    (\"Series 1\", [plot.renderers[0]]),\n",
        "    (\"Series 2\", [plot.renderers[1]])\n",
        "], location=\"center\")\n",
        "plot.add_layout(legend, 'right')\n",
        "\n",
        "# Output to a static HTML file (optional)\n",
        "output_file(\"customized_bokeh_plot.html\")\n",
        "\n",
        "# Show the plot\n",
        "show(plot)\n"
      ],
      "metadata": {
        "id": "Fsx3KA0GP5xi"
      },
      "execution_count": 2,
      "outputs": []
    },
    {
      "cell_type": "markdown",
      "source": [
        "##Q4. What is a Bokeh server, and how can you use it to create interactive plots that can be updated in\n",
        "real time?"
      ],
      "metadata": {
        "id": "OsSIiH0rQWD1"
      }
    },
    {
      "cell_type": "markdown",
      "source": [
        "A Bokeh server is a component of the Bokeh library that allows you to create interactive, web-based data visualizations with real-time updates. Unlike static plots that are generated as HTML files, Bokeh server applications run as Python scripts on a server and dynamically update the visualizations based on user interactions or external data changes. This makes it possible to create complex interactive plots, dashboards, and applications that respond to user input in real time."
      ],
      "metadata": {
        "id": "eej67MIsQiJk"
      }
    },
    {
      "cell_type": "code",
      "source": [],
      "metadata": {
        "id": "yZXT2EzJQW00"
      },
      "execution_count": null,
      "outputs": []
    },
    {
      "cell_type": "markdown",
      "source": [
        "##Q5. How can you embed a Bokeh plot into a web page or dashboard using Flask or Django?"
      ],
      "metadata": {
        "id": "DUJ2QIm0Qnpx"
      }
    },
    {
      "cell_type": "markdown",
      "source": [
        "Embedding a Bokeh plot into a web page or dashboard using Flask or Django involves creating a Bokeh application and integrating it with your chosen web framework. This enables you to host interactive visualizations within your web application."
      ],
      "metadata": {
        "id": "iJbiQ7FVQ-XM"
      }
    }
  ]
}