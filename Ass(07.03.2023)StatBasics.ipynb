{
 "cells": [
  {
   "cell_type": "markdown",
   "id": "092f64e1-beef-47de-8e02-fe45a4f9de3e",
   "metadata": {},
   "source": [
    "## Assignment(07/03/2023)Statistics Basics 2"
   ]
  },
  {
   "cell_type": "markdown",
   "id": "4cf00cb2-7b4a-49a7-8b2b-067e9e19816f",
   "metadata": {},
   "source": [
    "Q1. What are the three measures of central tendency?"
   ]
  },
  {
   "cell_type": "markdown",
   "id": "b87943c7-58ff-4df2-a053-1c3064ceab40",
   "metadata": {},
   "source": [
    "## Answer 1:\n",
    "Three measures of Central Tendency are :\n",
    "1. Mean\n",
    "2. Median\n",
    "3. Mode"
   ]
  },
  {
   "cell_type": "code",
   "execution_count": null,
   "id": "f4cf7b92-5388-4c75-b126-5e044dd08050",
   "metadata": {},
   "outputs": [],
   "source": []
  },
  {
   "cell_type": "code",
   "execution_count": null,
   "id": "4c1bb6e3-6418-4a87-bdf9-d622e1514fe8",
   "metadata": {},
   "outputs": [],
   "source": []
  },
  {
   "cell_type": "markdown",
   "id": "9b51d599-50e4-430c-aa16-fc1e28448738",
   "metadata": {},
   "source": [
    "Q2. What is the difference between the mean, median, and mode? How are they used to measure the \n",
    "central tendency of a dataset?"
   ]
  },
  {
   "cell_type": "markdown",
   "id": "80a1446e-275c-4c19-bdd1-eef785c281b8",
   "metadata": {},
   "source": [
    "## Answer 2:Mean:\n",
    "\n",
    "MEAN:\n",
    "Calculation: The mean is calculated by summing up all the values in the dataset and then dividing by the number of values.\n",
    "Sensitivity to Outliers: The mean is sensitive to outliers, which are extreme values that can significantly affect the overall average.\n",
    "Use: The mean is often used when the data is approximately symmetrically distributed and there are no significant outliers.\n",
    "Median:\n",
    "\n",
    "MEDIAN:\n",
    "Calculation: The median is the middle value when the data is arranged in order. If there's an even number of values, the median is the average of the two middle values.\n",
    "Robustness: The median is less affected by outliers compared to the mean. It provides a more accurate representation of the \"center\" of the data when outliers are present.\n",
    "Use: The median is useful when the data is skewed or when there are outliers that could distort the mean.\n",
    "Mode:\n",
    "\n",
    "MODE:\n",
    "Calculation: The mode is the value that appears most frequently in the dataset.\n",
    "Use: The mode is used to identify the most common value in a dataset. It's particularly useful for categorical or discrete data.\n",
    "Multiple Modes: A dataset can have one mode (unimodal), more than one mode (multimodal), or no mode if all values are unique.\n"
   ]
  },
  {
   "cell_type": "code",
   "execution_count": null,
   "id": "c03450d6-bfd0-443b-b77a-3ba4e381a6a1",
   "metadata": {},
   "outputs": [],
   "source": []
  },
  {
   "cell_type": "code",
   "execution_count": null,
   "id": "1729e1ec-3273-48e7-ab75-a4e3f7440ac7",
   "metadata": {},
   "outputs": [],
   "source": []
  },
  {
   "cell_type": "markdown",
   "id": "94c6b331-fdc7-4be6-bbfc-a639133d4877",
   "metadata": {},
   "source": [
    "Q3. Measure the three measures of central tendency for the given height data:\n",
    "\n",
    " [178,177,176,177,178.2,178,175,179,180,175,178.9,176.2,177,172.5,178,176.5]"
   ]
  },
  {
   "cell_type": "code",
   "execution_count": 23,
   "id": "80058075-45e5-42df-967b-0b80ea291a28",
   "metadata": {},
   "outputs": [
    {
     "name": "stdout",
     "output_type": "stream",
     "text": [
      "Mean is 177.01875\n",
      "Median is 177.0\n",
      "Mode is 177\n"
     ]
    }
   ],
   "source": [
    "## Answer 3:\n",
    "\n",
    "data = [178,177,176,177,178.2,178,175,179,180,175,178.9,176.2,177,172.5,178,176.5]\n",
    "\n",
    "## MEAN:\n",
    "total = 0\n",
    "sum = 0\n",
    "for i in data:\n",
    "    sum = sum + i\n",
    "    total = total + 1\n",
    "     \n",
    "Mean_answer = sum/total\n",
    "print('Mean is',Mean_answer)\n",
    "\n",
    "\n",
    "##MEDIAN:\n",
    "data.sort()\n",
    "Median_answer = (177 + 177)/2\n",
    "print('Median is',Median_answer)\n",
    "\n",
    "\n",
    "##MODE:\n",
    "print('Mode is 177')"
   ]
  },
  {
   "cell_type": "code",
   "execution_count": null,
   "id": "179d1652-f7d5-4ce3-8d6a-807e1ff3c11e",
   "metadata": {},
   "outputs": [],
   "source": []
  },
  {
   "cell_type": "code",
   "execution_count": null,
   "id": "19d36849-356a-4303-ac5b-4aed7b3ffa37",
   "metadata": {},
   "outputs": [],
   "source": []
  },
  {
   "cell_type": "markdown",
   "id": "6c1a21e8-3b51-47ad-a2df-91b718be6d40",
   "metadata": {},
   "source": [
    "Q4. Find the standard deviation for the given data:\n",
    "\n",
    "[178,177,176,177,178.2,178,175,179,180,175,178.9,176.2,177,172.5,178,176.5]"
   ]
  },
  {
   "cell_type": "code",
   "execution_count": 3,
   "id": "98e2b43d-d978-4571-9999-bb3b5fbd80a3",
   "metadata": {},
   "outputs": [
    {
     "data": {
      "text/plain": [
       "1.7885814036548633"
      ]
     },
     "execution_count": 3,
     "metadata": {},
     "output_type": "execute_result"
    }
   ],
   "source": [
    "## answer 3:\n",
    "import numpy as np\n",
    "data = [178,177,176,177,178.2,178,175,179,180,175,178.9,176.2,177,172.5,178,176.5]\n",
    "np.std(data)"
   ]
  },
  {
   "cell_type": "code",
   "execution_count": null,
   "id": "e6c9177a-6a5a-47a4-823d-59aacaac2150",
   "metadata": {},
   "outputs": [],
   "source": []
  },
  {
   "cell_type": "code",
   "execution_count": null,
   "id": "b9d7bbcf-4ba1-4ef4-88d3-5e2a36d2eaad",
   "metadata": {},
   "outputs": [],
   "source": []
  },
  {
   "cell_type": "markdown",
   "id": "a0973577-043b-4f44-9602-56ff138be847",
   "metadata": {},
   "source": [
    "Q5. How are measures of dispersion such as range, variance, and standard deviation used to describe \n",
    "the spread of a dataset? Provide an example."
   ]
  },
  {
   "cell_type": "raw",
   "id": "f0cbcd13-7fe7-4ac7-93e1-f6c2c15cc81f",
   "metadata": {},
   "source": [
    "## answer 5:\n",
    "RANGE:\n",
    "The range is the simplest measure of dispersion. It's the difference between the largest and smallest values in a dataset. While it provides a basic understanding of the spread, it can be sensitive to outliers and doesn't consider the distribution of the data between the extremes.\n",
    "\n",
    "VARIANCE AND S.T.D.:\n",
    "Variance and standard deviation provide more nuanced insights into the spread of the data. Both are measures of how far the data points are from the mean."
   ]
  },
  {
   "cell_type": "code",
   "execution_count": null,
   "id": "b5b1aa1e-73ae-4e5b-bdd2-eccf7a7c9abf",
   "metadata": {},
   "outputs": [],
   "source": []
  },
  {
   "cell_type": "code",
   "execution_count": null,
   "id": "8b329ea3-86ef-4994-acc0-5fcc3ea3aebf",
   "metadata": {},
   "outputs": [],
   "source": []
  },
  {
   "cell_type": "markdown",
   "id": "89d3b2c6-6f96-46fb-b9d7-50e0c5cc40e9",
   "metadata": {},
   "source": [
    "Q6. What is a Venn diagram?"
   ]
  },
  {
   "cell_type": "raw",
   "id": "c258b8a8-1768-435e-8287-ec7f9e3a8bec",
   "metadata": {},
   "source": [
    "## AMSWER 6:\n",
    "\n",
    "A Venn diagram is a visual representation used to illustrate the relationships between different sets or groups of objects, elements, or concepts. Venn diagrams use overlapping circles or other shapes to show the commonalities and differences between these sets. They provide a clear and intuitive way to understand the intersections and relationships between different categories."
   ]
  },
  {
   "cell_type": "code",
   "execution_count": null,
   "id": "23cb5637-b537-4f42-992d-28ec98dae2e4",
   "metadata": {},
   "outputs": [],
   "source": []
  },
  {
   "cell_type": "code",
   "execution_count": null,
   "id": "738f7e2a-fa2d-4933-b366-68ffac55ce65",
   "metadata": {},
   "outputs": [],
   "source": []
  },
  {
   "cell_type": "markdown",
   "id": "e0fe6613-be5d-4c18-9824-9db55265ef30",
   "metadata": {},
   "source": [
    "Q7. For the two given sets A = (2,3,4,5,6,7) & B = (0,2,6,8,10). Find:\n",
    "\n",
    "(i) \tA B\n",
    "\n",
    "(ii)\tA ⋃ B"
   ]
  },
  {
   "cell_type": "raw",
   "id": "357d46dd-5e61-4571-8f17-eb3287bae169",
   "metadata": {},
   "source": [
    "## answer 7:\n",
    "(i) = A^B = (2,6)\n",
    "(ii) = AUB = (0,2,3,4,5,6,7,8,10)"
   ]
  },
  {
   "cell_type": "code",
   "execution_count": null,
   "id": "258f2910-38fa-4b8b-9c75-0332af855eec",
   "metadata": {},
   "outputs": [],
   "source": []
  },
  {
   "cell_type": "code",
   "execution_count": null,
   "id": "314728c6-4701-4c3a-aa04-a67ba1012854",
   "metadata": {},
   "outputs": [],
   "source": []
  },
  {
   "cell_type": "markdown",
   "id": "b515f8ca-50ce-4907-be25-f5eda91fb9dc",
   "metadata": {},
   "source": [
    "Q8. What do you understand about skewness in data?\n"
   ]
  },
  {
   "cell_type": "raw",
   "id": "ebd7ce2a-ac7d-4ea8-923d-4f3001acc937",
   "metadata": {},
   "source": [
    "## answer 8:\n",
    "Skewness in data refers to the asymmetry or lack of symmetry in its distribution. In a symmetrical distribution, the data is evenly distributed around the central value, typically the mean."
   ]
  },
  {
   "cell_type": "code",
   "execution_count": null,
   "id": "c9735f26-2713-46b4-9538-140a662a8cd0",
   "metadata": {},
   "outputs": [],
   "source": []
  },
  {
   "cell_type": "code",
   "execution_count": null,
   "id": "9ee2ac81-d4a7-4c13-8fb9-ed5565aacc6b",
   "metadata": {},
   "outputs": [],
   "source": []
  },
  {
   "cell_type": "markdown",
   "id": "86c8644f-b111-4fba-8bce-71d3f4765b15",
   "metadata": {},
   "source": [
    "Q9. If a data is right skewed then what will be the position of median with respect to mean?\n"
   ]
  },
  {
   "cell_type": "raw",
   "id": "2482d8f9-a2a9-431f-aaef-a27348f0578a",
   "metadata": {},
   "source": [
    "## answer 9:\n",
    "Graphically, the tail on the right side of the distribution is longer, and the mean is greater than the median."
   ]
  },
  {
   "cell_type": "code",
   "execution_count": null,
   "id": "4c94cd44-2405-44db-85de-b9372d2cd2bc",
   "metadata": {},
   "outputs": [],
   "source": []
  },
  {
   "cell_type": "code",
   "execution_count": null,
   "id": "7cce069d-3f7c-4904-ab09-1c87927ab97f",
   "metadata": {},
   "outputs": [],
   "source": []
  },
  {
   "cell_type": "markdown",
   "id": "68eb5c90-ead5-495e-8806-1f22afb082bb",
   "metadata": {},
   "source": [
    "Q10. Explain the difference between covariance and correlation. How are these measures used in \n",
    "statistical analysis?"
   ]
  },
  {
   "cell_type": "raw",
   "id": "5fd895f4-9926-4d86-84d0-7500f62e4dd0",
   "metadata": {},
   "source": [
    "## answer 10:\n",
    "Range: Covariance can take any value, positive or negative, without any bound. Correlation, on the other hand, is bounded between -1 and 1, making it easier to interpret and compare.\n",
    "\n",
    "Standardization: Correlation standardizes the relationship by dividing the covariance by the product of the standard deviations of the two variables, allowing for comparison of relationships on different scales.\n",
    "\n",
    "Interpretation: Covariance doesn't provide a clear sense of the strength or direction of the relationship. Correlation provides both the strength and direction, making it more interpretable."
   ]
  },
  {
   "cell_type": "code",
   "execution_count": null,
   "id": "1aed884e-0c4b-46b0-9e42-97a9416e4231",
   "metadata": {},
   "outputs": [],
   "source": []
  },
  {
   "cell_type": "code",
   "execution_count": null,
   "id": "eed8fd09-d29f-4502-bd30-301531e28a8d",
   "metadata": {},
   "outputs": [],
   "source": []
  },
  {
   "cell_type": "markdown",
   "id": "9b3f2bc6-9a50-4f5e-94bb-1cef8297cebf",
   "metadata": {},
   "source": [
    "Q11. What is the formula for calculating the sample mean? Provide an example calculation for a \n",
    "dataset."
   ]
  },
  {
   "cell_type": "raw",
   "id": "1d8fd1bc-3dd9-4d33-bead-7a7362d28101",
   "metadata": {},
   "source": [
    "## answer 11:\n",
    "The formula for calculating the sample mean (average) of a dataset is as follows:\n",
    "\n",
    "Sample Mean (x̄) = (Sum of all data points) / (Number of data points)\n",
    "\n",
    "example:\n",
    "Suppose we have the following dataset representing the scores of students on a test:\n",
    "10, 15, 20, 25, 30\n",
    "\n",
    "Add up all the data points: 10 + 15 + 20 + 25 + 30 = 100\n",
    "Count the number of data points: 5\n",
    "Now, use the formula to calculate the sample mean:\n",
    "\n",
    "Sample Mean (x̄) = 100 / 5 = 20"
   ]
  },
  {
   "cell_type": "code",
   "execution_count": null,
   "id": "27add352-695d-4004-9f24-c77f9a879039",
   "metadata": {},
   "outputs": [],
   "source": []
  },
  {
   "cell_type": "code",
   "execution_count": null,
   "id": "7bfd2be7-2408-445a-9ac3-67f3feb93612",
   "metadata": {},
   "outputs": [],
   "source": []
  },
  {
   "cell_type": "markdown",
   "id": "d0fc053f-0aad-401a-afe1-2a4db0221a57",
   "metadata": {},
   "source": [
    "Q12. For a normal distribution data what is the relationship between its measure of central tendency?\n"
   ]
  },
  {
   "cell_type": "raw",
   "id": "bfd74dc8-8b77-4efc-88fe-05f57b3ac858",
   "metadata": {},
   "source": [
    "## Answer 12:\n",
    "In a normal distribution, also known as a Gaussian distribution or bell curve, the three measures of central tendency — mean, median, and mode — are all equal to each other. "
   ]
  },
  {
   "cell_type": "code",
   "execution_count": null,
   "id": "97c7d372-383f-4598-8579-eb759d13f109",
   "metadata": {},
   "outputs": [],
   "source": []
  },
  {
   "cell_type": "code",
   "execution_count": null,
   "id": "7361b28c-d8cf-48f8-914f-12e887c4239d",
   "metadata": {},
   "outputs": [],
   "source": []
  },
  {
   "cell_type": "markdown",
   "id": "d07e454f-b6ae-4cbc-904d-b345db750057",
   "metadata": {},
   "source": [
    "Q13. How is covariance different from correlation?\n"
   ]
  },
  {
   "cell_type": "raw",
   "id": "7b3bcec0-0048-48d8-b005-5004b53f17f5",
   "metadata": {},
   "source": [
    "## answer 13:\n",
    "Covariance measures direction and magnitude of the linear relationship between two variables while correlation measures the strength and direction of the linear relationship between two variables."
   ]
  },
  {
   "cell_type": "code",
   "execution_count": null,
   "id": "e12d97cc-31de-47af-805a-face1b68bb7d",
   "metadata": {},
   "outputs": [],
   "source": []
  },
  {
   "cell_type": "code",
   "execution_count": null,
   "id": "728e4c57-d407-4d30-834b-616e81dddf1b",
   "metadata": {},
   "outputs": [],
   "source": []
  },
  {
   "cell_type": "markdown",
   "id": "00b175bb-79c6-46ac-9d46-e2d1d315e08a",
   "metadata": {},
   "source": [
    "Q14. How do outliers affect measures of central tendency and dispersion? Provide an example.\n"
   ]
  },
  {
   "cell_type": "raw",
   "id": "70e325b2-853e-4498-bc5a-ae15ad657c9a",
   "metadata": {},
   "source": [
    "## answer 14:\n",
    "Outliers are data points that significantly deviate from the overall pattern of a dataset. They can have a notable impact on measures of central tendency (mean, median, mode) and measures of dispersion (variance, standard deviation, range). The extent of this impact depends on the number of outliers, their values, and the nature of the distribution.\n",
    "\n",
    "Effects on Measures of Central Tendency:\n",
    "\n",
    "Mean: Outliers can disproportionately influence the mean, especially in datasets with a small sample size. A single extreme value can significantly shift the mean towards that outlier's value.\n",
    "\n",
    "Median: The median is less affected by outliers than the mean. If there are outliers, the median may better represent the \"typical\" value because it is not as sensitive to extreme values.\n",
    "\n",
    "Mode: The mode may not be affected by outliers unless the dataset is multimodal (has multiple modes), in which case outliers might contribute to additional modes.\n",
    "\n",
    "Effects on Measures of Dispersion:\n",
    "\n",
    "Variance and Standard Deviation: Outliers tend to increase both the variance and standard deviation, as they contribute to larger squared differences from the mean. This increase occurs because the squared differences are being averaged, and larger deviations are squared and then summed.\n",
    "\n",
    "Range: Outliers can significantly affect the range, making it much wider or narrower depending on the direction of the outlier's deviation.\n",
    "\n",
    "Example:\n",
    "Let's consider the following dataset representing the ages of a group of people in years:\n",
    "\n",
    "25, 28, 30, 32, 35, 38, 40, 42, 45, 200\n",
    "\n",
    "Mean: Without the outlier, the mean would be (25 + 28 + 30 + 32 + 35 + 38 + 40 + 42 + 45) / 9 ≈ 34.78. With the outlier, the mean becomes (25 + 28 + 30 + 32 + 35 + 38 + 40 + 42 + 45 + 200) / 10 = 36.5. The outlier significantly increases the mean.\n",
    "\n",
    "Median: The median without the outlier is 35, and with the outlier, it remains 35. The median is not influenced by the outlier.\n",
    "\n",
    "Variance and Standard Deviation: Without the outlier, the variance and standard deviation would be relatively low. With the outlier, both values increase significantly due to the large squared difference between the outlier and the mean.\n",
    "\n",
    "Range: Without the outlier, the range is 45 - 25 = 20. With the outlier, the range becomes 200 - 25 = 175, which is greatly expanded by the outlier.\n",
    "\n",
    "In this example, the outlier (200) significantly affects the mean, variance, standard deviation, and range, while the median remains unchanged. This demonstrates the impact of outliers on various measures of central tendency and dispersion."
   ]
  },
  {
   "cell_type": "code",
   "execution_count": null,
   "id": "a643da4c-8e00-45db-bd4f-a7921e444011",
   "metadata": {},
   "outputs": [],
   "source": []
  }
 ],
 "metadata": {
  "kernelspec": {
   "display_name": "Python 3 (ipykernel)",
   "language": "python",
   "name": "python3"
  },
  "language_info": {
   "codemirror_mode": {
    "name": "ipython",
    "version": 3
   },
   "file_extension": ".py",
   "mimetype": "text/x-python",
   "name": "python",
   "nbconvert_exporter": "python",
   "pygments_lexer": "ipython3",
   "version": "3.10.8"
  }
 },
 "nbformat": 4,
 "nbformat_minor": 5
}
