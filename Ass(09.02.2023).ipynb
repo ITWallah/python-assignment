{
 "cells": [
  {
   "cell_type": "markdown",
   "id": "c40b302c-6939-47fd-bf38-da2ad524c8ab",
   "metadata": {},
   "source": [
    "## assignment(09/FEB2023)"
   ]
  },
  {
   "cell_type": "markdown",
   "id": "bb605087-220d-4e72-bc5f-d55cc62b52ca",
   "metadata": {},
   "source": [
    "Q1, Create a vehicle class with an init method having instance variables as name_of_vehicle, max_speed \n",
    "and average_of_vehicle."
   ]
  },
  {
   "cell_type": "code",
   "execution_count": 5,
   "id": "2d31f6c3-77cb-4c5c-ac5f-2e4c4d2d4f44",
   "metadata": {},
   "outputs": [],
   "source": [
    "## answer 1\n",
    "class vehicle:\n",
    "    def __init__(s, name_of_vehicle, max_speed , average_of_vehicle):\n",
    "        s.name_of_vehicle = name_of_vehicle\n",
    "        s.max_speed = 0\n",
    "        s.average_of_vehicle = average_of_vehicle\n",
    "            \n",
    "    def return_vehicle(s):\n",
    "        return  s.name_of_vehicle, s.max_speed , s.average_of_vehicle"
   ]
  },
  {
   "cell_type": "code",
   "execution_count": 6,
   "id": "3eaa654d-7eb5-42a6-b39f-80be0d765cc3",
   "metadata": {},
   "outputs": [],
   "source": [
    "audi = vehicle(\"audiQ3\",220, 10)"
   ]
  },
  {
   "cell_type": "code",
   "execution_count": 7,
   "id": "0e08807d-8500-4d24-81f6-1467fa7feec6",
   "metadata": {},
   "outputs": [
    {
     "data": {
      "text/plain": [
       "('audiQ3', 0, 10)"
      ]
     },
     "execution_count": 7,
     "metadata": {},
     "output_type": "execute_result"
    }
   ],
   "source": [
    "audi.return_vehicle()"
   ]
  },
  {
   "cell_type": "code",
   "execution_count": null,
   "id": "be18bc76-1ca3-4d8d-a9b8-5e78b3aa01d5",
   "metadata": {},
   "outputs": [],
   "source": []
  },
  {
   "cell_type": "code",
   "execution_count": null,
   "id": "d308819a-9bcc-4611-b8ff-9c5a5f742886",
   "metadata": {},
   "outputs": [],
   "source": []
  },
  {
   "cell_type": "markdown",
   "id": "0b60e3df-e0f9-4b68-8abc-a111cd109ea7",
   "metadata": {},
   "source": [
    "Q2.  Create a child class car from the vehicle class created in Que 1, which will inherit the vehicle class. \n",
    "Create a method named seating_capacity which takes capacity as an argument and returns the name of \n",
    "the vehicle and its seating capacity"
   ]
  },
  {
   "cell_type": "code",
   "execution_count": 17,
   "id": "7287c844-eeac-41ac-acf8-729299b10b27",
   "metadata": {},
   "outputs": [
    {
     "name": "stdout",
     "output_type": "stream",
     "text": [
      "The seating capacity of a School Volvo is 7 passengers\n"
     ]
    }
   ],
   "source": [
    "class Vehicle:\n",
    "    def __init__(self, name, max_speed, mileage):\n",
    "        self.name = name\n",
    "        self.max_speed = max_speed\n",
    "        self.mileage = mileage\n",
    "\n",
    "    def seating_capacity(self, capacity):\n",
    "        return f\"The seating capacity of a {self.name} is {capacity} passengers\"\n",
    "\n",
    "class Bus(Vehicle):\n",
    "    # assign default value to capacity\n",
    "    def seating_capacity(self, capacity=7):\n",
    "        return super().seating_capacity(capacity=7)\n",
    "\n",
    "School_bus = Bus(\"School Volvo\", 180, 12)\n",
    "print(School_bus.seating_capacity())\n"
   ]
  },
  {
   "cell_type": "code",
   "execution_count": null,
   "id": "91e573e0-b407-4748-8193-15369a184846",
   "metadata": {},
   "outputs": [],
   "source": []
  },
  {
   "cell_type": "code",
   "execution_count": null,
   "id": "48587a82-b8bc-4034-84a0-31fae4d9fcff",
   "metadata": {},
   "outputs": [],
   "source": []
  },
  {
   "cell_type": "markdown",
   "id": "2805f108-c926-43aa-a1f2-2e6143b2adb6",
   "metadata": {},
   "source": [
    "Q3. What is multiple inheritance? Write a python code to demonstrate multiple inheritance."
   ]
  },
  {
   "cell_type": "code",
   "execution_count": null,
   "id": "21c00a26-b010-4d25-a27d-055ee086863d",
   "metadata": {},
   "outputs": [],
   "source": [
    "## Answer 3\n",
    "          \n",
    "-> Multiple Inheritance :\n",
    "When a class is derived from more than one base class it is called multiple Inheritance. The derived class inherits all the features of the base case.    "
   ]
  },
  {
   "cell_type": "code",
   "execution_count": 20,
   "id": "f3655042-ccf4-4cae-8ffc-a746915f9941",
   "metadata": {},
   "outputs": [
    {
     "name": "stdout",
     "output_type": "stream",
     "text": [
      "In Class3\n"
     ]
    }
   ],
   "source": [
    "# when method is overridden in one of the classes\n",
    " \n",
    "class Class1:\n",
    "    def m(self):\n",
    "        print(\"In Class1\")\n",
    "       \n",
    "class Class2(Class1):\n",
    "    pass\n",
    " \n",
    "class Class3(Class1):\n",
    "    def m(self):\n",
    "        print(\"In Class3\")   \n",
    "      \n",
    "class Class4(Class2, Class3):\n",
    "    pass      \n",
    " \n",
    "obj = Class4()\n",
    "obj.m()"
   ]
  },
  {
   "cell_type": "code",
   "execution_count": null,
   "id": "2904c155-4b53-42f0-8db1-0d5e99538a37",
   "metadata": {},
   "outputs": [],
   "source": []
  },
  {
   "cell_type": "code",
   "execution_count": null,
   "id": "66c2e3a3-40d4-49f4-b92c-f2c5bc6f2314",
   "metadata": {},
   "outputs": [],
   "source": []
  },
  {
   "cell_type": "markdown",
   "id": "27c57f1a-0612-4804-b927-b68235448ea7",
   "metadata": {},
   "source": [
    "Q4. What are getter and setter in python? Create a class and create a getter and a setter method in this \n",
    "class"
   ]
  },
  {
   "cell_type": "code",
   "execution_count": null,
   "id": "d07bcbf6-046a-4535-b1e2-1371210be072",
   "metadata": {},
   "outputs": [],
   "source": [
    "-> Basically, the main purpose of using getters and setters in object-oriented programs is to ensure data encapsulation.\n",
    "\n",
    "-> We use getters & setters to add validation logic around getting and setting a value.\n",
    "-> To avoid direct access of a class field i.e. private variables cannot be accessed directly or modified by external user."
   ]
  },
  {
   "cell_type": "code",
   "execution_count": 22,
   "id": "ac62b6f5-104a-42bf-bffc-992164618c01",
   "metadata": {},
   "outputs": [
    {
     "name": "stdout",
     "output_type": "stream",
     "text": [
      "21\n",
      "21\n"
     ]
    }
   ],
   "source": [
    "# of get() and set() method\n",
    "\n",
    "\n",
    "class Geek:\n",
    "\tdef __init__(self, age = 0):\n",
    "\t\tself._age = age\n",
    "\t\n",
    "\t# getter method\n",
    "\tdef get_age(self):\n",
    "\t\treturn self._age\n",
    "\t\n",
    "\t# setter method\n",
    "\tdef set_age(self, x):\n",
    "\t\tself._age = x\n",
    "\n",
    "raj = Geek()\n",
    "\n",
    "# setting the age using setter\n",
    "raj.set_age(21)\n",
    "\n",
    "# retrieving age using getter\n",
    "print(raj.get_age())\n",
    "\n",
    "print(raj._age)\n"
   ]
  },
  {
   "cell_type": "code",
   "execution_count": null,
   "id": "aaf8f252-690a-4e5f-b1fe-a329a408e4ff",
   "metadata": {},
   "outputs": [],
   "source": []
  },
  {
   "cell_type": "code",
   "execution_count": null,
   "id": "46744535-53a2-4014-a842-76fb1f38964d",
   "metadata": {},
   "outputs": [],
   "source": []
  },
  {
   "cell_type": "markdown",
   "id": "ef5d3241-5eca-4913-8f60-8b26c0125bcc",
   "metadata": {},
   "source": [
    "Q5.What is method overriding in python? Write a python code to demonstrate method overriding."
   ]
  },
  {
   "cell_type": "code",
   "execution_count": null,
   "id": "e3327184-5cd1-4522-87f5-82a1772f9a22",
   "metadata": {},
   "outputs": [],
   "source": [
    "-> The method overriding in Python means creating two methods with the same name but differ in the programming logic. The concept of Method overriding allows us to change or override the Parent Class function in the Child Class."
   ]
  },
  {
   "cell_type": "code",
   "execution_count": 24,
   "id": "f3b9e995-3683-46cb-a06f-455cc02e3894",
   "metadata": {},
   "outputs": [
    {
     "name": "stdout",
     "output_type": "stream",
     "text": [
      "Inside Parent\n",
      "Inside Child\n"
     ]
    }
   ],
   "source": [
    "# Defining parent class\n",
    "class Parent():\n",
    "      \n",
    "    # Constructor\n",
    "    def __init__(self):\n",
    "        self.value = \"Inside Parent\"\n",
    "          \n",
    "    # Parent's show method\n",
    "    def show(self):\n",
    "        print(self.value)\n",
    "          \n",
    "# Defining child class\n",
    "class Child(Parent):\n",
    "      \n",
    "    # Constructor\n",
    "    def __init__(self):\n",
    "        self.value = \"Inside Child\"\n",
    "          \n",
    "    # Child's show method\n",
    "    def show(self):\n",
    "        print(self.value)\n",
    "          \n",
    "          \n",
    "# Driver's code\n",
    "obj1 = Parent()\n",
    "obj2 = Child()\n",
    "  \n",
    "obj1.show()\n",
    "obj2.show()"
   ]
  },
  {
   "cell_type": "code",
   "execution_count": null,
   "id": "6b4e9fbd-5429-4cdb-8538-b63770a045a6",
   "metadata": {},
   "outputs": [],
   "source": []
  }
 ],
 "metadata": {
  "kernelspec": {
   "display_name": "Python 3 (ipykernel)",
   "language": "python",
   "name": "python3"
  },
  "language_info": {
   "codemirror_mode": {
    "name": "ipython",
    "version": 3
   },
   "file_extension": ".py",
   "mimetype": "text/x-python",
   "name": "python",
   "nbconvert_exporter": "python",
   "pygments_lexer": "ipython3",
   "version": "3.10.8"
  }
 },
 "nbformat": 4,
 "nbformat_minor": 5
}
