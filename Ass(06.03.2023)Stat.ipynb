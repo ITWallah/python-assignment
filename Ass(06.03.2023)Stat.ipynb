{
 "cells": [
  {
   "cell_type": "markdown",
   "id": "4601d3e3-e0c0-47f9-83a7-8845ca9f3993",
   "metadata": {},
   "source": [
    "## Assignment(06/03/2023) Statistics basics"
   ]
  },
  {
   "cell_type": "markdown",
   "id": "1cf8393b-ab83-418e-bd4f-38f0d037038a",
   "metadata": {},
   "source": [
    "Q1. What is Statistics?"
   ]
  },
  {
   "cell_type": "code",
   "execution_count": null,
   "id": "f63f55ca-67ac-403f-b1bc-818c7b85f8a2",
   "metadata": {},
   "outputs": [],
   "source": [
    "Statistics refers to the discipline and field of study that involves the collection, analysis, interpretation, presentation, and organization of data. It plays a crucial role in making sense of information in various domains by providing methods to extract meaningful insights from data."
   ]
  },
  {
   "cell_type": "code",
   "execution_count": null,
   "id": "f04bfaa7-3531-4300-a5cd-8907aa52b330",
   "metadata": {},
   "outputs": [],
   "source": []
  },
  {
   "cell_type": "code",
   "execution_count": null,
   "id": "d855f7cc-cea0-4499-90cf-37ab777043ef",
   "metadata": {},
   "outputs": [],
   "source": []
  },
  {
   "cell_type": "markdown",
   "id": "04b3df63-7bcd-4da8-886f-d2de5316a30c",
   "metadata": {},
   "source": [
    "Q2. Define the different types of statistics and give an example of when each type might be used.\n"
   ]
  },
  {
   "cell_type": "code",
   "execution_count": null,
   "id": "30912b7b-2eaa-41cf-a88c-635a5ed04a66",
   "metadata": {},
   "outputs": [],
   "source": [
    "Descriptive Statistics:\n",
    "Example: Suppose you have collected data on the ages of students in a school. Descriptive statistics would include\n",
    "measures like the average (mean) age of the students, the most common (mode) age, the spread of ages (standard deviation),\n",
    "and perhaps a histogram showing the distribution of ages.\n",
    "\n",
    "Inferential Statistics:\n",
    "Example: Imagine you're a pollster conducting a political survey. You interview a random sample of 1000 voters to determine\n",
    "their preferences for two candidates. Using inferential statistics, you can estimate the proportion of the entire population\n",
    "that supports each candidate and calculate a confidence interval to indicate the range within which the true proportions likely fall.\n",
    "\n",
    "Categorical Statistics:\n",
    "Example: Analyzing the distribution of hair colors (e.g., black, brown, blonde, red) among a group of individuals.\n",
    "\n",
    "Numerical Statistics:\n",
    "Example: Calculating the average weight of a sample of apples from an orchard.\n",
    "\n",
    "Continuous Statistics:\n",
    "Example: Measuring the height of individuals in a group using inches or centimeters.\n",
    "\n",
    "Discrete Statistics:\n",
    "Example: Counting the number of books on different subjects in a library's catalog.\n",
    "\n",
    "Parametric Statistics:\n",
    "Example: Conducting a t-test to compare the means of two groups, assuming that the data follows a normal distribution.\n",
    "\n",
    "Nonparametric Statistics:\n",
    "Example: Using the Mann-Whitney U test to compare the medians of two independent groups without assuming a normal distribution."
   ]
  },
  {
   "cell_type": "code",
   "execution_count": null,
   "id": "41c8b4f8-a58e-4cae-a8de-7dc0fb519114",
   "metadata": {},
   "outputs": [],
   "source": []
  },
  {
   "cell_type": "code",
   "execution_count": null,
   "id": "4e8d8a34-4f84-4185-baab-255b54d0fa86",
   "metadata": {},
   "outputs": [],
   "source": []
  },
  {
   "cell_type": "markdown",
   "id": "9756c9c8-e3fb-4b3f-a767-d0ec29fba393",
   "metadata": {},
   "source": [
    "Q3.  What are the different types of data and how do they differ from each other? Provide an example of \n",
    "each type of data."
   ]
  },
  {
   "cell_type": "code",
   "execution_count": null,
   "id": "ae07213e-59b2-4997-96bf-3909fe9fda7c",
   "metadata": {},
   "outputs": [],
   "source": [
    "=>Nominal Data:\n",
    "Nominal data consists of categories or labels without any inherent order. The categories are distinct, but they do\n",
    "not have quantitative significance or numerical value.\n",
    "\n",
    "Example: Gender (male, female, non-binary). The categories are distinct, but there's no inherent ranking or numeric\n",
    "meaning associated with them.\n",
    "\n",
    "=>Ordinal Data:\n",
    "Ordinal data involves categories with a meaningful order or ranking, but the differences between categories are not\n",
    "necessarily uniform or quantifiable.\n",
    "\n",
    "Example: Education levels (elementary, high school, college, postgraduate). While there's an order, the difference\n",
    "between elementary and high school is not necessarily the same as the difference between college and postgraduate.\n",
    "\n",
    "=>Interval Data:\n",
    "Interval data have ordered categories with equal intervals between them, but they lack a true zero point. This means\n",
    "that you can perform addition and subtraction operations, but ratios are not meaningful.\n",
    "\n",
    "Example: Temperature in degrees Celsius. The difference between 20°C and 30°C is the same as between 30°C and 40°C,\n",
    "but a temperature of 0°C doesn't indicate the absence of temperature.\n",
    "\n",
    "=>Ratio Data:\n",
    "Ratio data have all the properties of interval data, but they also have a true zero point, enabling meaningful ratios\n",
    "and all arithmetic operations.\n",
    "\n",
    "Example: Height in centimeters. A person who is 180 cm tall is twice as tall as someone who is 90 cm tall, and a height\n",
    "of 0 cm represents the absence of height."
   ]
  },
  {
   "cell_type": "code",
   "execution_count": null,
   "id": "babcafca-232e-4019-b94f-2ee4f686c734",
   "metadata": {},
   "outputs": [],
   "source": []
  },
  {
   "cell_type": "code",
   "execution_count": null,
   "id": "20d90a75-5f34-43d6-8096-e622fcac2966",
   "metadata": {},
   "outputs": [],
   "source": []
  },
  {
   "cell_type": "markdown",
   "id": "1623c098-07e4-4f14-8ced-14e696e9ae90",
   "metadata": {},
   "source": [
    "Q4. Categorise the following datasets with respect to quantitative and qualitative data types:\n",
    "\n",
    "(i)\tGrading in exam: A+, A, B+, B, C+, C, D, E\n",
    "\n",
    "(ii)\tColour of mangoes: yellow, green, orange, red\n",
    "\n",
    "(iii)\tHeight data of a class: [178.9, 179, 179.5, 176, 177.2, 178.3, 175.8,...]\n",
    "\n",
    "(iv)\tNumber of mangoes exported by a farm: [500, 600, 478, 672, …]"
   ]
  },
  {
   "cell_type": "markdown",
   "id": "94f66a49-e9f0-4096-9074-505bcfada562",
   "metadata": {},
   "source": [
    "1 is Qualitative data\n",
    "2 is Qualitative data\n",
    "3 is quantitative data\n",
    "3 is quantitative data"
   ]
  },
  {
   "cell_type": "code",
   "execution_count": null,
   "id": "5bb684c2-c04b-4dbf-839f-65b30578de2e",
   "metadata": {},
   "outputs": [],
   "source": []
  },
  {
   "cell_type": "code",
   "execution_count": null,
   "id": "cf9d9625-d843-467a-ab59-5aecde43aeb0",
   "metadata": {},
   "outputs": [],
   "source": []
  },
  {
   "cell_type": "markdown",
   "id": "5fc45666-e6db-443d-a3bf-eafdf0e4c727",
   "metadata": {},
   "source": [
    "Q5. Explain the concept of levels of measurement and give an example of a variable for each level.\n"
   ]
  },
  {
   "cell_type": "markdown",
   "id": "83de7937-aa78-43d2-96be-3f630118a2a9",
   "metadata": {},
   "source": [
    "answer is similar to question 3."
   ]
  },
  {
   "cell_type": "code",
   "execution_count": null,
   "id": "6c6cb193-86c9-4fb9-bf06-34cb00cbb691",
   "metadata": {},
   "outputs": [],
   "source": []
  },
  {
   "cell_type": "code",
   "execution_count": null,
   "id": "e8edf1b0-3b4f-4ea1-810d-6e3f0cd062b8",
   "metadata": {},
   "outputs": [],
   "source": []
  },
  {
   "cell_type": "markdown",
   "id": "ce8c29c7-ea05-42b9-a691-078cc1be2603",
   "metadata": {},
   "source": [
    "Q6. Why is it important to understand the level of measurement when analyzing data? Provide an \n",
    "example to illustrate your answer."
   ]
  },
  {
   "cell_type": "markdown",
   "id": "394232b5-27bb-4ea9-ba43-8b6c7c0f4681",
   "metadata": {},
   "source": [
    "Understanding the level of measurement of data is crucial when analyzing data because it determines the types of statistical analyses that can be applied, the appropriate measures of central tendency and variability, and the level of mathematical operations that can be performed on the data. Incorrectly applying statistical methods or misinterpreting results due to misunderstanding the level of measurement can lead to inaccurate conclusions and misleading insights."
   ]
  },
  {
   "cell_type": "code",
   "execution_count": null,
   "id": "e87f9fb8-058d-4d95-b6ef-dae9dcf00d8e",
   "metadata": {},
   "outputs": [],
   "source": []
  },
  {
   "cell_type": "code",
   "execution_count": null,
   "id": "08b3495f-4511-4c7a-b03a-2358b623f8c5",
   "metadata": {},
   "outputs": [],
   "source": []
  },
  {
   "cell_type": "markdown",
   "id": "a9bc80e8-2c36-47df-90af-fef241581168",
   "metadata": {},
   "source": [
    "Q7. How nominal data type is different from ordinal data type."
   ]
  },
  {
   "cell_type": "markdown",
   "id": "ea0f0136-eca6-49af-9ce9-b372b265a341",
   "metadata": {},
   "source": [
    "Nominal dataConsist of categories or labels without any inherited while ordinal data involves categories with a meaningful order or ranking."
   ]
  },
  {
   "cell_type": "code",
   "execution_count": null,
   "id": "99b2d740-debe-47a7-8c9f-c6a9cbda4d3c",
   "metadata": {},
   "outputs": [],
   "source": []
  },
  {
   "cell_type": "code",
   "execution_count": null,
   "id": "87372729-8746-47ae-aa86-c23606057b2c",
   "metadata": {},
   "outputs": [],
   "source": []
  },
  {
   "cell_type": "markdown",
   "id": "7dd5197d-97fe-4f4b-a873-5eac84171f70",
   "metadata": {},
   "source": [
    "Q8. Which type of plot can be used to display data in terms of range?\n"
   ]
  },
  {
   "cell_type": "markdown",
   "id": "657a9727-1052-4707-ad6c-2774c6c726c9",
   "metadata": {},
   "source": [
    "A box plot (also known as a box-and-whisker plot) is commonly used to display data in terms of range. Box plots provide a visual representation of the distribution of a dataset by showing the median, quartiles, and potential outliers. They are particularly useful for summarizing the spread and variability of data, including the minimum and maximum values."
   ]
  },
  {
   "cell_type": "code",
   "execution_count": null,
   "id": "3efccd9b-c671-4b45-b997-0abac83568f8",
   "metadata": {},
   "outputs": [],
   "source": []
  },
  {
   "cell_type": "code",
   "execution_count": null,
   "id": "9158358a-dbc4-4277-8192-88ff5c16021c",
   "metadata": {},
   "outputs": [],
   "source": []
  },
  {
   "cell_type": "markdown",
   "id": "8331031c-e9b4-4720-b717-ff8bf9ed2c6e",
   "metadata": {},
   "source": [
    "Q9. Describe the difference between descriptive and inferential statistics. Give an example of each \n",
    "type of statistics and explain how they are used."
   ]
  },
  {
   "cell_type": "markdown",
   "id": "46e184df-955d-4094-a8e3-eb79148ec0f2",
   "metadata": {},
   "source": [
    "Descriptive Statistics:\n",
    "Descriptive statistics involve methods for summarizing and describing data to provide a clear and concise overview of its main characteristics. These statistics do not involve making inferences about a larger population; rather, they focus on presenting the data in an easily understandable manner. Descriptive statistics help to organize and simplify data for interpretation.\n",
    "\n",
    "Example of Descriptive Statistics: Suppose you have collected data on the ages of individuals in a survey group. Descriptive statistics for this data might include measures such as the mean (average) age, the median (middle value), the mode (most frequent age), the range (difference between the maximum and minimum ages), and the standard deviation (a measure of how spread out the ages are from the average).\n",
    "\n",
    "Use of Descriptive Statistics: Descriptive statistics provide a snapshot of the dataset's main features. They help in summarizing data for quick understanding and comparison. These statistics are often used in research, reporting, and general data presentation to convey basic information about the data at hand.\n",
    "\n",
    "Inferential Statistics:\n",
    "Inferential statistics involve drawing conclusions or making predictions about a larger population based on a sample of data. These methods use probability theory and sampling techniques to estimate population parameters and assess the reliability of these estimates. Inferential statistics allow researchers to make generalizations beyond the observed sample and evaluate hypotheses.\n",
    "\n",
    "Example of Inferential Statistics: Suppose you're a pollster conducting a political survey with a sample of 1000 voters. You want to estimate the proportion of the entire voting population that supports a certain candidate. You use inferential statistics to calculate a confidence interval for this proportion, indicating the range within which the true proportion likely falls.\n",
    "\n",
    "Use of Inferential Statistics: Inferential statistics are used to make predictions, test hypotheses, and make decisions about populations based on sample data. They are crucial in scientific research, market analysis, medical studies, quality control, and many other fields where generalizations need to be drawn from limited data."
   ]
  },
  {
   "cell_type": "code",
   "execution_count": null,
   "id": "f715bc49-5523-47b6-b855-ba1f690fe15e",
   "metadata": {},
   "outputs": [],
   "source": []
  },
  {
   "cell_type": "code",
   "execution_count": null,
   "id": "d8d054fc-d0d0-40ef-9338-9a2c7413fae9",
   "metadata": {},
   "outputs": [],
   "source": []
  },
  {
   "cell_type": "markdown",
   "id": "ee942109-558f-4919-9913-60c8c60f6b93",
   "metadata": {},
   "source": [
    "Q10. What are some common measures of central tendency and variability used in statistics? Explain \n",
    "how each measure can be used to describe a dataset."
   ]
  },
  {
   "cell_type": "markdown",
   "id": "7caa2790-b7fa-4de4-9fdd-404eabccee9f",
   "metadata": {},
   "source": [
    "Mean:\n",
    "The mean, also known as the average, is calculated by adding up all the values in a dataset and dividing by the number of values. It represents the balance point of the data.\n",
    "\n",
    "Use: The mean provides a general idea of the typical value in a dataset. However, it can be sensitive to outliers, which can significantly affect its value.\n",
    "\n",
    "Median:\n",
    "The median is the middle value when the data is arranged in ascending or descending order. If there's an even number of values, the median is the average of the two middle values.\n",
    "\n",
    "Use: The median is less affected by outliers compared to the mean. It provides a measure of central tendency that's better suited for skewed or non-normally distributed data.\n",
    "\n",
    "Mode:\n",
    "The mode is the value that appears most frequently in the dataset.\n",
    "\n",
    "Use: The mode is useful for identifying the most common value or category in categorical data. In some cases, a dataset may have no mode, or it might have multiple modes.\n",
    "\n",
    "Measures of Variability:\n",
    "\n",
    "Range:\n",
    "The range is the difference between the maximum and minimum values in a dataset.\n",
    "\n",
    "Use: The range gives a rough idea of how spread out the data is. However, it's sensitive to outliers and doesn't provide information about the distribution between the extremes.\n",
    "\n",
    "Variance:\n",
    "Variance measures the average squared difference between each data point and the mean. It quantifies how much individual values deviate from the mean.\n",
    "\n",
    "Use: Variance provides a measure of data spread. A higher variance indicates more variability, while a lower variance indicates less variability.\n",
    "\n",
    "Standard Deviation:\n",
    "The standard deviation is the square root of the variance. It represents the average deviation of data points from the mean.\n",
    "\n",
    "Use: Standard deviation is one of the most widely used measures of data dispersion. A higher standard deviation indicates greater variability, while a lower standard deviation indicates less variability."
   ]
  },
  {
   "cell_type": "code",
   "execution_count": null,
   "id": "e568e0fa-48d0-4dc6-9bb9-f0a68b548435",
   "metadata": {},
   "outputs": [],
   "source": []
  },
  {
   "cell_type": "code",
   "execution_count": null,
   "id": "e7ef66d3-2355-414e-b495-d87984395b46",
   "metadata": {},
   "outputs": [],
   "source": []
  },
  {
   "cell_type": "code",
   "execution_count": null,
   "id": "cb809530-d41a-41b0-acc2-17826afc8c03",
   "metadata": {},
   "outputs": [],
   "source": []
  },
  {
   "cell_type": "code",
   "execution_count": null,
   "id": "4c3d02e7-e10c-47da-96fc-46280cb476c1",
   "metadata": {},
   "outputs": [],
   "source": []
  },
  {
   "cell_type": "code",
   "execution_count": null,
   "id": "0650b99d-dfaf-4487-888e-530618699dfd",
   "metadata": {},
   "outputs": [],
   "source": []
  },
  {
   "cell_type": "code",
   "execution_count": null,
   "id": "49130229-81af-49c6-bf55-7f5b88adb9b0",
   "metadata": {},
   "outputs": [],
   "source": []
  },
  {
   "cell_type": "code",
   "execution_count": null,
   "id": "94160e07-567e-4bf2-b138-f0dc4802d4c5",
   "metadata": {},
   "outputs": [],
   "source": []
  },
  {
   "cell_type": "code",
   "execution_count": null,
   "id": "a6c243c0-90ea-4285-a81b-43de36a96b70",
   "metadata": {},
   "outputs": [],
   "source": []
  },
  {
   "cell_type": "code",
   "execution_count": null,
   "id": "915f0689-a448-4603-b9ef-6ca52204d6b3",
   "metadata": {},
   "outputs": [],
   "source": []
  }
 ],
 "metadata": {
  "kernelspec": {
   "display_name": "Python 3 (ipykernel)",
   "language": "python",
   "name": "python3"
  },
  "language_info": {
   "codemirror_mode": {
    "name": "ipython",
    "version": 3
   },
   "file_extension": ".py",
   "mimetype": "text/x-python",
   "name": "python",
   "nbconvert_exporter": "python",
   "pygments_lexer": "ipython3",
   "version": "3.10.8"
  }
 },
 "nbformat": 4,
 "nbformat_minor": 5
}
