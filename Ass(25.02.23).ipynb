{
 "cells": [
  {
   "cell_type": "markdown",
   "id": "04b83f0e-d329-4ed3-b3ea-b59fc53b2a11",
   "metadata": {},
   "source": [
    "## ASSIGNMENT(25/FEB/23) PANDAS ADV.2"
   ]
  },
  {
   "cell_type": "markdown",
   "id": "4c590b10-a320-4e0c-bf43-2ad3abad8f3f",
   "metadata": {},
   "source": [
    "Q1. Write a code to print the data present in the second row of the dataframe, df."
   ]
  },
  {
   "cell_type": "code",
   "execution_count": 2,
   "id": "b72f110f-19b8-4775-a02c-e4a5be2cf46d",
   "metadata": {},
   "outputs": [],
   "source": [
    "## answer 1:\n",
    "\n",
    "import pandas as pd\n",
    "course_name = ['Data Science', 'Machine Learning', 'Big Data', 'Data Engineer']\n",
    "duration = [2,3,6,4]\n",
    "df = pd.DataFrame(data = {'course_name' : course_name, 'duration' : duration})"
   ]
  },
  {
   "cell_type": "code",
   "execution_count": 3,
   "id": "1b03ad37-41c7-47a6-9b5d-713ad4f95ded",
   "metadata": {},
   "outputs": [
    {
     "data": {
      "text/plain": [
       "course_name    Machine Learning\n",
       "duration                      3\n",
       "Name: 1, dtype: object"
      ]
     },
     "execution_count": 3,
     "metadata": {},
     "output_type": "execute_result"
    }
   ],
   "source": [
    "df.loc[1]"
   ]
  },
  {
   "cell_type": "code",
   "execution_count": null,
   "id": "fe54ec93-0e4a-4b59-842f-1897bc88b8b6",
   "metadata": {},
   "outputs": [],
   "source": []
  },
  {
   "cell_type": "code",
   "execution_count": null,
   "id": "cfc3e0c2-444b-4c50-b4dc-9fbcd449e080",
   "metadata": {},
   "outputs": [],
   "source": []
  },
  {
   "cell_type": "markdown",
   "id": "50908293-5025-41a7-98ae-26c48b324f4d",
   "metadata": {},
   "source": [
    "Q2. What is the difference between the functions loc and iloc in pandas.DataFrame?"
   ]
  },
  {
   "cell_type": "code",
   "execution_count": null,
   "id": "35b90ad6-d746-4c6b-9f31-282d01a23d36",
   "metadata": {},
   "outputs": [],
   "source": [
    "## answer 2:\n",
    "\n",
    "=> The main difference between loc and iloc is that loc is label-based (you need to specify the row and column labels) while iloc is \n",
    "integer-position based (you need to specify the row and column by the integer position values, which start with 0)"
   ]
  },
  {
   "cell_type": "code",
   "execution_count": null,
   "id": "a2168339-2e12-47c5-9caa-cf790a54573b",
   "metadata": {},
   "outputs": [],
   "source": []
  },
  {
   "cell_type": "code",
   "execution_count": null,
   "id": "cbeb5321-2621-4e21-905f-b88bb4000ec9",
   "metadata": {},
   "outputs": [],
   "source": []
  },
  {
   "cell_type": "markdown",
   "id": "0177b217-b7c9-416c-8aa5-06c158c16e64",
   "metadata": {},
   "source": [
    "Q3. Reindex the given dataframe using a variable, reindex = [3,0,1,2] and store it in the variable, new_df\n",
    "then find the output for both new_df.loc[2] and new_df.iloc[2].\n",
    "\n",
    "\n",
    "Did you observe any difference in both the outputs? If so then explain it.\n",
    "Consider the below code to answer further questions:\n"
   ]
  },
  {
   "cell_type": "code",
   "execution_count": 5,
   "id": "b0b0a01f-3848-477b-ab26-8ce386b596ea",
   "metadata": {},
   "outputs": [],
   "source": [
    "import pandas as pd\n",
    "import numpy as np\n",
    "columns = ['column_1', 'column_2', 'column_3', 'column_4', 'column_5', 'column_6']\n",
    "indices = [1,2,3,4,5,6]\n",
    "#Creating a dataframe:\n",
    "df1 = pd.DataFrame(np.random.rand(6,6), columns = columns, index = indices)"
   ]
  },
  {
   "cell_type": "code",
   "execution_count": 6,
   "id": "df1a3d7e-da83-4ac2-a0bf-bb61c88cb855",
   "metadata": {},
   "outputs": [],
   "source": [
    "new_df = df1.reindex([3,0,1,2])"
   ]
  },
  {
   "cell_type": "code",
   "execution_count": 7,
   "id": "4af5b4ff-d273-4c45-bd43-118088610aa8",
   "metadata": {},
   "outputs": [
    {
     "data": {
      "text/plain": [
       "column_1    0.283945\n",
       "column_2    0.671282\n",
       "column_3    0.220338\n",
       "column_4    0.999721\n",
       "column_5    0.694775\n",
       "column_6    0.252382\n",
       "Name: 2, dtype: float64"
      ]
     },
     "execution_count": 7,
     "metadata": {},
     "output_type": "execute_result"
    }
   ],
   "source": [
    "new_df.loc[2]"
   ]
  },
  {
   "cell_type": "code",
   "execution_count": 8,
   "id": "3f0e03c7-af35-45b6-a498-d02c9d202655",
   "metadata": {},
   "outputs": [
    {
     "data": {
      "text/plain": [
       "column_1    0.731028\n",
       "column_2    0.713415\n",
       "column_3    0.496792\n",
       "column_4    0.897545\n",
       "column_5    0.061087\n",
       "column_6    0.917797\n",
       "Name: 1, dtype: float64"
      ]
     },
     "execution_count": 8,
     "metadata": {},
     "output_type": "execute_result"
    }
   ],
   "source": [
    "new_df.iloc[2]"
   ]
  },
  {
   "cell_type": "code",
   "execution_count": null,
   "id": "61d76e94-9433-43ed-a7a9-b2a6221ca40c",
   "metadata": {},
   "outputs": [],
   "source": []
  },
  {
   "cell_type": "code",
   "execution_count": null,
   "id": "7f8b8f76-f94c-4a2b-b3a3-bb6916ee1af0",
   "metadata": {},
   "outputs": [],
   "source": []
  },
  {
   "cell_type": "markdown",
   "id": "1bd985af-d109-4da5-8ae0-3d575035c225",
   "metadata": {},
   "source": [
    "Q4. Write a code to find the following statistical measurements for the above dataframe df1:\n",
    "\n",
    "(i) \tmean of each and every column present in the dataframe.\n",
    "\n",
    "(ii) standard deviation of column, ‘column_2’"
   ]
  },
  {
   "cell_type": "code",
   "execution_count": 11,
   "id": "cbd994be-ff8f-46cc-826a-d323d74653b4",
   "metadata": {},
   "outputs": [
    {
     "data": {
      "text/html": [
       "<div>\n",
       "<style scoped>\n",
       "    .dataframe tbody tr th:only-of-type {\n",
       "        vertical-align: middle;\n",
       "    }\n",
       "\n",
       "    .dataframe tbody tr th {\n",
       "        vertical-align: top;\n",
       "    }\n",
       "\n",
       "    .dataframe thead th {\n",
       "        text-align: right;\n",
       "    }\n",
       "</style>\n",
       "<table border=\"1\" class=\"dataframe\">\n",
       "  <thead>\n",
       "    <tr style=\"text-align: right;\">\n",
       "      <th></th>\n",
       "      <th>column_1</th>\n",
       "      <th>column_2</th>\n",
       "      <th>column_3</th>\n",
       "      <th>column_4</th>\n",
       "      <th>column_5</th>\n",
       "      <th>column_6</th>\n",
       "    </tr>\n",
       "  </thead>\n",
       "  <tbody>\n",
       "    <tr>\n",
       "      <th>count</th>\n",
       "      <td>6.000000</td>\n",
       "      <td>6.000000</td>\n",
       "      <td>6.000000</td>\n",
       "      <td>6.000000</td>\n",
       "      <td>6.000000</td>\n",
       "      <td>6.000000</td>\n",
       "    </tr>\n",
       "    <tr>\n",
       "      <th>mean</th>\n",
       "      <td>0.394890</td>\n",
       "      <td>0.511126</td>\n",
       "      <td>0.527901</td>\n",
       "      <td>0.735642</td>\n",
       "      <td>0.344429</td>\n",
       "      <td>0.585901</td>\n",
       "    </tr>\n",
       "    <tr>\n",
       "      <th>std</th>\n",
       "      <td>0.290118</td>\n",
       "      <td>0.276431</td>\n",
       "      <td>0.264509</td>\n",
       "      <td>0.234790</td>\n",
       "      <td>0.263787</td>\n",
       "      <td>0.317055</td>\n",
       "    </tr>\n",
       "    <tr>\n",
       "      <th>min</th>\n",
       "      <td>0.040627</td>\n",
       "      <td>0.037722</td>\n",
       "      <td>0.220338</td>\n",
       "      <td>0.449795</td>\n",
       "      <td>0.061087</td>\n",
       "      <td>0.157893</td>\n",
       "    </tr>\n",
       "    <tr>\n",
       "      <th>25%</th>\n",
       "      <td>0.214454</td>\n",
       "      <td>0.394615</td>\n",
       "      <td>0.327408</td>\n",
       "      <td>0.525634</td>\n",
       "      <td>0.115611</td>\n",
       "      <td>0.341201</td>\n",
       "    </tr>\n",
       "    <tr>\n",
       "      <th>50%</th>\n",
       "      <td>0.326893</td>\n",
       "      <td>0.663955</td>\n",
       "      <td>0.541106</td>\n",
       "      <td>0.805365</td>\n",
       "      <td>0.328221</td>\n",
       "      <td>0.656345</td>\n",
       "    </tr>\n",
       "    <tr>\n",
       "      <th>75%</th>\n",
       "      <td>0.640732</td>\n",
       "      <td>0.678143</td>\n",
       "      <td>0.637807</td>\n",
       "      <td>0.892252</td>\n",
       "      <td>0.539203</td>\n",
       "      <td>0.832240</td>\n",
       "    </tr>\n",
       "    <tr>\n",
       "      <th>max</th>\n",
       "      <td>0.752607</td>\n",
       "      <td>0.713415</td>\n",
       "      <td>0.938638</td>\n",
       "      <td>0.999721</td>\n",
       "      <td>0.694775</td>\n",
       "      <td>0.917797</td>\n",
       "    </tr>\n",
       "  </tbody>\n",
       "</table>\n",
       "</div>"
      ],
      "text/plain": [
       "       column_1  column_2  column_3  column_4  column_5  column_6\n",
       "count  6.000000  6.000000  6.000000  6.000000  6.000000  6.000000\n",
       "mean   0.394890  0.511126  0.527901  0.735642  0.344429  0.585901\n",
       "std    0.290118  0.276431  0.264509  0.234790  0.263787  0.317055\n",
       "min    0.040627  0.037722  0.220338  0.449795  0.061087  0.157893\n",
       "25%    0.214454  0.394615  0.327408  0.525634  0.115611  0.341201\n",
       "50%    0.326893  0.663955  0.541106  0.805365  0.328221  0.656345\n",
       "75%    0.640732  0.678143  0.637807  0.892252  0.539203  0.832240\n",
       "max    0.752607  0.713415  0.938638  0.999721  0.694775  0.917797"
      ]
     },
     "execution_count": 11,
     "metadata": {},
     "output_type": "execute_result"
    }
   ],
   "source": [
    "## answer 4:\n",
    "\n",
    "df1.describe()"
   ]
  },
  {
   "cell_type": "code",
   "execution_count": 13,
   "id": "ab8a662d-c499-4351-8513-06d3a2d7d90e",
   "metadata": {},
   "outputs": [
    {
     "data": {
      "text/plain": [
       "0.2764311347061093"
      ]
     },
     "execution_count": 13,
     "metadata": {},
     "output_type": "execute_result"
    }
   ],
   "source": [
    "st = df1['column_2'].std()\n",
    "st"
   ]
  },
  {
   "cell_type": "code",
   "execution_count": null,
   "id": "434c32f3-3f9f-4319-82e8-822d42e1e2dc",
   "metadata": {},
   "outputs": [],
   "source": []
  },
  {
   "cell_type": "code",
   "execution_count": null,
   "id": "e267724f-36e9-4ed2-a8a9-b62529215333",
   "metadata": {},
   "outputs": [],
   "source": []
  },
  {
   "cell_type": "markdown",
   "id": "e2e51687-7495-4577-bb4f-28cbf7860c03",
   "metadata": {},
   "source": [
    "Q5. Replace the data present in the second row of column, ‘column_2’ by a string variable then find the \n",
    "mean of column, column_2.\n",
    "\n",
    "If you are getting errors in executing it then explain why"
   ]
  },
  {
   "cell_type": "code",
   "execution_count": 38,
   "id": "69d572ea-48a9-4012-8ae4-4d3e553a0fd2",
   "metadata": {},
   "outputs": [],
   "source": [
    "## answer 5:\n",
    "\n",
    "df1.loc[1, 'column_2'] = 0.238985"
   ]
  },
  {
   "cell_type": "code",
   "execution_count": null,
   "id": "0be26102-ef70-47ce-abfa-74db8714e66a",
   "metadata": {},
   "outputs": [],
   "source": [
    "df1['column_2'].mean()"
   ]
  },
  {
   "cell_type": "code",
   "execution_count": null,
   "id": "a31236ff-f3d0-411c-9640-210fb05391ef",
   "metadata": {},
   "outputs": [],
   "source": [
    "It has raised an error because we cannot Merge a string and floating point number. "
   ]
  },
  {
   "cell_type": "code",
   "execution_count": null,
   "id": "bb1b3312-5757-49b2-88c0-9a2b20471da9",
   "metadata": {},
   "outputs": [],
   "source": []
  },
  {
   "cell_type": "code",
   "execution_count": null,
   "id": "fd018850-0397-4d6e-9b92-794fdafe30b2",
   "metadata": {},
   "outputs": [],
   "source": []
  },
  {
   "cell_type": "markdown",
   "id": "04a20afe-dbca-4b3c-9568-f19311b02cdb",
   "metadata": {},
   "source": [
    "Q6. What do you understand about the windows function in pandas and list the types of windows \n",
    "functions?"
   ]
  },
  {
   "cell_type": "code",
   "execution_count": null,
   "id": "8cb84ada-f700-4127-b4e6-2a974a6784cd",
   "metadata": {},
   "outputs": [],
   "source": [
    "## answer 6:\n",
    "\n",
    "=> Windowing operations are very frequent operations in statistical calculations and data analysis. Python Pandas library provides different windowing functions that make complicated windowing operations simpler and easier.\n",
    "\n",
    "types:\n",
    "-Rolling window\n",
    "-Weighted window\n",
    "-Expanding window\n",
    "-Exponentially Weighted "
   ]
  },
  {
   "cell_type": "code",
   "execution_count": null,
   "id": "d91f7550-8a26-436e-bf60-5b9e29ccf3f0",
   "metadata": {},
   "outputs": [],
   "source": []
  },
  {
   "cell_type": "code",
   "execution_count": null,
   "id": "cfdb988a-8130-4b27-a493-21060f6fd1e4",
   "metadata": {},
   "outputs": [],
   "source": []
  },
  {
   "cell_type": "markdown",
   "id": "9de475f1-be52-403e-a5aa-9271fb12a027",
   "metadata": {},
   "source": [
    "Q7. Write a code to print only the current month and year at the time of answering this question."
   ]
  },
  {
   "cell_type": "code",
   "execution_count": 54,
   "id": "80e1d3eb-3e9c-4a9e-9864-21e8db94c971",
   "metadata": {},
   "outputs": [
    {
     "name": "stdout",
     "output_type": "stream",
     "text": [
      "May 2023\n"
     ]
    }
   ],
   "source": [
    "## answer 7:\n",
    "\n",
    "import datetime\n",
    "print(datetime.datetime.now().strftime(\"%B %Y\"))"
   ]
  },
  {
   "cell_type": "code",
   "execution_count": null,
   "id": "f48cc8b0-0748-45e9-a9aa-786736fea318",
   "metadata": {},
   "outputs": [],
   "source": []
  },
  {
   "cell_type": "code",
   "execution_count": null,
   "id": "bb635077-12bd-4d54-bab6-da6561d74f38",
   "metadata": {},
   "outputs": [],
   "source": []
  },
  {
   "cell_type": "markdown",
   "id": "1f0e5925-4e39-40a1-a810-5b2e7012d954",
   "metadata": {},
   "source": [
    "Q8. Write a Python program that takes in two dates as input (in the format YYYY-MM-DD) and \n",
    "calculates the difference between them in days, hours, and minutes using Pandas time delta. The \n",
    "program should prompt the user to enter the dates and display the result."
   ]
  },
  {
   "cell_type": "code",
   "execution_count": 68,
   "id": "96a7db38-ede4-4cf0-b76c-461f585e3121",
   "metadata": {},
   "outputs": [
    {
     "name": "stdin",
     "output_type": "stream",
     "text": [
      "Enter date :  20230101\n",
      "Enter date :  20230501\n"
     ]
    },
    {
     "name": "stdout",
     "output_type": "stream",
     "text": [
      "The difference between 2023-01-01 and 2023-05-01 is:\n",
      "- 120 days\n",
      "- 0 hours\n",
      "- 0 minutes\n"
     ]
    }
   ],
   "source": [
    "## answer 8:\n",
    "\n",
    "one = input(\"Enter date : \")\n",
    "two = input(\"Enter date : \")\n",
    "\n",
    "one = pd.to_datetime(one)\n",
    "two = pd.to_datetime(two)\n",
    "\n",
    "time_diff = two - one\n",
    "\n",
    "days = time_diff.days\n",
    "hours = time_diff.seconds // 3600\n",
    "minutes = (time_diff.seconds % 3600) // 60\n",
    "\n",
    "print(\"The difference between\", one.date(), \"and\", two.date(), \"is:\")\n",
    "print(\"- {} days\".format(days))\n",
    "print(\"- {} hours\".format(hours))\n",
    "print(\"- {} minutes\".format(minutes))"
   ]
  },
  {
   "cell_type": "code",
   "execution_count": null,
   "id": "b36ed2c6-5a14-4625-b52a-24e7931f2556",
   "metadata": {},
   "outputs": [],
   "source": []
  },
  {
   "cell_type": "code",
   "execution_count": null,
   "id": "55b17cd7-c93e-4db2-a51b-c085d35b6482",
   "metadata": {},
   "outputs": [],
   "source": []
  },
  {
   "cell_type": "code",
   "execution_count": null,
   "id": "e4f966d1-c1f5-4763-a2ce-87672ffe78d6",
   "metadata": {},
   "outputs": [],
   "source": []
  },
  {
   "cell_type": "code",
   "execution_count": null,
   "id": "e155bfdf-e0a6-49b9-9407-ac8958974aa3",
   "metadata": {},
   "outputs": [],
   "source": []
  },
  {
   "cell_type": "code",
   "execution_count": null,
   "id": "17d94477-2131-4dad-a773-b3a07853dfe7",
   "metadata": {},
   "outputs": [],
   "source": []
  },
  {
   "cell_type": "code",
   "execution_count": null,
   "id": "16f655dd-956b-4112-b1ce-c7ea757724e0",
   "metadata": {},
   "outputs": [],
   "source": []
  },
  {
   "cell_type": "code",
   "execution_count": null,
   "id": "12ceff56-755b-4cda-8b22-4c7755f9cb59",
   "metadata": {},
   "outputs": [],
   "source": []
  },
  {
   "cell_type": "code",
   "execution_count": null,
   "id": "c31d4919-b762-48fc-acf6-0e56588b2790",
   "metadata": {},
   "outputs": [],
   "source": []
  },
  {
   "cell_type": "code",
   "execution_count": null,
   "id": "214cde49-9bd1-4f37-8542-9428d1f1a2c6",
   "metadata": {},
   "outputs": [],
   "source": []
  },
  {
   "cell_type": "code",
   "execution_count": null,
   "id": "5a67b145-ea88-4c03-852a-704b9314a578",
   "metadata": {},
   "outputs": [],
   "source": []
  },
  {
   "cell_type": "code",
   "execution_count": null,
   "id": "3b314a7b-ae05-4f02-b241-e94ab10de060",
   "metadata": {},
   "outputs": [],
   "source": []
  },
  {
   "cell_type": "code",
   "execution_count": null,
   "id": "34156768-d988-4351-9ce2-1b6d8d3a113c",
   "metadata": {},
   "outputs": [],
   "source": []
  },
  {
   "cell_type": "code",
   "execution_count": null,
   "id": "6901917a-aa77-46fa-a1ae-4ad5dd2cd250",
   "metadata": {},
   "outputs": [],
   "source": []
  },
  {
   "cell_type": "code",
   "execution_count": null,
   "id": "591cefef-caa2-4d69-b539-ca4ad1b22077",
   "metadata": {},
   "outputs": [],
   "source": []
  },
  {
   "cell_type": "code",
   "execution_count": null,
   "id": "cbe28d9a-bf0b-4f5c-ba5c-b05c45c4ebab",
   "metadata": {},
   "outputs": [],
   "source": []
  },
  {
   "cell_type": "code",
   "execution_count": null,
   "id": "f80e6fd7-0996-4280-854a-50750275bbe2",
   "metadata": {},
   "outputs": [],
   "source": []
  },
  {
   "cell_type": "code",
   "execution_count": null,
   "id": "52c5f876-6ff5-481c-b848-832e163749a7",
   "metadata": {},
   "outputs": [],
   "source": []
  },
  {
   "cell_type": "code",
   "execution_count": null,
   "id": "21ee8c26-e827-483b-8534-de7176e38b1a",
   "metadata": {},
   "outputs": [],
   "source": []
  },
  {
   "cell_type": "code",
   "execution_count": null,
   "id": "61d6b79e-b719-4f53-a9cb-ac3cf361ec70",
   "metadata": {},
   "outputs": [],
   "source": []
  }
 ],
 "metadata": {
  "kernelspec": {
   "display_name": "Python 3 (ipykernel)",
   "language": "python",
   "name": "python3"
  },
  "language_info": {
   "codemirror_mode": {
    "name": "ipython",
    "version": 3
   },
   "file_extension": ".py",
   "mimetype": "text/x-python",
   "name": "python",
   "nbconvert_exporter": "python",
   "pygments_lexer": "ipython3",
   "version": "3.10.8"
  }
 },
 "nbformat": 4,
 "nbformat_minor": 5
}
