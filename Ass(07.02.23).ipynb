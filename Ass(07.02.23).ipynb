{
 "cells": [
  {
   "cell_type": "markdown",
   "id": "0f5c82ab-2433-495e-8eb9-d225968be97b",
   "metadata": {},
   "source": [
    "## Assignment(07/FEB/2023)"
   ]
  },
  {
   "cell_type": "code",
   "execution_count": null,
   "id": "74d2acc1-ecc7-4a74-8fb3-c860c0741ad3",
   "metadata": {},
   "outputs": [],
   "source": []
  },
  {
   "cell_type": "markdown",
   "id": "76725fe9-9cf8-47d1-9f3c-49af153fea2a",
   "metadata": {},
   "source": [
    "Q1. You are writing code for a company. The requirement of the company is that you create a python \n",
    "function that will check whether the password entered by the user is correct or not. The function should \n",
    "take the password as input and return the string “Valid Password” if the entered password follows the \n",
    "below-given password guidelines else it should return “Invalid Password”.\n",
    "\n",
    "\n",
    "Note: 1. The Password should contain at least two uppercase letters and at least two lowercase letters.\n",
    "\n",
    "2. The Password should contain at least a number and three special characters.\n",
    "\n",
    "3. The length of the password should be 10 characters long"
   ]
  },
  {
   "cell_type": "code",
   "execution_count": 160,
   "id": "86028a32-294a-4b7e-be44-05b951899b19",
   "metadata": {},
   "outputs": [
    {
     "name": "stdin",
     "output_type": "stream",
     "text": [
      "Enter passNword : Neel@#$Javiya123\n"
     ]
    },
    {
     "name": "stdout",
     "output_type": "stream",
     "text": [
      "Valid Password\n"
     ]
    }
   ],
   "source": [
    "stg = (input(\"Enter passNword :\"))\n",
    "\n",
    "import re\n",
    "\n",
    "val = True\n",
    "\n",
    "a = sum(1 for c in stg if c.isupper())\n",
    "b = sum(1 for c in stg if c.islower())\n",
    "d = sum(1 for c in stg if c.isdigit())\n",
    "c = (len(stg))\n",
    "if not any(char.isdigit() for char in stg):\n",
    "        val = False\n",
    "  \n",
    "  # for counting special characters\n",
    "    \n",
    "special_char = re.findall(r\"[!@#$%& *]\", stg)\n",
    "e = (len(special_char))\n",
    "\n",
    "\n",
    "if a>=2 and b>=2 and c>=10 and val==True and e>=3:\n",
    "    print(\"Valid Password\")\n",
    "else:\n",
    "    print(\"Invalid password\")"
   ]
  },
  {
   "cell_type": "code",
   "execution_count": null,
   "id": "e8bbb9e4-304d-48cc-a2d0-3f4ebbc16520",
   "metadata": {},
   "outputs": [],
   "source": []
  },
  {
   "cell_type": "markdown",
   "id": "ad7b79cc-c54a-4cf4-b22e-97e820166182",
   "metadata": {},
   "source": [
    "Q2. Solve the below-given questions using at least one of the following: \n",
    "\n",
    "1. Lambda function\n",
    "2. Filter function\n",
    "3. Zap function\n",
    "4. List Comprehension\n",
    "- Check if the string starts with a particular letter\n",
    "- Check if the string is numeric\n",
    "- Sort a list of tuples having fruit names and their quantity. [(\"mango\",99),(\"orange\",80), (\"grapes\", 1000)]\n",
    "\n",
    "- Find the squares of numbers from 1 to 10\n",
    "- Find the cube root of numbers from 1 to 10\n",
    "- Check if a given number is even\n",
    "- Filter odd numbers from the given list.\n",
    " [1,2,3,4,5,6,7,8,9,10]\n",
    " \n",
    "- Sort a list of integers into positive and negative integers lists.\n",
    " [1,2,3,4,5,6,-1,-2,-3,-4,-5,0]"
   ]
  },
  {
   "cell_type": "code",
   "execution_count": 1,
   "id": "cd048a7e-5679-4b37-945a-b43a097e9eb6",
   "metadata": {},
   "outputs": [],
   "source": [
    "# Check if the string starts with a particular letter"
   ]
  },
  {
   "cell_type": "code",
   "execution_count": 58,
   "id": "9212b70c-5d42-47c1-aadd-ed7f58a49e76",
   "metadata": {},
   "outputs": [
    {
     "name": "stdin",
     "output_type": "stream",
     "text": [
      "Enter string :  hello world\n",
      "Enter a character to check :  h\n"
     ]
    },
    {
     "name": "stdout",
     "output_type": "stream",
     "text": [
      "True\n"
     ]
    }
   ],
   "source": [
    "string = input(\"Enter string : \")\n",
    "check = input(\"Enter a character to check : \")\n",
    "\n",
    "print(string.startswith(check))"
   ]
  },
  {
   "cell_type": "code",
   "execution_count": null,
   "id": "d2d8fb64-4780-43ec-aa35-408d1b4da04a",
   "metadata": {},
   "outputs": [],
   "source": []
  },
  {
   "cell_type": "code",
   "execution_count": 66,
   "id": "fbbc010c-0d89-4b1d-b973-cfe391024116",
   "metadata": {},
   "outputs": [
    {
     "name": "stdin",
     "output_type": "stream",
     "text": [
      "Enter string :  799010\n"
     ]
    },
    {
     "name": "stdout",
     "output_type": "stream",
     "text": [
      "True\n"
     ]
    }
   ],
   "source": [
    "# Check if the string is numeric\n",
    "\n",
    "string = input(\"Enter string : \")\n",
    "print(string.isalnum())"
   ]
  },
  {
   "cell_type": "code",
   "execution_count": null,
   "id": "ecbc9650-2301-4f57-839a-fad2afa9a8b3",
   "metadata": {},
   "outputs": [],
   "source": []
  },
  {
   "cell_type": "code",
   "execution_count": 8,
   "id": "5e7cbacc-fd90-46da-b355-5398065644ef",
   "metadata": {},
   "outputs": [
    {
     "data": {
      "text/plain": [
       "[('grapes', 1000), ('mango', 99), ('orange', 80)]"
      ]
     },
     "execution_count": 8,
     "metadata": {},
     "output_type": "execute_result"
    }
   ],
   "source": [
    "# Sort a list of tuples having fruit names and their quantity.\n",
    "\n",
    "tpl = [(\"mango\",99),(\"orange\",80), (\"grapes\", 1000)]\n",
    "tpl.sort(key=lambda tpls : tpls[0])\n",
    "tpl"
   ]
  },
  {
   "cell_type": "code",
   "execution_count": 17,
   "id": "1d27c8f5-801a-48ef-9f7b-cf01c4286495",
   "metadata": {},
   "outputs": [
    {
     "data": {
      "text/plain": [
       "[1, 4, 9, 16, 25, 36, 49, 64, 81, 100]"
      ]
     },
     "execution_count": 17,
     "metadata": {},
     "output_type": "execute_result"
    }
   ],
   "source": [
    "# Find the squares of numbers from 1 to 10\n",
    "\n",
    "x = range(1,11)\n",
    "\n",
    "list(map(lambda x : x**2 , x))"
   ]
  },
  {
   "cell_type": "code",
   "execution_count": 29,
   "id": "bcb96a40-14bc-4b42-9ea6-6200c208f224",
   "metadata": {},
   "outputs": [
    {
     "data": {
      "text/plain": [
       "[1, 8, 27, 64, 125, 216, 343, 512, 729, 1000]"
      ]
     },
     "execution_count": 29,
     "metadata": {},
     "output_type": "execute_result"
    }
   ],
   "source": [
    "# Find the cube root of numbers from 1 to 10\n",
    "\n",
    "cube = range(1,11)\n",
    "\n",
    "list(map(lambda cube : cube**3 , cube))"
   ]
  },
  {
   "cell_type": "code",
   "execution_count": 34,
   "id": "5e6a60df-6b67-490b-82a3-c72eba7d7ea3",
   "metadata": {},
   "outputs": [
    {
     "name": "stdin",
     "output_type": "stream",
     "text": [
      "Enter a number :  7\n"
     ]
    },
    {
     "name": "stdout",
     "output_type": "stream",
     "text": [
      "Number is Odd\n"
     ]
    }
   ],
   "source": [
    "#  Check if a given number is even\n",
    "\n",
    "n = int(input(\"Enter a number : \"))\n",
    "        \n",
    "if n%2==0:\n",
    "        print(\"Number is Even\")\n",
    "else:\n",
    "    print(\"Number is Odd\")     "
   ]
  },
  {
   "cell_type": "code",
   "execution_count": 39,
   "id": "a3795875-62e4-42b2-8283-1bba1ab3de3a",
   "metadata": {},
   "outputs": [
    {
     "data": {
      "text/plain": [
       "[1, 3, 5, 7, 9]"
      ]
     },
     "execution_count": 39,
     "metadata": {},
     "output_type": "execute_result"
    }
   ],
   "source": [
    "#Filter odd numbers from the given list.\n",
    "\n",
    "lst = [1,2,3,4,5,6,7,8,9,10]\n",
    "\n",
    "list(filter(lambda x : x%2==1 , x))"
   ]
  },
  {
   "cell_type": "code",
   "execution_count": 49,
   "id": "c5b406d5-c225-4128-92c6-bcc8bb19a1f6",
   "metadata": {},
   "outputs": [],
   "source": [
    "# Sort a list of integers into positive and negative integers lists.\n",
    "    \n",
    "lst = [1,2,3,4,5,6,-1,-2,-3,-4,-5,0]    \n",
    "negative = []\n",
    "positive = []\n",
    "\n",
    "for i in lst:\n",
    "    if i>=0:\n",
    "        positive.append(i)\n",
    "        \n",
    "    else:\n",
    "        negative.append(i)\n",
    "        \n",
    "      "
   ]
  },
  {
   "cell_type": "code",
   "execution_count": 50,
   "id": "9e442184-b034-4042-a0fa-7b6e33772e4e",
   "metadata": {},
   "outputs": [
    {
     "name": "stdout",
     "output_type": "stream",
     "text": [
      "[1, 2, 3, 4, 5, 6, 0]\n"
     ]
    }
   ],
   "source": [
    "print(positive)"
   ]
  },
  {
   "cell_type": "code",
   "execution_count": 51,
   "id": "b8e505ef-f53d-4507-b865-7323370b9a04",
   "metadata": {},
   "outputs": [
    {
     "name": "stdout",
     "output_type": "stream",
     "text": [
      "[-1, -2, -3, -4, -5]\n"
     ]
    }
   ],
   "source": [
    "print(negative)"
   ]
  },
  {
   "cell_type": "code",
   "execution_count": null,
   "id": "c9c0519f-77b2-43f2-bad9-6d3a8584c8d9",
   "metadata": {},
   "outputs": [],
   "source": []
  }
 ],
 "metadata": {
  "kernelspec": {
   "display_name": "Python 3 (ipykernel)",
   "language": "python",
   "name": "python3"
  },
  "language_info": {
   "codemirror_mode": {
    "name": "ipython",
    "version": 3
   },
   "file_extension": ".py",
   "mimetype": "text/x-python",
   "name": "python",
   "nbconvert_exporter": "python",
   "pygments_lexer": "ipython3",
   "version": "3.10.8"
  }
 },
 "nbformat": 4,
 "nbformat_minor": 5
}
