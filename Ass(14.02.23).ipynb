{
 "cells": [
  {
   "cell_type": "markdown",
   "id": "c36cfa6a-b9ea-4b19-b72f-88ececbaf57c",
   "metadata": {},
   "source": [
    "## Assignment(14/FEB/2023)"
   ]
  },
  {
   "cell_type": "markdown",
   "id": "96a02a65-7ba0-4e2f-b815-e0e6bdecc430",
   "metadata": {},
   "source": [
    "Q1. What is multithreading in python? Why is it used? Name the module used to handle threads in python."
   ]
  },
  {
   "cell_type": "markdown",
   "id": "9c6c68bd-50e4-4009-bdfb-517ce49df577",
   "metadata": {},
   "source": [
    "## Answer 1\n",
    "\n",
    "-> multithreading is a way of achieving multitasking. In multithreading, the concept of threads is used. Let us first understand the concept of thread in computer architecture.\n",
    "-> it is used because it helped to do multitasking work at a time.\n",
    "-> Threading module() is used to handle threads in Python."
   ]
  },
  {
   "cell_type": "code",
   "execution_count": null,
   "id": "799cfddb-6c1b-4e1c-9dff-663c7083f313",
   "metadata": {},
   "outputs": [],
   "source": []
  },
  {
   "cell_type": "code",
   "execution_count": null,
   "id": "c9eb4d10-c01d-48a6-8805-f5cd296f61d8",
   "metadata": {},
   "outputs": [],
   "source": []
  },
  {
   "cell_type": "markdown",
   "id": "4e3a1211-1e5f-4cf6-b8d6-77e78362aa52",
   "metadata": {},
   "source": [
    "Q2. Why threading module used? Write the use of the following functions:\n",
    "    1. Active count()\n",
    "    2. Current thread()\n",
    "    3. Enumerate()"
   ]
  },
  {
   "cell_type": "code",
   "execution_count": null,
   "id": "5b5710a3-08f9-422c-b440-9846dec0801a",
   "metadata": {},
   "outputs": [],
   "source": [
    "## Answer 2\n",
    "\n",
    "-> it is used because it helped to do multitasking work at a time."
   ]
  },
  {
   "cell_type": "code",
   "execution_count": 1,
   "id": "3ea8930e-d5c9-4dd0-af47-5b42b6599fb7",
   "metadata": {},
   "outputs": [
    {
     "name": "stdout",
     "output_type": "stream",
     "text": [
      "1. activecount()\n",
      "Number of active threads in the starting: 8\n",
      "The active threads in the starting is 1 which is the main thread that executes till the program runs\n",
      "Number of active threads: 11\n",
      "Value by Thread 3: 3\n",
      "Number of active threads: 10\n",
      "Value by Thread 1: 1\n",
      "Number of active threads: 9\n",
      "Value by Thread 2: 2\n"
     ]
    }
   ],
   "source": [
    "print(\"1. activecount()\")\n",
    "\n",
    "# Python program to explain the use of \n",
    "# active_count() method in Threading Module\n",
    "\n",
    "import time\n",
    "import threading\n",
    "\n",
    "def thread_1(i):\n",
    "    time.sleep(2)\n",
    "    print(\"Number of active threads:\", threading.active_count())\n",
    "    print('Value by Thread 1:', i)\n",
    "\n",
    "def thread_2(i):\n",
    "    time.sleep(5)\n",
    "    print(\"Number of active threads:\", threading.active_count())\n",
    "    print('Value by Thread 2:', i)\n",
    "    \n",
    "def thread_3(i):\n",
    "    print(\"Number of active threads:\", threading.active_count())\n",
    "    print(\"Value by Thread 3:\", i)\n",
    "    \n",
    "# Creating sample threads \n",
    "thread1 = threading.Thread(target=thread_1, args=(1,))\n",
    "thread2 = threading.Thread(target=thread_2, args=(2,))\n",
    "thread3 = threading.Thread(target=thread_3, args=(3,))\n",
    "\n",
    "print(\"Number of active threads in the starting:\", threading.active_count())\n",
    "print(\"The active threads in the starting is 1 which is the main thread that executes till the program runs\")\n",
    "\n",
    "# Starting the threads\n",
    "thread1.start()\n",
    "thread2.start()\n",
    "thread3.start()"
   ]
  },
  {
   "cell_type": "code",
   "execution_count": 2,
   "id": "ab7a8ae3-8d9c-4aa9-be73-2e0656719814",
   "metadata": {},
   "outputs": [
    {
     "name": "stdout",
     "output_type": "stream",
     "text": [
      "2. current thread\n",
      "Active current thread right now: <_MainThread(MainThread, started 140541372102464)>\n",
      "Active current thread right now: <Thread(Thread-10 (thread_3), started 140540456728128)>\n",
      "Value by Thread 3: 3\n",
      "Active current thread right now: <Thread(Thread-8 (thread_1), started 140541010351680)>\n",
      "Value by Thread 1: 1\n",
      "Active current thread right now: <Thread(Thread-9 (thread_2), started 140541018744384)>\n",
      "Value by Thread 2: 2\n"
     ]
    }
   ],
   "source": [
    "print(\"2. current thread\")\n",
    "\n",
    "# Python program to explain the use of \n",
    "# current_thread() method in Threading Module\n",
    "\n",
    "import time\n",
    "import threading\n",
    "\n",
    "def thread_1(i):\n",
    "    time.sleep(2)\n",
    "    print(\"Active current thread right now:\", (threading.current_thread()))\n",
    "    print('Value by Thread 1:', i)\n",
    "\n",
    "def thread_2(i):\n",
    "    time.sleep(5)\n",
    "    print(\"Active current thread right now:\", (threading.current_thread()))\n",
    "    print('Value by Thread 2:', i)\n",
    "    \n",
    "def thread_3(i):\n",
    "    print(\"Active current thread right now:\", (threading.current_thread()))\n",
    "    print(\"Value by Thread 3:\", i)\n",
    "    \n",
    "# Creating sample threads \n",
    "thread1 = threading.Thread(target=thread_1, args=(1,))\n",
    "thread2 = threading.Thread(target=thread_2, args=(2,))\n",
    "thread3 = threading.Thread(target=thread_3, args=(3,))\n",
    "\n",
    "print(\"Active current thread right now:\", (threading.current_thread()))\n",
    "#3 Initially it is the main thread that is active\n",
    "\n",
    "# Starting the threads\n",
    "thread1.start()\n",
    "thread2.start()\n",
    "thread3.start()\n"
   ]
  },
  {
   "cell_type": "code",
   "execution_count": 3,
   "id": "7fb6e694-3f88-48b5-9823-6fd537f651df",
   "metadata": {},
   "outputs": [
    {
     "name": "stdout",
     "output_type": "stream",
     "text": [
      "3.enumerate\n",
      "Threads alive in the starting: [<_MainThread(MainThread, started 140541372102464)>, <Thread(IOPub, started daemon 140541301573184)>, <Heartbeat(Heartbeat, started daemon 140541293180480)>, <Thread(Thread-3 (_watch_pipe_fd), started daemon 140541060707904)>, <Thread(Thread-4 (_watch_pipe_fd), started daemon 140541052315200)>, <ControlThread(Control, started daemon 140541043922496)>, <HistorySavingThread(IPythonHistorySavingThread, started 140541035529792)>, <ParentPollerUnix(Thread-2, started daemon 140541027137088)>]\n",
      "\n",
      "Threads alive when thread_2 executes\n",
      "<_MainThread(MainThread, started 140541372102464)>\n",
      "<Thread(IOPub, started daemon 140541301573184)>\n",
      "<Heartbeat(Heartbeat, started daemon 140541293180480)>\n",
      "<Thread(Thread-3 (_watch_pipe_fd), started daemon 140541060707904)>\n",
      "<Thread(Thread-4 (_watch_pipe_fd), started daemon 140541052315200)>\n",
      "<ControlThread(Control, started daemon 140541043922496)>\n",
      "<HistorySavingThread(IPythonHistorySavingThread, started 140541035529792)>\n",
      "<ParentPollerUnix(Thread-2, started daemon 140541027137088)>\n",
      "<Thread(Thread-11 (thread_1), started 140541018744384)>\n",
      "<Thread(Thread-12 (thread_2), started 140541010351680)>\n",
      "\n",
      "Threads alive when thread_4 executes\n",
      "<_MainThread(MainThread, started 140541372102464)>\n",
      "<Thread(IOPub, started daemon 140541301573184)>\n",
      "<Heartbeat(Heartbeat, started daemon 140541293180480)>\n",
      "<Thread(Thread-3 (_watch_pipe_fd), started daemon 140541060707904)>\n",
      "<Thread(Thread-4 (_watch_pipe_fd), started daemon 140541052315200)>\n",
      "<ControlThread(Control, started daemon 140541043922496)>\n",
      "<HistorySavingThread(IPythonHistorySavingThread, started 140541035529792)>\n",
      "<ParentPollerUnix(Thread-2, started daemon 140541027137088)>\n",
      "<Thread(Thread-11 (thread_1), started 140541018744384)>\n",
      "<Thread(Thread-13 (thread_3), started 140541010351680)>\n",
      "<Thread(Thread-14 (thread_4), started 140540456728128)>\n",
      "\n",
      "Threads alive when thread_1 executes:\n",
      "<_MainThread(MainThread, started 140541372102464)>\n",
      "<Thread(IOPub, started daemon 140541301573184)>\n",
      "<Heartbeat(Heartbeat, started daemon 140541293180480)>\n",
      "<Thread(Thread-3 (_watch_pipe_fd), started daemon 140541060707904)>\n",
      "<Thread(Thread-4 (_watch_pipe_fd), started daemon 140541052315200)>\n",
      "<ControlThread(Control, started daemon 140541043922496)>\n",
      "<HistorySavingThread(IPythonHistorySavingThread, started 140541035529792)>\n",
      "<ParentPollerUnix(Thread-2, started daemon 140541027137088)>\n",
      "<Thread(Thread-11 (thread_1), started 140541018744384)>\n",
      "\n"
     ]
    }
   ],
   "source": [
    "print(\"3.enumerate\")\n",
    "\n",
    "# Python program to explain the use of \n",
    "# enumerate()  method in the Threading Module\n",
    "\n",
    "import time\n",
    "import threading\n",
    "\n",
    "def thread_1(i):\n",
    "    time.sleep(5)\n",
    "    print(\"Threads alive when thread_1 executes:\")\n",
    "    print(*threading.enumerate(), sep = \"\\n\")\n",
    "        \n",
    "    print()\n",
    "\n",
    "def thread_2(i):\n",
    "    print(\"Threads alive when thread_2 executes\")\n",
    "    print(*threading.enumerate(), sep = \"\\n\")\n",
    "    print()\n",
    "    \n",
    "def thread_3(i):\n",
    "    time.sleep(4)\n",
    "    \n",
    "    \n",
    "def thread_4(i):\n",
    "    time.sleep(1)\n",
    "    print(\"Threads alive when thread_4 executes\")\n",
    "    print(*threading.enumerate(), sep = \"\\n\")\n",
    "    print()\n",
    "\n",
    "# Creating sample threads \n",
    "thread1 = threading.Thread(target=thread_1, args=(10,))\n",
    "thread2 = threading.Thread(target=thread_2, args=(20,))\n",
    "thread3 = threading.Thread(target=thread_3, args=(30,))\n",
    "thread4 = threading.Thread(target=thread_4, args=(50,))\n",
    "\n",
    "print(\"Threads alive in the starting:\", threading.enumerate())\n",
    "print()\n",
    "\n",
    "# Starting the threads\n",
    "thread1.start()\n",
    "thread2.start()\n",
    "thread3.start()\n",
    "thread4.start()\n"
   ]
  },
  {
   "cell_type": "code",
   "execution_count": null,
   "id": "bdb6435b-95ec-474a-a0c9-375dd61dfb97",
   "metadata": {},
   "outputs": [],
   "source": []
  },
  {
   "cell_type": "code",
   "execution_count": null,
   "id": "e030e0f0-c653-4ed3-8f82-1c8cfb3e1b55",
   "metadata": {},
   "outputs": [],
   "source": []
  },
  {
   "cell_type": "markdown",
   "id": "303c4cee-3aa9-4e06-80e0-e3a486ec03e4",
   "metadata": {},
   "source": [
    "Q3. Explain the following functions:\n",
    "\n",
    "1. Run()\n",
    "2. start()\n",
    "3. join()\n",
    "4. isalive()"
   ]
  },
  {
   "cell_type": "code",
   "execution_count": 5,
   "id": "9dfeeff6-e07c-4f19-937e-c43003d2b840",
   "metadata": {},
   "outputs": [
    {
     "name": "stdout",
     "output_type": "stream",
     "text": [
      "Value by Thread 1: 1\n",
      "Value by Thread 2: 2\n"
     ]
    }
   ],
   "source": [
    "import threading\n",
    "\n",
    "def thread_1(i):\n",
    "    print('Value by Thread 1:', i)\n",
    "\n",
    "def thread_2(i):\n",
    "    print('Value by Thread 2:', i)\n",
    "\n",
    "thread1 = threading.Thread(target=thread_1, args=(1,))\n",
    "thread2 = threading.Thread(target=thread_2, args=(2,))\n",
    "\n",
    "thread1.run()\n",
    "thread2.run()"
   ]
  },
  {
   "cell_type": "code",
   "execution_count": 8,
   "id": "b3c16171-d8b6-478a-8576-f5d2ab918a46",
   "metadata": {},
   "outputs": [
    {
     "name": "stdout",
     "output_type": "stream",
     "text": [
      "run thread 0\n",
      "run thread 1\n",
      "run thread 4\n",
      "run thread 2\n",
      "run thread 6\n",
      "run thread 8\n",
      "run thread 3\n",
      "run thread 5\n",
      "run thread 7\n",
      "run thread 9\n"
     ]
    }
   ],
   "source": [
    "import threading\n",
    "import time\n",
    " \n",
    "def test(name):\n",
    "    time.sleep(2)\n",
    "    print(\"run \"+ name)\n",
    " \n",
    "ts = []\n",
    " \n",
    "#create 10 threads \n",
    "for i in range(10):\n",
    "    thread_name = 'thread ' + str(i)\n",
    "    th = threading.Thread(target=test, args=[thread_name])\n",
    "    ts.append(th)\n",
    "    \n",
    "#run thread one by one \n",
    "for i in ts:\n",
    "    i.start()    "
   ]
  },
  {
   "cell_type": "code",
   "execution_count": 9,
   "id": "ab8df523-d459-4e2b-945b-7fe2042ac134",
   "metadata": {},
   "outputs": [
    {
     "name": "stdout",
     "output_type": "stream",
     "text": [
      "run test thread\n",
      "main application is finished\n"
     ]
    }
   ],
   "source": [
    "thread_name = 'test thread' \n",
    "th = threading.Thread(target=test, args=[thread_name])\n",
    "th.start() \n",
    "th.join()\n",
    "time.sleep(5)\n",
    "print(\"main application is finished\")"
   ]
  },
  {
   "cell_type": "code",
   "execution_count": 10,
   "id": "9b34165e-6c1e-4d7b-a8f4-c5bdf1a496ec",
   "metadata": {},
   "outputs": [
    {
     "name": "stdout",
     "output_type": "stream",
     "text": [
      "Thread alive? True\n",
      "Counting down...\n",
      "5 left\n",
      "4 left\n",
      "3 left\n",
      "2 left\n",
      "1 left\n",
      "We made it!\n",
      "Thread still alive? False\n",
      "End of program.\n"
     ]
    }
   ],
   "source": [
    "import threading\n",
    "\n",
    "def countdown(count):\n",
    "  print(f'Thread alive? {thread.is_alive()}')\n",
    "  print(\"Counting down...\")\n",
    "  while count > 0:\n",
    "    print(f'{count} left')\n",
    "    count -= 1\n",
    "  print(\"We made it!\")\n",
    "\n",
    "thread = threading.Thread(target=countdown, args=(5,))\n",
    "\n",
    "thread.start()\n",
    "thread.join()\n",
    "\n",
    "print(f'Thread still alive? {thread.is_alive()}')\n",
    "print(\"End of program.\")"
   ]
  },
  {
   "cell_type": "code",
   "execution_count": null,
   "id": "dc6cab61-f78f-4ea2-805f-b555bab745d3",
   "metadata": {},
   "outputs": [],
   "source": []
  },
  {
   "cell_type": "code",
   "execution_count": null,
   "id": "cd1ea1de-0680-4e40-ba97-6ad6669f841a",
   "metadata": {},
   "outputs": [],
   "source": []
  },
  {
   "cell_type": "markdown",
   "id": "3c99631d-7c91-43d2-aa57-30e4041264ef",
   "metadata": {},
   "source": [
    "Q4. Write a python program to create two threads. Thread one must print the list of squares and thread \n",
    "two must print the list of cubes"
   ]
  },
  {
   "cell_type": "code",
   "execution_count": 87,
   "id": "6099cab7-a556-4b4c-a92e-74eedc62e5b9",
   "metadata": {},
   "outputs": [],
   "source": [
    "## answer 4\n",
    "\n",
    "import threading\n",
    "\n",
    "def sqr(x):\n",
    "    print(\"Square : {}\" .format(x * x))\n",
    "    print(\" Cube  : {}\" .format(x * x * x))  \n",
    "    print(\"\\n\")"
   ]
  },
  {
   "cell_type": "code",
   "execution_count": 88,
   "id": "1dfea0bb-1dba-41fa-9f13-59a68179fce7",
   "metadata": {},
   "outputs": [],
   "source": [
    "sqr_list = [threading.Thread(target=sqr , args=(i,)) for i in range(10)]"
   ]
  },
  {
   "cell_type": "code",
   "execution_count": 89,
   "id": "50fd6ec3-bd80-4b11-a50e-1b15e66982d2",
   "metadata": {},
   "outputs": [
    {
     "name": "stdout",
     "output_type": "stream",
     "text": [
      "Square : 0\n",
      " Cube  : 0\n",
      "\n",
      "\n",
      "Square : 1\n",
      " Cube  : 1\n",
      "\n",
      "\n",
      "Square : 4\n",
      " Cube  : 8\n",
      "\n",
      "\n",
      "Square : 9\n",
      " Cube  : 27\n",
      "\n",
      "\n",
      "Square : 16\n",
      " Cube  : 64\n",
      "\n",
      "\n",
      "Square : 25\n",
      " Cube  : 125\n",
      "\n",
      "\n",
      "Square : 36\n",
      " Cube  : 216\n",
      "\n",
      "\n",
      "Square : 49\n",
      " Cube  : 343\n",
      "\n",
      "\n",
      "Square : 64\n",
      " Cube  : 512\n",
      "\n",
      "\n",
      "Square : 81\n",
      " Cube  : 729\n",
      "\n",
      "\n"
     ]
    }
   ],
   "source": [
    "for t in sqr_list:\n",
    "    t.start()  "
   ]
  },
  {
   "cell_type": "code",
   "execution_count": null,
   "id": "1578ce38-6058-4659-8e57-348af1393502",
   "metadata": {},
   "outputs": [],
   "source": []
  },
  {
   "cell_type": "code",
   "execution_count": null,
   "id": "be080149-b139-4529-a7bf-d873235633e1",
   "metadata": {},
   "outputs": [],
   "source": []
  },
  {
   "cell_type": "markdown",
   "id": "179a2df4-5db3-4bba-8a16-88b393829dd4",
   "metadata": {},
   "source": [
    "Q5.  State advantages and disadvantages of multithreading."
   ]
  },
  {
   "cell_type": "code",
   "execution_count": null,
   "id": "caed8f8f-88ac-4384-964f-e28316b223a1",
   "metadata": {},
   "outputs": [],
   "source": [
    "## answer 5\n",
    "\n",
    "==> Advantages:\n",
    "    \n",
    "-> Enhanced performance by decreased development time.\n",
    "-> Simplified and streamlined program coding.\n",
    "-> Improvised GUI responsiveness.\n",
    "-> Simultaneous and parallelized occurrence of tasks.\n",
    "-> Better use of cache storage by utilization of resources.\n",
    "-> Decreased cost of maintenance.\n",
    "-> Better use of CPU resource.    \n",
    "\n",
    "\n",
    "==> Disadvantages:\n",
    "    \n",
    "-> Complex debugging and testing processes.\n",
    "-> Overhead switching of context.\n",
    "-> Increased potential for deadlock occurrence.\n",
    "-> Increased difficulty level in writing a program.\n",
    "-> Unpredictable results.\n"
   ]
  },
  {
   "cell_type": "code",
   "execution_count": null,
   "id": "45263b07-2802-47e9-aa18-2a0b8cf1c6b9",
   "metadata": {},
   "outputs": [],
   "source": []
  },
  {
   "cell_type": "code",
   "execution_count": null,
   "id": "0b9606d9-182e-402f-887d-bd5757b7b849",
   "metadata": {},
   "outputs": [],
   "source": []
  },
  {
   "cell_type": "markdown",
   "id": "b57f6ad7-5427-4b3a-a484-a962de949716",
   "metadata": {},
   "source": [
    "Q6. . Explain deadlocks and race conditions."
   ]
  },
  {
   "cell_type": "markdown",
   "id": "df3d86a6-dae6-48c4-8c23-bd06f08bd624",
   "metadata": {},
   "source": [
    "## answer 6\n",
    "\n",
    "-> Deadlocks:\n",
    "    \n",
    "Deadlock is a situation where a process or a set of processes is blocked, waiting for some other resource that is held by some other waiting process. It is an undesirable state of the system.\n",
    "\n",
    "-> Race conditions:\n",
    "    \n",
    " A race condition occurs when two threads try to access a shared variable simultaneously. The first thread reads the value from the shared variable. The second thread also reads the value from the same shared variable.   "
   ]
  },
  {
   "cell_type": "code",
   "execution_count": null,
   "id": "f40782e5-dc04-47a9-9c3c-ee17d9d6551b",
   "metadata": {},
   "outputs": [],
   "source": []
  },
  {
   "cell_type": "code",
   "execution_count": null,
   "id": "3a48432d-6fe7-42d4-b1cc-5083dc9fe8eb",
   "metadata": {},
   "outputs": [],
   "source": []
  },
  {
   "cell_type": "code",
   "execution_count": null,
   "id": "b826bb88-d090-4eac-b62b-52d6a975eb53",
   "metadata": {},
   "outputs": [],
   "source": []
  },
  {
   "cell_type": "code",
   "execution_count": null,
   "id": "46f2613e-657e-4d7b-ae06-dfc3a6885e8f",
   "metadata": {},
   "outputs": [],
   "source": []
  },
  {
   "cell_type": "code",
   "execution_count": null,
   "id": "a2e6c190-92df-412e-b7fe-5f2644b49c8f",
   "metadata": {},
   "outputs": [],
   "source": []
  },
  {
   "cell_type": "code",
   "execution_count": null,
   "id": "8cde2377-7886-4ed0-9b15-2dbcc9770dfd",
   "metadata": {},
   "outputs": [],
   "source": []
  },
  {
   "cell_type": "code",
   "execution_count": null,
   "id": "b63f832f-f095-40f3-9fdf-3c3a739ef111",
   "metadata": {},
   "outputs": [],
   "source": []
  },
  {
   "cell_type": "code",
   "execution_count": null,
   "id": "4ef37601-01b7-475b-8f7d-21d314877a6f",
   "metadata": {},
   "outputs": [],
   "source": []
  },
  {
   "cell_type": "code",
   "execution_count": null,
   "id": "3be24605-8eac-45b9-b9a2-d9fb617d9bc6",
   "metadata": {},
   "outputs": [],
   "source": []
  },
  {
   "cell_type": "code",
   "execution_count": null,
   "id": "76e2cd4d-3793-41d1-8acc-38dea2467adb",
   "metadata": {},
   "outputs": [],
   "source": []
  },
  {
   "cell_type": "code",
   "execution_count": null,
   "id": "1fa74936-639e-4c53-bb42-474864992bcb",
   "metadata": {},
   "outputs": [],
   "source": []
  },
  {
   "cell_type": "code",
   "execution_count": null,
   "id": "164b3976-e652-47a9-88d7-a555b32c31a8",
   "metadata": {},
   "outputs": [],
   "source": []
  },
  {
   "cell_type": "code",
   "execution_count": null,
   "id": "a60c42bc-0e08-4e85-906c-1d81621debe2",
   "metadata": {},
   "outputs": [],
   "source": []
  },
  {
   "cell_type": "code",
   "execution_count": null,
   "id": "2c032b5c-1bed-4333-9eb1-3b677807b292",
   "metadata": {},
   "outputs": [],
   "source": []
  },
  {
   "cell_type": "code",
   "execution_count": null,
   "id": "47e3ff39-7976-4bb2-9825-77b148ee09e6",
   "metadata": {},
   "outputs": [],
   "source": []
  },
  {
   "cell_type": "code",
   "execution_count": null,
   "id": "b5b897d1-6ca1-40f0-b855-5f2b5fced8a4",
   "metadata": {},
   "outputs": [],
   "source": []
  },
  {
   "cell_type": "code",
   "execution_count": null,
   "id": "9ad6bac4-8bc9-413e-89e7-a17040ac7ed7",
   "metadata": {},
   "outputs": [],
   "source": []
  },
  {
   "cell_type": "code",
   "execution_count": null,
   "id": "ded4fe5c-4718-404a-8add-71ee9b3c436d",
   "metadata": {},
   "outputs": [],
   "source": []
  },
  {
   "cell_type": "code",
   "execution_count": null,
   "id": "02bcb79d-eb37-4d5c-9edc-c8b9692e038c",
   "metadata": {},
   "outputs": [],
   "source": []
  },
  {
   "cell_type": "code",
   "execution_count": null,
   "id": "ad6f3805-ebba-4a33-83e0-687625eb6337",
   "metadata": {},
   "outputs": [],
   "source": []
  },
  {
   "cell_type": "code",
   "execution_count": null,
   "id": "7de6faee-ad22-4730-b4db-71ad7e480244",
   "metadata": {},
   "outputs": [],
   "source": []
  },
  {
   "cell_type": "code",
   "execution_count": null,
   "id": "429b3a00-efb7-4669-9833-d1613aa503e4",
   "metadata": {},
   "outputs": [],
   "source": []
  },
  {
   "cell_type": "code",
   "execution_count": null,
   "id": "a1d56c11-2095-4019-9343-0996d89599ba",
   "metadata": {},
   "outputs": [],
   "source": []
  },
  {
   "cell_type": "code",
   "execution_count": null,
   "id": "f86858a5-b1eb-4e69-97dc-b35c184391e7",
   "metadata": {},
   "outputs": [],
   "source": []
  },
  {
   "cell_type": "code",
   "execution_count": null,
   "id": "c64981d5-c0af-4730-a4ff-7aa8e8d97569",
   "metadata": {},
   "outputs": [],
   "source": []
  },
  {
   "cell_type": "code",
   "execution_count": null,
   "id": "84f9b8df-deb3-4f95-b69a-ab71750b9015",
   "metadata": {},
   "outputs": [],
   "source": []
  },
  {
   "cell_type": "code",
   "execution_count": null,
   "id": "3a4c59e5-4050-4c8f-9b2b-259caa2147bd",
   "metadata": {},
   "outputs": [],
   "source": []
  }
 ],
 "metadata": {
  "kernelspec": {
   "display_name": "Python 3 (ipykernel)",
   "language": "python",
   "name": "python3"
  },
  "language_info": {
   "codemirror_mode": {
    "name": "ipython",
    "version": 3
   },
   "file_extension": ".py",
   "mimetype": "text/x-python",
   "name": "python",
   "nbconvert_exporter": "python",
   "pygments_lexer": "ipython3",
   "version": "3.10.8"
  }
 },
 "nbformat": 4,
 "nbformat_minor": 5
}
