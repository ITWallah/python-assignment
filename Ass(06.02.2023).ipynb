{
 "cells": [
  {
   "cell_type": "markdown",
   "id": "0b8d0dae-0a73-4fcd-bec9-31832cce8a1c",
   "metadata": {},
   "source": [
    "## Assignment(06/FEB/2023)"
   ]
  },
  {
   "cell_type": "code",
   "execution_count": null,
   "id": "7a2835f3-b34a-49b4-be38-5262329ef8fe",
   "metadata": {},
   "outputs": [],
   "source": []
  },
  {
   "cell_type": "markdown",
   "id": "328378c7-5519-4d1c-8f2a-36c6e1eb5d71",
   "metadata": {},
   "source": [
    "Q1. Create a function which will take a list as an argument and return the product of all the numbers \n",
    "after creating a flat list.\n",
    "\n",
    "Use the below-given list as an argument for your function.\n",
    "\n",
    "\n",
    "list1 = [1,2,3,4, [44,55,66, True], False, (34,56,78,89,34), {1,2,3,3,2,1}, {1:34, \"key2\": [55, 67, 78, 89], 4: (45, \n",
    "22, 61, 34)}, [56, 'data science'], 'Machine Learning']\n",
    "\n",
    "\n",
    "Note: you must extract numeric keys and values of the dictionary also."
   ]
  },
  {
   "cell_type": "code",
   "execution_count": 17,
   "id": "a99b821d-69d9-44d2-a355-47174d639135",
   "metadata": {},
   "outputs": [
    {
     "name": "stdout",
     "output_type": "stream",
     "text": [
      "[1, 2, 3, 4, 44, 55, 66, 34, 56, 78, 89, 34, 1, 2, 3, 1, 4, 34, 55, 67, 78, 89, 45, 22, 61, 34, 56]\n"
     ]
    }
   ],
   "source": [
    "## answer 1\n",
    "\n",
    "from functools import reduce\n",
    "def product(lst):\n",
    "    flatList=[]\n",
    "    for i in lst:\n",
    "        if type(i)==list or type(i)==tuple or type(i)==set:\n",
    "            for j in i:\n",
    "                if type(j)==int:\n",
    "                    flatList.append(j)\n",
    "        elif type(i)==dict:\n",
    "            for a in i.keys():\n",
    "                if type(a)==int:\n",
    "                    flatList.append(a)\n",
    "            for b in i.values():\n",
    "                if type(b)==int:\n",
    "                    flatList.append(b)\n",
    "                if type(b)==list or type(b)==tuple:\n",
    "                    for c in b:\n",
    "                        if type(c)==int:\n",
    "                            flatList.append(c)\n",
    "        else:\n",
    "            if type(i)==int:\n",
    "                flatList.append(i)\n",
    "    return flatList\n",
    "list1 = [1,2,3,4, [44,55,66, True], False, (34,56,78,89,34), {1,2,3,3,2,1}, {1:34, \"key2\": [55, 67, 78, 89], 4: (45, 22, 61, 34)}, [56, 'data science'], 'Machine Learning']\n",
    "print(product(list1))"
   ]
  },
  {
   "cell_type": "code",
   "execution_count": null,
   "id": "6c1439ac-9a11-404a-b03f-1129d1d469fa",
   "metadata": {},
   "outputs": [],
   "source": []
  },
  {
   "cell_type": "code",
   "execution_count": null,
   "id": "6b12ee7a-65bd-4274-9ab0-83dc249e3a1c",
   "metadata": {},
   "outputs": [],
   "source": []
  },
  {
   "cell_type": "markdown",
   "id": "5b54ed8e-5f10-4934-8d4c-38629ba34440",
   "metadata": {},
   "source": [
    "Q2. Write a python program for encrypting a message sent to you by your friend. The logic of encryption \n",
    "should be such that, for a the output should be z. For b, the output should be y. For c, the output should \n",
    "be x respectively. Also, the whitespace should be replaced with a dollar sign. Keep the punctuation \n",
    "marks unchanged.\n",
    "\n",
    "\n",
    "Input Sentence: I want to become a Data Scientist.\n",
    "\n",
    "\n",
    "Encrypt the above input sentence using the program you just created.\n",
    "\n",
    "\n",
    "Note: Convert the given input sentence into lowercase before encrypting. The final output should be \n",
    "lowercase."
   ]
  },
  {
   "cell_type": "code",
   "execution_count": 5,
   "id": "9e0ab5a6-1b5d-41b7-a8d1-1af733d49747",
   "metadata": {},
   "outputs": [
    {
     "name": "stdin",
     "output_type": "stream",
     "text": [
      "String:  I want to become a Data Scientist\n"
     ]
    },
    {
     "data": {
      "text/plain": [
       "'r$dzmg$gl$yvxlnv$z$wzgz$hxrvmgrhg'"
      ]
     },
     "execution_count": 5,
     "metadata": {},
     "output_type": "execute_result"
    }
   ],
   "source": [
    "import string\n",
    "\"\".join([string.ascii_lowercase[::-1][string.ascii_lowercase.index(c)]\n",
    "    if c in string.ascii_lowercase else \"$\" for c in input(\"String: \").lower()])\n",
    "\n"
   ]
  },
  {
   "cell_type": "code",
   "execution_count": null,
   "id": "47583fa0-c410-4530-9609-91ab0b943c28",
   "metadata": {},
   "outputs": [],
   "source": []
  }
 ],
 "metadata": {
  "kernelspec": {
   "display_name": "Python 3 (ipykernel)",
   "language": "python",
   "name": "python3"
  },
  "language_info": {
   "codemirror_mode": {
    "name": "ipython",
    "version": 3
   },
   "file_extension": ".py",
   "mimetype": "text/x-python",
   "name": "python",
   "nbconvert_exporter": "python",
   "pygments_lexer": "ipython3",
   "version": "3.10.8"
  }
 },
 "nbformat": 4,
 "nbformat_minor": 5
}
