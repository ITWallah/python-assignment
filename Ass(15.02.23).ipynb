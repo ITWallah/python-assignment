{
 "cells": [
  {
   "cell_type": "markdown",
   "id": "5381308d-a425-47bc-9a0e-d06ccdc404ed",
   "metadata": {},
   "source": [
    "## Assignments(15/FEb/2023)"
   ]
  },
  {
   "cell_type": "markdown",
   "id": "2c951423-a181-49c4-8772-cee92dd1ebc6",
   "metadata": {},
   "source": [
    "Q1. What is multiprocessing in python? Why is it useful? "
   ]
  },
  {
   "cell_type": "markdown",
   "id": "33c291e6-5a68-4afd-8a10-841e5d15012c",
   "metadata": {},
   "source": [
    "## Answer 1\n",
    "\n",
    "-> Multiprocessing refers to the ability of a system to support more than one processor at the same time. Applications in a multiprocessing system are broken to smaller routines that run independently. The operating system allocates these threads to the processors improving performance of the system.\n",
    "\n",
    "-> multiprocessor, i.e. a computer with more than one central        processor.\n",
    "-> multi-core processor, i.e. a single computing component with      two or more independent actual processing units"
   ]
  },
  {
   "cell_type": "code",
   "execution_count": null,
   "id": "4d93914e-35c5-4393-abb6-133d9054b93b",
   "metadata": {},
   "outputs": [],
   "source": []
  },
  {
   "cell_type": "code",
   "execution_count": null,
   "id": "f5fe5a21-3d30-404b-b0d1-a9194a78af9d",
   "metadata": {},
   "outputs": [],
   "source": []
  },
  {
   "cell_type": "markdown",
   "id": "7b6b33ab-a1c5-4404-a29d-416d4825691e",
   "metadata": {},
   "source": [
    "Q2. What are the differences between multiprocessing and multithreading?"
   ]
  },
  {
   "cell_type": "code",
   "execution_count": null,
   "id": "6f40b865-c09c-448e-b1b0-4ffedd9c8a73",
   "metadata": {},
   "outputs": [],
   "source": [
    "## Answer 2\n",
    "\n",
    "1.\n",
    "-> In Multiprocessing, CPUs are added for increasing computing power.\n",
    "-> While In Multithreading, many threads are created of a single process for increasing computing power.\n",
    "\n",
    "2.\n",
    "-> In Multiprocessing, Many processes are executed simultaneously.\n",
    "-> While in multithreading, many threads of a process are executed simultaneously.\n",
    "\n",
    "3.\n",
    "-> Multiprocessing are classified into Symmetric and Asymmetric.\t\n",
    "-> While Multithreading is not classified in any categories.\n",
    "\n",
    "4.\n",
    "-> In Multiprocessing, Process creation is a time-consuming process.\t\n",
    "-> While in Multithreading, process creation is according to economical.\n",
    "\n",
    "5.\n",
    "-> In Multiprocessing, every process owned a separate address space.\t\n",
    "-> While in Multithreading, a common address space is shared by all the threads.\n"
   ]
  },
  {
   "cell_type": "code",
   "execution_count": null,
   "id": "4bc74a24-17b5-4cda-9d5d-ab8720001c6c",
   "metadata": {},
   "outputs": [],
   "source": []
  },
  {
   "cell_type": "code",
   "execution_count": null,
   "id": "d2c520ef-94d8-4094-95ac-5a53df2f019c",
   "metadata": {},
   "outputs": [],
   "source": []
  },
  {
   "cell_type": "markdown",
   "id": "8d53576c-06f5-437a-bc2d-77c2f3fa929c",
   "metadata": {},
   "source": [
    "Q3. Write a python code to create a process using the multiprocessing module."
   ]
  },
  {
   "cell_type": "code",
   "execution_count": 1,
   "id": "28cbc901-e9c2-450a-b4b0-b9ecf24bc9dd",
   "metadata": {},
   "outputs": [
    {
     "name": "stdout",
     "output_type": "stream",
     "text": [
      "Square: 100\n",
      "Cube: 1000\n",
      "Done!\n"
     ]
    }
   ],
   "source": [
    "## Answer 3\n",
    "\n",
    "import multiprocessing\n",
    "  \n",
    "def print_cube(num):\n",
    "    print(\"Cube: {}\".format(num * num * num))\n",
    "  \n",
    "def print_square(num):\n",
    "    print(\"Square: {}\".format(num * num))\n",
    "  \n",
    "if __name__ == \"__main__\":\n",
    "    p1 = multiprocessing.Process(target=print_square, args=(10, ))\n",
    "    p2 = multiprocessing.Process(target=print_cube, args=(10, ))\n",
    "  \n",
    "    p1.start()\n",
    "    p2.start()\n",
    "  \n",
    "    p1.join()\n",
    "    p2.join()\n",
    "  \n",
    "    print(\"Done!\")"
   ]
  },
  {
   "cell_type": "code",
   "execution_count": null,
   "id": "0abd16ab-5d7c-4ee3-ad62-7f7a677b91b8",
   "metadata": {},
   "outputs": [],
   "source": []
  },
  {
   "cell_type": "code",
   "execution_count": null,
   "id": "7d4261d6-1f0e-41d7-9c1b-90d594b1b648",
   "metadata": {},
   "outputs": [],
   "source": []
  },
  {
   "cell_type": "markdown",
   "id": "34f9cc1d-b5ba-46fd-adfb-3160f4e07592",
   "metadata": {},
   "source": [
    "Q4. What is a multiprocessing pool in python? Why is it used?"
   ]
  },
  {
   "cell_type": "markdown",
   "id": "1d0ce537-4eed-4c7c-93e6-146f7a2fb19c",
   "metadata": {},
   "source": [
    "## answer 4\n",
    "\n",
    "-> A process pool object which controls a pool of worker processes to which jobs can be submitted. It supports asynchronous results with timeouts and callbacks and has a parallel map implementation.\n",
    "\n",
    "-> The multiprocessing.Pool provides a pool of generic worker processes. "
   ]
  },
  {
   "cell_type": "code",
   "execution_count": null,
   "id": "d67f0b02-6378-45bf-99ff-fc4572d874fd",
   "metadata": {},
   "outputs": [],
   "source": []
  },
  {
   "cell_type": "code",
   "execution_count": null,
   "id": "821224a7-33d0-4868-9bac-f8ba88af0706",
   "metadata": {},
   "outputs": [],
   "source": []
  },
  {
   "cell_type": "markdown",
   "id": "58399c45-a4f3-48e9-878b-c060cd348ff4",
   "metadata": {},
   "source": [
    "Q5. How can we create a pool of worker processes in python using the multiprocessing module?"
   ]
  },
  {
   "cell_type": "markdown",
   "id": "243a7c81-bcab-476b-b556-1481c9039eff",
   "metadata": {},
   "source": [
    "## answer 5\n",
    "\n",
    "-> You can get the name of a worker process in the process pool by calling multiprocessing.current_process() and then accessing the “name” attribute. Worker processes are named for the start method used, and assigned unique numbers."
   ]
  },
  {
   "cell_type": "code",
   "execution_count": null,
   "id": "5f304ca0-7178-4de6-87f0-95bc3dc93183",
   "metadata": {},
   "outputs": [],
   "source": []
  },
  {
   "cell_type": "code",
   "execution_count": null,
   "id": "f7e4fe0c-5ff5-4d8a-bc80-60f72972c428",
   "metadata": {},
   "outputs": [],
   "source": []
  },
  {
   "cell_type": "markdown",
   "id": "b0f0892a-f929-4047-82db-1f6152aaede3",
   "metadata": {},
   "source": [
    "Q6. Write a python program to create 4 processes, each process should print a different number using the \n",
    "multiprocessing module in python."
   ]
  },
  {
   "cell_type": "code",
   "execution_count": 3,
   "id": "dfafedc5-8fb8-44d0-b66c-5de6886de236",
   "metadata": {},
   "outputs": [
    {
     "name": "stdout",
     "output_type": "stream",
     "text": [
      "[1, 2, 3, 4]\n"
     ]
    }
   ],
   "source": [
    "## Answer 6\n",
    "\n",
    "import multiprocessing\n",
    "\n",
    "def printing(n):\n",
    "    return n\n",
    "\n",
    "if __name__ == '__main__':\n",
    "    with multiprocessing.Pool(processes=4) as pool:\n",
    "        output = pool.map(printing , [1,2,3,4])\n",
    "        print(output)"
   ]
  },
  {
   "cell_type": "code",
   "execution_count": null,
   "id": "962ce594-0b6d-4d6c-9f2f-fa9b15af3d59",
   "metadata": {},
   "outputs": [],
   "source": []
  },
  {
   "cell_type": "code",
   "execution_count": null,
   "id": "644c409a-7764-432e-95b0-1640296e1233",
   "metadata": {},
   "outputs": [],
   "source": []
  }
 ],
 "metadata": {
  "kernelspec": {
   "display_name": "Python 3 (ipykernel)",
   "language": "python",
   "name": "python3"
  },
  "language_info": {
   "codemirror_mode": {
    "name": "ipython",
    "version": 3
   },
   "file_extension": ".py",
   "mimetype": "text/x-python",
   "name": "python",
   "nbconvert_exporter": "python",
   "pygments_lexer": "ipython3",
   "version": "3.10.8"
  }
 },
 "nbformat": 4,
 "nbformat_minor": 5
}
