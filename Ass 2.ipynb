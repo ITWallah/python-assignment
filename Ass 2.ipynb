{
 "cells": [
  {
   "cell_type": "markdown",
   "id": "c5e012dc-fb1c-4f99-a4ff-586d781d5480",
   "metadata": {},
   "source": [
    "## Assignment 2:"
   ]
  },
  {
   "cell_type": "markdown",
   "id": "b13616f8-f959-4434-b392-dd7e3c21a69a",
   "metadata": {},
   "source": [
    "Q1. Write a program to accept percentage from the user and display the grade according to the following"
   ]
  },
  {
   "cell_type": "raw",
   "id": "d673051e-fad4-428e-bfc3-83a4e8b55121",
   "metadata": {},
   "source": [
    "marks                        grade\n",
    "\n",
    ">90                            A\n",
    ">80 and <=90                   B\n",
    ">=60 and <=80                  C\n",
    "below 60                       D"
   ]
  },
  {
   "cell_type": "code",
   "execution_count": 1,
   "id": "91a424c9-81f1-42d0-9e55-7faec3dc50fe",
   "metadata": {},
   "outputs": [
    {
     "name": "stdin",
     "output_type": "stream",
     "text": [
      "Enter percentage :  33\n"
     ]
    },
    {
     "name": "stdout",
     "output_type": "stream",
     "text": [
      "D grade\n"
     ]
    }
   ],
   "source": [
    "## answer of 1:\n",
    "\n",
    "a = int(input(\"Enter percentage : \"))\n",
    "\n",
    "if (a>90):\n",
    "    print(\"A grade\")\n",
    "elif(a>80 and a<=90):\n",
    "    print(\"B grade\")\n",
    "elif(a>60 and a<=80):\n",
    "    print(\"C grade\")\n",
    "else:\n",
    "    print(\"D grade\")\n",
    "            "
   ]
  },
  {
   "cell_type": "code",
   "execution_count": null,
   "id": "276c4aef-4fbe-4627-adc6-8d08c83ce6b1",
   "metadata": {},
   "outputs": [],
   "source": []
  },
  {
   "cell_type": "markdown",
   "id": "f052abb5-1cb1-4a2b-9344-b621b1320aa2",
   "metadata": {},
   "source": [
    "Q2. Write a programme to accept of the cost price of a bike and display the road tax to be paid according to the following criteria:"
   ]
  },
  {
   "cell_type": "raw",
   "id": "40bb00cd-56a2-4b98-8857-bc727ec81e32",
   "metadata": {},
   "source": [
    "Tax         Cost Price\n",
    "\n",
    "15%          >100000\n",
    "10%          >50000 and <=100000\n",
    "5%           <=50000"
   ]
  },
  {
   "cell_type": "code",
   "execution_count": 4,
   "id": "f610bfd7-d006-46bb-8a6e-9be8eaf50a64",
   "metadata": {},
   "outputs": [
    {
     "name": "stdin",
     "output_type": "stream",
     "text": [
      "Enter cost price of a bike :  48000\n"
     ]
    },
    {
     "name": "stdout",
     "output_type": "stream",
     "text": [
      "Total tax of bike =  2400.0\n"
     ]
    }
   ],
   "source": [
    "## answer 2.\n",
    "\n",
    "a = float(input(\"Enter cost price of a bike : \"))\n",
    "\n",
    "if (a>100000):\n",
    "    tax=a*0.15\n",
    "    print(\"Total tax of bike = \",tax)\n",
    "elif(a>50000 and a<=100000):\n",
    "    tax=a*0.10\n",
    "    print(\"Total tax of bike = \",tax)\n",
    "elif(a<=50000):\n",
    "    tax=a*0.05\n",
    "    print(\"Total tax of bike = \",tax)\n",
    "\n",
    "\n"
   ]
  },
  {
   "cell_type": "code",
   "execution_count": null,
   "id": "1e0fa551-48e8-4c50-babd-a5b8dfe80283",
   "metadata": {},
   "outputs": [],
   "source": []
  },
  {
   "cell_type": "markdown",
   "id": "2224346a-5498-424b-b05c-f417c9141284",
   "metadata": {},
   "source": [
    "Q3. Accept any city from the user and display monument of that city:"
   ]
  },
  {
   "cell_type": "raw",
   "id": "33d7e8db-a96b-41f0-885b-d60a0cb06f96",
   "metadata": {},
   "source": [
    "City         Monument\n",
    "\n",
    "Delhi        Red Fort   \n",
    "Agra         Taj Mahal \n",
    "Jaipur       Jal Mahal"
   ]
  },
  {
   "cell_type": "code",
   "execution_count": 5,
   "id": "59118af7-d35c-4ff3-8026-23a3cdddff33",
   "metadata": {},
   "outputs": [
    {
     "name": "stdin",
     "output_type": "stream",
     "text": [
      "Enter city  :  Surat\n"
     ]
    },
    {
     "name": "stdout",
     "output_type": "stream",
     "text": [
      "invalid choice\n"
     ]
    }
   ],
   "source": [
    "## answer 3\n",
    "\n",
    "a = (input(\"Enter city  : \"))\n",
    "\n",
    "if (a==\"Delhi\"):\n",
    "    print(\"Monument is Red Fort\")\n",
    "elif (a==\"Agra\"):\n",
    "    print(\"Monument is Taj Mahal\")\n",
    "elif (a==\"Jaipur\"):\n",
    "    print(\"Monument is Jal Mahal \")\n",
    "else:\n",
    "    print (\"invalid choice\")"
   ]
  },
  {
   "cell_type": "code",
   "execution_count": null,
   "id": "21894828-51fc-4938-ad61-d12125a141d8",
   "metadata": {},
   "outputs": [],
   "source": []
  },
  {
   "cell_type": "markdown",
   "id": "fdd97f8b-f557-4b60-b07c-48360c0efa03",
   "metadata": {},
   "source": [
    "Q4. Check how many times a given number can be divided by 3 before it is less than or equal to 10."
   ]
  },
  {
   "cell_type": "code",
   "execution_count": 5,
   "id": "0116a875-0118-4bf1-ac96-4768d9cba618",
   "metadata": {},
   "outputs": [
    {
     "name": "stdout",
     "output_type": "stream",
     "text": [
      "Total  3\n"
     ]
    }
   ],
   "source": [
    "## Answer 4:\n",
    "\n",
    "count = 0\n",
    "number = 180\n",
    "while number > 10:\n",
    "    # divide number by 3\n",
    "    number = number / 3\n",
    "    # increase count\n",
    "    count = count + 1\n",
    "print('Total ', count)\n",
    "    \n",
    "    "
   ]
  },
  {
   "cell_type": "code",
   "execution_count": null,
   "id": "ef7dc7d9-610d-4a24-897e-342a2d625832",
   "metadata": {},
   "outputs": [],
   "source": []
  },
  {
   "cell_type": "markdown",
   "id": "b0254b6d-8e2f-451a-b58b-9635ae0045aa",
   "metadata": {},
   "source": [
    "Q5. why and when to use while loop in python give a detailed description with example."
   ]
  },
  {
   "cell_type": "code",
   "execution_count": null,
   "id": "93bfb8e1-33cf-4d78-b1be-8ee5da314fa1",
   "metadata": {},
   "outputs": [],
   "source": []
  },
  {
   "cell_type": "markdown",
   "id": "e0ecb3da-2197-4051-b67f-500077147349",
   "metadata": {},
   "source": [
    "Q6. Use nested while loop to print 3 different pattern."
   ]
  },
  {
   "cell_type": "code",
   "execution_count": 2,
   "id": "cf9022c3-c011-407b-adb7-95a701f0997b",
   "metadata": {},
   "outputs": [
    {
     "name": "stdout",
     "output_type": "stream",
     "text": [
      " *\n",
      " * *\n",
      " * * *\n",
      " * * * *\n",
      " * * * * *\n"
     ]
    }
   ],
   "source": [
    "## answer 6\n",
    "\n",
    "## 1st pattern of\"right angle triangle of * \"\n",
    "\n",
    "i=1\n",
    "while i<=5:\n",
    "    j=1\n",
    "    while j<=i:\n",
    "        print(end=\" *\")\n",
    "        j=j+1\n",
    "    print(\"\")\n",
    "    i=i+1"
   ]
  },
  {
   "cell_type": "code",
   "execution_count": 3,
   "id": "395bfdbf-ad6d-49f3-ba90-8ae43ef1257a",
   "metadata": {},
   "outputs": [
    {
     "name": "stdout",
     "output_type": "stream",
     "text": [
      " * * * * *\n",
      " * * * * *\n",
      " * * * * *\n",
      " * * * * *\n",
      " * * * * *\n"
     ]
    }
   ],
   "source": [
    "## 2st pattern of\" * in square format\"\n",
    "\n",
    "i=1\n",
    "while i<=5:\n",
    "    j=0\n",
    "    while j<5:\n",
    "        print(end=\" *\")\n",
    "        j=j+1\n",
    "    print(\"\")    \n",
    "    i=i+1"
   ]
  },
  {
   "cell_type": "code",
   "execution_count": 4,
   "id": "781253bd-caad-4f9d-90fb-84b076b3d214",
   "metadata": {},
   "outputs": [
    {
     "name": "stdin",
     "output_type": "stream",
     "text": [
      "Enter number of rows :  5\n"
     ]
    },
    {
     "name": "stdout",
     "output_type": "stream",
     "text": [
      "  1 \n",
      "  2   3 \n",
      "  4   5   6 \n",
      "  7   8   9  10 \n",
      " 11  12  13  14  15 \n"
     ]
    }
   ],
   "source": [
    "## 3rd pattern of \"numbers in right angle triangle\"\n",
    "\n",
    "n = int(input('Enter number of rows : '))\n",
    " \n",
    "k = 1\n",
    "i = 1\n",
    "while i <= n :\n",
    "    j = 1\n",
    "    while j <= i:\n",
    "        print(\"{:3d}\".format(k), end = \" \")\n",
    "        j += 1\n",
    "        k += 1\n",
    "    print()\n",
    "    i += 1"
   ]
  },
  {
   "cell_type": "code",
   "execution_count": null,
   "id": "2d1f9908-1382-4fb9-b814-30089f1b3af8",
   "metadata": {},
   "outputs": [],
   "source": []
  },
  {
   "cell_type": "markdown",
   "id": "d6735928-885d-4dac-819a-927f5d3ce070",
   "metadata": {},
   "source": [
    "Q7. Reverse a while loop to display numbers from 10 to 1."
   ]
  },
  {
   "cell_type": "code",
   "execution_count": 7,
   "id": "21a723bb-50a1-40dd-b44f-499027d4f2e0",
   "metadata": {},
   "outputs": [
    {
     "name": "stdout",
     "output_type": "stream",
     "text": [
      "10\n",
      "9\n",
      "8\n",
      "7\n",
      "6\n",
      "5\n",
      "4\n",
      "3\n",
      "2\n",
      "1\n"
     ]
    }
   ],
   "source": [
    "## answer 7\n",
    "\n",
    "num=10\n",
    "\n",
    "while (num>0):\n",
    "    print(num)\n",
    "    num=num-1\n",
    "   "
   ]
  },
  {
   "cell_type": "code",
   "execution_count": null,
   "id": "0627807c-40e6-4641-8983-17cb2e78f886",
   "metadata": {},
   "outputs": [],
   "source": []
  },
  {
   "cell_type": "markdown",
   "id": "657f3bbd-ccf0-4d55-afea-84755e855de4",
   "metadata": {},
   "source": [
    "Q8. Reverse a while loop to display numbers from 10 to 1."
   ]
  },
  {
   "cell_type": "code",
   "execution_count": 8,
   "id": "6ba2d0b7-6721-4bbd-9243-b89df429125d",
   "metadata": {},
   "outputs": [
    {
     "name": "stdout",
     "output_type": "stream",
     "text": [
      "10\n",
      "9\n",
      "8\n",
      "7\n",
      "6\n",
      "5\n",
      "4\n",
      "3\n",
      "2\n",
      "1\n"
     ]
    }
   ],
   "source": [
    "## answer 8\n",
    "\n",
    "num=10\n",
    "\n",
    "while (num>0):\n",
    "    print(num)\n",
    "    num=num-1\n",
    "   "
   ]
  },
  {
   "cell_type": "code",
   "execution_count": null,
   "id": "5507b1b2-8b43-4bc9-827c-133da591fbf5",
   "metadata": {},
   "outputs": [],
   "source": []
  },
  {
   "cell_type": "code",
   "execution_count": null,
   "id": "4a2aff88-0959-4946-a106-cb805500b79b",
   "metadata": {},
   "outputs": [],
   "source": []
  }
 ],
 "metadata": {
  "kernelspec": {
   "display_name": "Python 3 (ipykernel)",
   "language": "python",
   "name": "python3"
  },
  "language_info": {
   "codemirror_mode": {
    "name": "ipython",
    "version": 3
   },
   "file_extension": ".py",
   "mimetype": "text/x-python",
   "name": "python",
   "nbconvert_exporter": "python",
   "pygments_lexer": "ipython3",
   "version": "3.10.8"
  }
 },
 "nbformat": 4,
 "nbformat_minor": 5
}
