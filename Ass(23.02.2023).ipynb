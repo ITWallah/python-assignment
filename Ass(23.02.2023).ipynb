{
 "cells": [
  {
   "cell_type": "markdown",
   "id": "b5c7bd6b-af76-4027-bbff-5d58e88db081",
   "metadata": {},
   "source": [
    "## Assignment(23/FEB/2023) PANDAS BASICS"
   ]
  },
  {
   "cell_type": "markdown",
   "id": "a03fd630-9f69-440c-af6a-ba6f5dacb30b",
   "metadata": {},
   "source": [
    "Q1. Create a Pandas Series that contains the following data: 4, 8, 15, 16, 23, and 42. Then, print the series."
   ]
  },
  {
   "cell_type": "code",
   "execution_count": 8,
   "id": "8195edaf-3cdf-4b1c-8f8c-58e9c0b47e1f",
   "metadata": {},
   "outputs": [
    {
     "name": "stdout",
     "output_type": "stream",
     "text": [
      "0     4\n",
      "1     8\n",
      "2    15\n",
      "3    16\n",
      "4    23\n",
      "5    42\n",
      "dtype: int64\n"
     ]
    }
   ],
   "source": [
    "## answer 1\n",
    "\n",
    "import pandas as pd\n",
    "\n",
    "data = pd.Series([4,8,15,16,23,42])\n",
    "print(data)"
   ]
  },
  {
   "cell_type": "code",
   "execution_count": null,
   "id": "3fd03e67-e185-4f1a-840c-4fc0affd623d",
   "metadata": {},
   "outputs": [],
   "source": []
  },
  {
   "cell_type": "code",
   "execution_count": null,
   "id": "a505e234-e1ff-46f8-98a9-4d3557e21359",
   "metadata": {},
   "outputs": [],
   "source": []
  },
  {
   "cell_type": "markdown",
   "id": "19413eca-9289-4bb3-8cea-e4a2afa61d58",
   "metadata": {},
   "source": [
    "Q2. Create a variable of list type containing 10 elements in it, and apply pandas.Series function on the \n",
    "variable print it"
   ]
  },
  {
   "cell_type": "code",
   "execution_count": 11,
   "id": "f0ddd365-56d7-44b5-b127-7ab13b74edc2",
   "metadata": {},
   "outputs": [
    {
     "data": {
      "text/plain": [
       "0    Neel\n",
       "1     Het\n",
       "2     Dev\n",
       "3    Ravi\n",
       "4     Jay\n",
       "5    Zeel\n",
       "6     Ved\n",
       "7    Siya\n",
       "8    Mahi\n",
       "9     Raj\n",
       "dtype: object"
      ]
     },
     "execution_count": 11,
     "metadata": {},
     "output_type": "execute_result"
    }
   ],
   "source": [
    "## Answer 2\n",
    "\n",
    "variable = ['Neel','Het','Dev','Ravi','Jay','Zeel','Ved','Siya','Mahi','Raj']\n",
    "\n",
    "pd.Series(variable)"
   ]
  },
  {
   "cell_type": "code",
   "execution_count": null,
   "id": "e23e8a55-f8a1-481e-9b45-8c914e452483",
   "metadata": {},
   "outputs": [],
   "source": []
  },
  {
   "cell_type": "code",
   "execution_count": null,
   "id": "7afd1b65-44b2-407c-89ed-649d298eb101",
   "metadata": {},
   "outputs": [],
   "source": []
  },
  {
   "cell_type": "markdown",
   "id": "57723f0a-9ead-4676-bc16-dbabdb223335",
   "metadata": {},
   "source": [
    "Q3. Create a Pandas DataFrame that contains the following data:\n",
    "\n",
    "Then, print the DataFrame."
   ]
  },
  {
   "cell_type": "code",
   "execution_count": 14,
   "id": "3572eb79-ca88-4fdc-ae37-41fe88927662",
   "metadata": {},
   "outputs": [
    {
     "name": "stdout",
     "output_type": "stream",
     "text": [
      "     Name  Age  Gender\n",
      "0   Alice   25  Female\n",
      "1     Bob   30    Male\n",
      "2  Claire   27  Female\n"
     ]
    }
   ],
   "source": [
    "import pandas as pd\n",
    "\n",
    "data = pd.DataFrame({'Name':['Alice','Bob','Claire'],\n",
    "                     'Age' :[25,30,27],\n",
    "                     'Gender':['Female','Male','Female']})\n",
    "\n",
    "print(data)"
   ]
  },
  {
   "cell_type": "code",
   "execution_count": null,
   "id": "eac94d85-d0f6-4ce4-a8f9-d1adf78ef0ae",
   "metadata": {},
   "outputs": [],
   "source": []
  },
  {
   "cell_type": "code",
   "execution_count": null,
   "id": "5c0f137b-48f1-47fe-9350-2748cf281d07",
   "metadata": {},
   "outputs": [],
   "source": []
  },
  {
   "cell_type": "markdown",
   "id": "5bb764a4-76fc-4acc-adf9-98e1d77c2922",
   "metadata": {},
   "source": [
    "Q4. What is ‘DataFrame’ in pandas and how is it different from pandas.series? Explain with an example."
   ]
  },
  {
   "cell_type": "code",
   "execution_count": null,
   "id": "bbba200f-c156-4fc1-a033-17b9c8115ac8",
   "metadata": {},
   "outputs": [],
   "source": [
    "## answer 4\n",
    "\n",
    "=> Pandas DataFrame is two-dimensional size-mutable, potentially heterogeneous tabular data structure with labeled axes.\n",
    "=> Pandas DataFrame consists of three principal components, the data, rows, and columns.\n",
    "=> pandas.Series Is a one dimensional array while data frame is two dimensional.\n",
    "\n"
   ]
  },
  {
   "cell_type": "code",
   "execution_count": 16,
   "id": "7f989ad7-0af9-4148-bc32-d269462bf1ff",
   "metadata": {},
   "outputs": [
    {
     "name": "stdout",
     "output_type": "stream",
     "text": [
      "    Name  Age\n",
      "0    Tom   20\n",
      "1   nick   21\n",
      "2  krish   19\n",
      "3   jack   18\n"
     ]
    }
   ],
   "source": [
    "## Example:\n",
    "\n",
    "import pandas as pd\n",
    " \n",
    "data = {'Name':['Tom', 'nick', 'krish', 'jack'],\n",
    "        'Age':[20, 21, 19, 18]}\n",
    " \n",
    "df = pd.DataFrame(data)\n",
    " \n",
    "print(df)"
   ]
  },
  {
   "cell_type": "code",
   "execution_count": null,
   "id": "c56c7076-ea8f-467a-8af4-13bde45125ff",
   "metadata": {},
   "outputs": [],
   "source": []
  },
  {
   "cell_type": "code",
   "execution_count": null,
   "id": "6f75f632-0713-41aa-8c2c-18e00939668f",
   "metadata": {},
   "outputs": [],
   "source": []
  },
  {
   "cell_type": "markdown",
   "id": "95ff2f0b-a08e-48cc-9026-01cac8037db5",
   "metadata": {},
   "source": [
    "Q5. What are some common functions you can use to manipulate data in a Pandas DataFrame? Can \n",
    "you give an example of when you might use one of these functions?"
   ]
  },
  {
   "cell_type": "code",
   "execution_count": null,
   "id": "c7ce012b-90e8-48ff-8a4d-c67d4fd85e66",
   "metadata": {},
   "outputs": [],
   "source": [
    "## Answer 5:\n",
    "\n",
    "Some functions used to manipulate data in pandas data frame are as follow:\n",
    "    \n",
    "1. Head : USD to display records from above side default value is 5.\n",
    "2. Tail : used to display records from the bottom and can mention the size by writing number in bracket.\n",
    "3. Columns : used to write all column names."
   ]
  },
  {
   "cell_type": "code",
   "execution_count": null,
   "id": "14f8d4a9-0a80-41d6-a8db-021d18940615",
   "metadata": {},
   "outputs": [],
   "source": [
    "##example:"
   ]
  },
  {
   "cell_type": "code",
   "execution_count": 17,
   "id": "cdc6253c-4b35-4a64-8094-53cda2275b55",
   "metadata": {},
   "outputs": [
    {
     "data": {
      "text/html": [
       "<div>\n",
       "<style scoped>\n",
       "    .dataframe tbody tr th:only-of-type {\n",
       "        vertical-align: middle;\n",
       "    }\n",
       "\n",
       "    .dataframe tbody tr th {\n",
       "        vertical-align: top;\n",
       "    }\n",
       "\n",
       "    .dataframe thead th {\n",
       "        text-align: right;\n",
       "    }\n",
       "</style>\n",
       "<table border=\"1\" class=\"dataframe\">\n",
       "  <thead>\n",
       "    <tr style=\"text-align: right;\">\n",
       "      <th></th>\n",
       "      <th>Name</th>\n",
       "      <th>Age</th>\n",
       "    </tr>\n",
       "  </thead>\n",
       "  <tbody>\n",
       "    <tr>\n",
       "      <th>0</th>\n",
       "      <td>Tom</td>\n",
       "      <td>20</td>\n",
       "    </tr>\n",
       "    <tr>\n",
       "      <th>1</th>\n",
       "      <td>nick</td>\n",
       "      <td>21</td>\n",
       "    </tr>\n",
       "  </tbody>\n",
       "</table>\n",
       "</div>"
      ],
      "text/plain": [
       "   Name  Age\n",
       "0   Tom   20\n",
       "1  nick   21"
      ]
     },
     "execution_count": 17,
     "metadata": {},
     "output_type": "execute_result"
    }
   ],
   "source": [
    "import pandas as pd\n",
    "\n",
    "data = {'Name':['Tom', 'nick', 'krish', 'jack'],\n",
    "        'Age':[20, 21, 19, 18]}\n",
    " \n",
    "df = pd.DataFrame(data)\n",
    "\n",
    "df.head(2)"
   ]
  },
  {
   "cell_type": "code",
   "execution_count": null,
   "id": "1052a550-ed02-45f2-bcf8-73bf988974d3",
   "metadata": {},
   "outputs": [],
   "source": []
  },
  {
   "cell_type": "code",
   "execution_count": null,
   "id": "373a500a-8abd-4bd7-bb12-deb10d165dc0",
   "metadata": {},
   "outputs": [],
   "source": []
  },
  {
   "cell_type": "markdown",
   "id": "5fcc5828-1b0d-4c6c-963a-045ab4bbcbaf",
   "metadata": {},
   "source": [
    "Q6. Which of the following is mutable in nature Series, DataFrame, Panel?"
   ]
  },
  {
   "cell_type": "code",
   "execution_count": null,
   "id": "1ec4e9d6-6319-4ef5-97df-1549b7cd9ed9",
   "metadata": {},
   "outputs": [],
   "source": [
    "## Answer 6:\n",
    "\n",
    "=> data frame and panel is mutable in nature."
   ]
  },
  {
   "cell_type": "code",
   "execution_count": null,
   "id": "4b0a7ac0-3e30-44e2-9ac3-94f4dcf745f0",
   "metadata": {},
   "outputs": [],
   "source": []
  },
  {
   "cell_type": "code",
   "execution_count": null,
   "id": "19025685-3bf3-433d-a5d1-f1b31e8d2435",
   "metadata": {},
   "outputs": [],
   "source": []
  },
  {
   "cell_type": "markdown",
   "id": "55a8ea12-4264-4f27-899a-576866576445",
   "metadata": {},
   "source": [
    "Q7. Create a DataFrame using multiple Series. Explain with an example."
   ]
  },
  {
   "cell_type": "code",
   "execution_count": null,
   "id": "fe178ba4-a204-4f40-839d-9b694cafeb30",
   "metadata": {},
   "outputs": [],
   "source": [
    "## Answer 7:\n",
    "\n",
    "By using concat() method you can merge multiple series together into DataFrame. This takes several params, for our scenario we use list that takes series to combine and axis=1 to specify merge series as columns instead of rows. Note that using axis=0 appends series to rows instead of columns."
   ]
  },
  {
   "cell_type": "code",
   "execution_count": 18,
   "id": "bbc16479-9b32-4a12-83ad-126740ef875b",
   "metadata": {},
   "outputs": [
    {
     "name": "stdout",
     "output_type": "stream",
     "text": [
      "         0      1     2\n",
      "0    Spark  22000  1000\n",
      "1  PySpark  25000  2300\n",
      "2   Hadoop  23000  1000\n"
     ]
    }
   ],
   "source": [
    "##example:\n",
    "\n",
    "import pandas as pd\n",
    "\n",
    "courses = pd.Series([\"Spark\",\"PySpark\",\"Hadoop\"])\n",
    "fees = pd.Series([22000,25000,23000])\n",
    "discount  = pd.Series([1000,2300,1000])\n",
    "\n",
    "df=pd.concat([courses,fees],axis=1)\n",
    "\n",
    "df=pd.concat([courses,fees,discount],axis=1)\n",
    "\n",
    "print(df)"
   ]
  },
  {
   "cell_type": "code",
   "execution_count": null,
   "id": "4115747f-d8fc-4a19-bffe-7182b790d071",
   "metadata": {},
   "outputs": [],
   "source": []
  },
  {
   "cell_type": "code",
   "execution_count": null,
   "id": "edf5d23d-94cb-4386-806c-52ff0dcb1d40",
   "metadata": {},
   "outputs": [],
   "source": []
  },
  {
   "cell_type": "code",
   "execution_count": null,
   "id": "3aa514c7-4655-45e7-9d1b-70982bd05250",
   "metadata": {},
   "outputs": [],
   "source": []
  },
  {
   "cell_type": "code",
   "execution_count": null,
   "id": "0e1b821e-0d90-4ecc-b9a7-62bc3223a827",
   "metadata": {},
   "outputs": [],
   "source": []
  },
  {
   "cell_type": "code",
   "execution_count": null,
   "id": "5efb3379-21f9-416e-8de0-e2e11743f519",
   "metadata": {},
   "outputs": [],
   "source": []
  }
 ],
 "metadata": {
  "kernelspec": {
   "display_name": "Python 3 (ipykernel)",
   "language": "python",
   "name": "python3"
  },
  "language_info": {
   "codemirror_mode": {
    "name": "ipython",
    "version": 3
   },
   "file_extension": ".py",
   "mimetype": "text/x-python",
   "name": "python",
   "nbconvert_exporter": "python",
   "pygments_lexer": "ipython3",
   "version": "3.10.8"
  }
 },
 "nbformat": 4,
 "nbformat_minor": 5
}
