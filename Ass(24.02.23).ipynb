{
 "cells": [
  {
   "cell_type": "markdown",
   "id": "6c95c500-4e9f-42b7-87b4-c3a4e43b7367",
   "metadata": {},
   "source": [
    "## Assignment(24/FEB/2023) PANDAS ADVANCE-1 "
   ]
  },
  {
   "cell_type": "markdown",
   "id": "a01b615e-a885-4893-9bea-08dd119501a9",
   "metadata": {},
   "source": [
    "Q1. List any five functions of the pandas library with execution."
   ]
  },
  {
   "cell_type": "code",
   "execution_count": null,
   "id": "4ad20e22-0375-443b-a6d5-fe074a3ceb64",
   "metadata": {},
   "outputs": [],
   "source": [
    "## Answer 1:\n",
    "\n",
    "1. pd.DataFrame()\n",
    "Pandas DataFrame is a two-dimensional size-mutable, potentially heterogeneous tabular data structure with labeled axes\n",
    "\n",
    "2. pd.Series()\n",
    "Pandas Series is a one-dimensional labeled array capable of holding data of any type (integer, string, float, python objects, etc.). \n",
    "\n",
    "3. pd.concat()\n",
    "pandas. concat() function does all the heavy lifting of performing concatenation operations along with an axis od Pandas objects while \n",
    "performing optional set logic (union or intersection) of the indexes (if any) on the other axes.\n",
    "\n",
    "4. pd.unique()\n",
    "The unique() function is used to get unique values of the Series object. Uniques are returned in order of appearance. Hash table-based \n",
    "unique, therefore does NOT sort.\n",
    "\n",
    "5. pd.Categorical()\n",
    "Categorical(val, categories = None, ordered = None, dtype = None) : It represents a categorical variable."
   ]
  },
  {
   "cell_type": "code",
   "execution_count": null,
   "id": "5cf1d7a2-9418-4274-b0a5-97f00978be4c",
   "metadata": {},
   "outputs": [],
   "source": []
  },
  {
   "cell_type": "code",
   "execution_count": null,
   "id": "adcc3a85-a210-441f-be33-aa2b582e8359",
   "metadata": {},
   "outputs": [],
   "source": []
  },
  {
   "cell_type": "markdown",
   "id": "13f7f52d-fd56-469d-9327-0b22e552c959",
   "metadata": {},
   "source": [
    "Q2. Given a Pandas DataFrame df with columns 'A', 'B', and 'C', write a Python function to re-index the \n",
    "DataFrame with a new index that starts from 1 and increments by 2 for each row."
   ]
  },
  {
   "cell_type": "code",
   "execution_count": 13,
   "id": "70715073-24dd-4608-8b42-0fc98669818f",
   "metadata": {},
   "outputs": [],
   "source": [
    "## answer 2:\n",
    "\n",
    "import pandas as pd\n",
    "\n",
    "df = pd.DataFrame({'A': [10, 20, 30, 40], 'B': [1, 2, 3, 4], 'C': ['foo', 'bar', 'baz', 'qux']})"
   ]
  },
  {
   "cell_type": "code",
   "execution_count": 18,
   "id": "f04007a1-9e62-494e-a5e5-da62cdd5c9d4",
   "metadata": {},
   "outputs": [],
   "source": [
    "import pandas as pd\n",
    "\n",
    "def reindex_dataframe(df):\n",
    "    new_index = pd.RangeIndex(start=1, step=2, stop=2*len(df)+1)\n",
    "    df = df.reset_index(drop=True)\n",
    "    df.index = new_index\n",
    "    return df"
   ]
  },
  {
   "cell_type": "code",
   "execution_count": 19,
   "id": "4220b0ca-86d4-42e7-b822-29587692f93f",
   "metadata": {},
   "outputs": [
    {
     "data": {
      "text/html": [
       "<div>\n",
       "<style scoped>\n",
       "    .dataframe tbody tr th:only-of-type {\n",
       "        vertical-align: middle;\n",
       "    }\n",
       "\n",
       "    .dataframe tbody tr th {\n",
       "        vertical-align: top;\n",
       "    }\n",
       "\n",
       "    .dataframe thead th {\n",
       "        text-align: right;\n",
       "    }\n",
       "</style>\n",
       "<table border=\"1\" class=\"dataframe\">\n",
       "  <thead>\n",
       "    <tr style=\"text-align: right;\">\n",
       "      <th></th>\n",
       "      <th>A</th>\n",
       "      <th>B</th>\n",
       "      <th>C</th>\n",
       "    </tr>\n",
       "  </thead>\n",
       "  <tbody>\n",
       "    <tr>\n",
       "      <th>1</th>\n",
       "      <td>10</td>\n",
       "      <td>1</td>\n",
       "      <td>foo</td>\n",
       "    </tr>\n",
       "    <tr>\n",
       "      <th>3</th>\n",
       "      <td>20</td>\n",
       "      <td>2</td>\n",
       "      <td>bar</td>\n",
       "    </tr>\n",
       "    <tr>\n",
       "      <th>5</th>\n",
       "      <td>30</td>\n",
       "      <td>3</td>\n",
       "      <td>baz</td>\n",
       "    </tr>\n",
       "    <tr>\n",
       "      <th>7</th>\n",
       "      <td>40</td>\n",
       "      <td>4</td>\n",
       "      <td>qux</td>\n",
       "    </tr>\n",
       "  </tbody>\n",
       "</table>\n",
       "</div>"
      ],
      "text/plain": [
       "    A  B    C\n",
       "1  10  1  foo\n",
       "3  20  2  bar\n",
       "5  30  3  baz\n",
       "7  40  4  qux"
      ]
     },
     "execution_count": 19,
     "metadata": {},
     "output_type": "execute_result"
    }
   ],
   "source": [
    "reindex_dataframe(df)"
   ]
  },
  {
   "cell_type": "code",
   "execution_count": null,
   "id": "a406ad49-4f40-4a98-b1d5-31a5519bc2e4",
   "metadata": {},
   "outputs": [],
   "source": []
  },
  {
   "cell_type": "code",
   "execution_count": null,
   "id": "172a6954-b683-4364-880a-4a6d62013273",
   "metadata": {},
   "outputs": [],
   "source": []
  },
  {
   "cell_type": "markdown",
   "id": "6737fd81-9d6a-44e6-bdb9-da9634e5c778",
   "metadata": {},
   "source": [
    "Q3. You have a Pandas DataFrame df with a column named 'Values'. Write a Python function that \n",
    "iterates over the DataFrame and calculates the sum of the first three values in the 'Values' column. The \n",
    "function should print the sum to the console."
   ]
  },
  {
   "cell_type": "code",
   "execution_count": 30,
   "id": "80ffa483-8d08-4a76-8501-1d9cfb570a18",
   "metadata": {},
   "outputs": [],
   "source": [
    "## answer 3:\n",
    "\n",
    "df = pd.DataFrame({'Values':[10,20,30,40,50,60]})\n",
    "\n",
    "def sum_of_three(df):\n",
    "    total = df['Values'][0] + df['Values'][1] + df['Values'][2]\n",
    "    return total"
   ]
  },
  {
   "cell_type": "code",
   "execution_count": 31,
   "id": "cdcbd3f3-3519-44ab-a474-a6752c4890e2",
   "metadata": {},
   "outputs": [
    {
     "data": {
      "text/plain": [
       "60"
      ]
     },
     "execution_count": 31,
     "metadata": {},
     "output_type": "execute_result"
    }
   ],
   "source": [
    "sum_of_three(df)"
   ]
  },
  {
   "cell_type": "code",
   "execution_count": null,
   "id": "fc0df73c-7f90-4132-82a3-0267b02a6799",
   "metadata": {},
   "outputs": [],
   "source": []
  },
  {
   "cell_type": "code",
   "execution_count": null,
   "id": "70a5f9b6-f398-4f43-99db-17b534dd8e12",
   "metadata": {},
   "outputs": [],
   "source": []
  },
  {
   "cell_type": "markdown",
   "id": "9173280b-8002-416c-a5df-3a82584f423d",
   "metadata": {},
   "source": [
    "Q4. Given a Pandas DataFrame df with a column 'Text', write a Python function to create a new column \n",
    "'Word_Count' that contains the number of words in each row of the 'Text' column."
   ]
  },
  {
   "cell_type": "code",
   "execution_count": 32,
   "id": "325a9efb-de56-449e-a4b6-d58a5ca1bd17",
   "metadata": {},
   "outputs": [],
   "source": [
    "## answer 4:\n",
    "\n",
    "data = pd.DataFrame({'text':['neel','raviraj','sudhanshu']})"
   ]
  },
  {
   "cell_type": "code",
   "execution_count": 80,
   "id": "3fdb281a-937d-4118-8127-e4f0f267db9e",
   "metadata": {},
   "outputs": [
    {
     "data": {
      "text/html": [
       "<div>\n",
       "<style scoped>\n",
       "    .dataframe tbody tr th:only-of-type {\n",
       "        vertical-align: middle;\n",
       "    }\n",
       "\n",
       "    .dataframe tbody tr th {\n",
       "        vertical-align: top;\n",
       "    }\n",
       "\n",
       "    .dataframe thead th {\n",
       "        text-align: right;\n",
       "    }\n",
       "</style>\n",
       "<table border=\"1\" class=\"dataframe\">\n",
       "  <thead>\n",
       "    <tr style=\"text-align: right;\">\n",
       "      <th></th>\n",
       "      <th>text</th>\n",
       "      <th>word_count</th>\n",
       "    </tr>\n",
       "  </thead>\n",
       "  <tbody>\n",
       "    <tr>\n",
       "      <th>0</th>\n",
       "      <td>neel</td>\n",
       "      <td>4</td>\n",
       "    </tr>\n",
       "    <tr>\n",
       "      <th>1</th>\n",
       "      <td>raviraj</td>\n",
       "      <td>7</td>\n",
       "    </tr>\n",
       "    <tr>\n",
       "      <th>2</th>\n",
       "      <td>sudhanshu</td>\n",
       "      <td>9</td>\n",
       "    </tr>\n",
       "  </tbody>\n",
       "</table>\n",
       "</div>"
      ],
      "text/plain": [
       "        text  word_count\n",
       "0       neel           4\n",
       "1    raviraj           7\n",
       "2  sudhanshu           9"
      ]
     },
     "execution_count": 80,
     "metadata": {},
     "output_type": "execute_result"
    }
   ],
   "source": [
    "for i in data:\n",
    "    data['word_count'] = data['text'].apply(lambda x: len(x))\n",
    "    \n",
    "data    "
   ]
  },
  {
   "cell_type": "code",
   "execution_count": null,
   "id": "b4f677a5-34c9-4504-97fe-0e14888c94f7",
   "metadata": {},
   "outputs": [],
   "source": []
  },
  {
   "cell_type": "code",
   "execution_count": null,
   "id": "5c745605-5bab-49d3-9c62-16334181f441",
   "metadata": {},
   "outputs": [],
   "source": []
  },
  {
   "cell_type": "markdown",
   "id": "d6923372-2242-4c0d-9ab1-8875e1f51192",
   "metadata": {},
   "source": [
    "Q5. How are DataFrame.size() and DataFrame.shape() different?"
   ]
  },
  {
   "cell_type": "code",
   "execution_count": null,
   "id": "20aea18b-8f67-4f35-bfee-ac50edad271a",
   "metadata": {},
   "outputs": [],
   "source": [
    "## answer 5:\n",
    "\n",
    "=> DataFrame.size() returns the total number of elements in the DataFrame, which is equivalent to the number of rows multiplied by the number\n",
    "of columns. This method returns a single integer value.\n",
    "\n",
    "=> On the other hand, DataFrame.shape() returns a tuple that contains the number of rows and columns in the DataFrame, respectively.\n",
    "For example, if a DataFrame has 3 rows and 4 columns, DataFrame.shape() would return (3, 4). The first element of the tuple is the\n",
    "number of rows, and the second element is the number of columns.\n"
   ]
  },
  {
   "cell_type": "code",
   "execution_count": null,
   "id": "d033b8cb-d8bc-49c8-b0f1-132dd8456487",
   "metadata": {},
   "outputs": [],
   "source": []
  },
  {
   "cell_type": "code",
   "execution_count": null,
   "id": "e3d7b8ba-ebc8-4451-bbe5-c8dbdf728382",
   "metadata": {},
   "outputs": [],
   "source": []
  },
  {
   "cell_type": "markdown",
   "id": "21136892-a513-44f1-a444-599151b6611f",
   "metadata": {},
   "source": [
    "Q6. Which function of pandas do we use to read an excel file?"
   ]
  },
  {
   "cell_type": "code",
   "execution_count": null,
   "id": "a96af4b2-0577-4cb2-9eb9-efb5aa57b0be",
   "metadata": {},
   "outputs": [],
   "source": [
    "## answer 6:\n",
    "\n",
    "=> to read an excel file in panda we use -> pd.read_excel('')."
   ]
  },
  {
   "cell_type": "code",
   "execution_count": null,
   "id": "cc29fc73-449e-44c2-b689-5fef6ab13849",
   "metadata": {},
   "outputs": [],
   "source": []
  },
  {
   "cell_type": "code",
   "execution_count": null,
   "id": "1621fe22-ecca-44d6-ad5e-857ca9106cce",
   "metadata": {},
   "outputs": [],
   "source": []
  },
  {
   "cell_type": "markdown",
   "id": "8dcf7f54-60b2-4658-8140-7898913b0e5d",
   "metadata": {},
   "source": [
    "Q7. You have a Pandas DataFrame df that contains a column named 'Email' that contains email \n",
    "addresses in the format 'username@domain.com'. Write a Python function that creates a new column \n",
    "'Username' in df that contains only the username part of each email address.\n",
    "\n",
    "The username is the part of the email address that appears before the '@' symbol. For example, if the \n",
    "email address is 'john.doe@example.com', the 'Username' column should contain 'john.doe'. Your \n",
    "function should extract the username from each email address and store it in the new 'Username' \n",
    "column"
   ]
  },
  {
   "cell_type": "code",
   "execution_count": 59,
   "id": "c34475e9-ad59-4cc2-a1fa-ee30f64fbf19",
   "metadata": {},
   "outputs": [],
   "source": [
    "## answer 7:\n",
    "\n",
    "df = pd.DataFrame({'Email':['john.doe@example.com',\n",
    "                            'neeljaviya20@gmail.com',\n",
    "                            'Amitpatel@yahoo.com']})"
   ]
  },
  {
   "cell_type": "code",
   "execution_count": 79,
   "id": "831fab25-78cc-426a-8d06-9cdbf67cab8d",
   "metadata": {},
   "outputs": [
    {
     "data": {
      "text/html": [
       "<div>\n",
       "<style scoped>\n",
       "    .dataframe tbody tr th:only-of-type {\n",
       "        vertical-align: middle;\n",
       "    }\n",
       "\n",
       "    .dataframe tbody tr th {\n",
       "        vertical-align: top;\n",
       "    }\n",
       "\n",
       "    .dataframe thead th {\n",
       "        text-align: right;\n",
       "    }\n",
       "</style>\n",
       "<table border=\"1\" class=\"dataframe\">\n",
       "  <thead>\n",
       "    <tr style=\"text-align: right;\">\n",
       "      <th></th>\n",
       "      <th>Email</th>\n",
       "      <th>Username</th>\n",
       "    </tr>\n",
       "  </thead>\n",
       "  <tbody>\n",
       "    <tr>\n",
       "      <th>0</th>\n",
       "      <td>john.doe@example.com</td>\n",
       "      <td>john.doe</td>\n",
       "    </tr>\n",
       "    <tr>\n",
       "      <th>1</th>\n",
       "      <td>neeljaviya20@gmail.com</td>\n",
       "      <td>neeljaviya20</td>\n",
       "    </tr>\n",
       "    <tr>\n",
       "      <th>2</th>\n",
       "      <td>Amitpatel@yahoo.com</td>\n",
       "      <td>Amitpatel</td>\n",
       "    </tr>\n",
       "  </tbody>\n",
       "</table>\n",
       "</div>"
      ],
      "text/plain": [
       "                    Email      Username\n",
       "0    john.doe@example.com      john.doe\n",
       "1  neeljaviya20@gmail.com  neeljaviya20\n",
       "2     Amitpatel@yahoo.com     Amitpatel"
      ]
     },
     "execution_count": 79,
     "metadata": {},
     "output_type": "execute_result"
    }
   ],
   "source": [
    "for i in df:\n",
    "    df['Username'] = df['Email'].apply(lambda x : x.split('@')[0] )\n",
    "    \n",
    "df"
   ]
  },
  {
   "cell_type": "code",
   "execution_count": null,
   "id": "56147b21-c0fe-4576-bd6d-0458f91d331b",
   "metadata": {},
   "outputs": [],
   "source": []
  },
  {
   "cell_type": "code",
   "execution_count": null,
   "id": "ea3c5ad4-a9e5-4bcc-bc49-537cf2d5b100",
   "metadata": {},
   "outputs": [],
   "source": []
  },
  {
   "cell_type": "markdown",
   "id": "38b9cc30-f73f-4b07-8a4d-fafffd7a9c71",
   "metadata": {},
   "source": [
    "Q8. You have a Pandas DataFrame df with columns 'A', 'B', and 'C'. Write a Python function that selects \n",
    "all rows where the value in column 'A' is greater than 5 and the value in column 'B' is less than 10. The \n",
    "function should return a new DataFrame that contains only the selected rows.\n",
    "\n",
    "For example, if df contains the following values:\n",
    "\n",
    "   A   B   C\n",
    "\n",
    "0  3   5   1\n",
    "\n",
    "1  8   2   7\n",
    "\n",
    "2  6   9   4\n",
    "\n",
    "3  2   3   5\n",
    "\n",
    "4  9   1   2\n"
   ]
  },
  {
   "cell_type": "code",
   "execution_count": 103,
   "id": "7d1d8ac7-9a32-4f07-ad89-d8957d23c3a3",
   "metadata": {},
   "outputs": [
    {
     "data": {
      "text/html": [
       "<div>\n",
       "<style scoped>\n",
       "    .dataframe tbody tr th:only-of-type {\n",
       "        vertical-align: middle;\n",
       "    }\n",
       "\n",
       "    .dataframe tbody tr th {\n",
       "        vertical-align: top;\n",
       "    }\n",
       "\n",
       "    .dataframe thead th {\n",
       "        text-align: right;\n",
       "    }\n",
       "</style>\n",
       "<table border=\"1\" class=\"dataframe\">\n",
       "  <thead>\n",
       "    <tr style=\"text-align: right;\">\n",
       "      <th></th>\n",
       "      <th>A</th>\n",
       "      <th>B</th>\n",
       "      <th>C</th>\n",
       "    </tr>\n",
       "  </thead>\n",
       "  <tbody>\n",
       "    <tr>\n",
       "      <th>1</th>\n",
       "      <td>8</td>\n",
       "      <td>2</td>\n",
       "      <td>7</td>\n",
       "    </tr>\n",
       "    <tr>\n",
       "      <th>2</th>\n",
       "      <td>6</td>\n",
       "      <td>9</td>\n",
       "      <td>4</td>\n",
       "    </tr>\n",
       "    <tr>\n",
       "      <th>4</th>\n",
       "      <td>9</td>\n",
       "      <td>1</td>\n",
       "      <td>2</td>\n",
       "    </tr>\n",
       "  </tbody>\n",
       "</table>\n",
       "</div>"
      ],
      "text/plain": [
       "   A  B  C\n",
       "1  8  2  7\n",
       "2  6  9  4\n",
       "4  9  1  2"
      ]
     },
     "execution_count": 103,
     "metadata": {},
     "output_type": "execute_result"
    }
   ],
   "source": [
    "new = pd.DataFrame({'A':[3,8,6,2,9],\n",
    "                     'B':[5,2,9,3,1],\n",
    "                     'C':[1,7,4,5,2]})\n",
    "\n",
    "def select_rows(x):\n",
    "    main = x[(x['A'] > 5 ) & (x['B'] < 10 )]\n",
    "    return main\n",
    "\n",
    "select_rows(new)\n"
   ]
  },
  {
   "cell_type": "code",
   "execution_count": null,
   "id": "8c45d20b-3f71-4b02-94d3-195e2c0900ee",
   "metadata": {},
   "outputs": [],
   "source": []
  },
  {
   "cell_type": "code",
   "execution_count": null,
   "id": "e97a1c04-bff9-477a-9f9f-ab0ea54a171f",
   "metadata": {},
   "outputs": [],
   "source": []
  },
  {
   "cell_type": "markdown",
   "id": "57ac3a50-03f5-48c7-b5dc-91f2285c21fa",
   "metadata": {},
   "source": [
    "Q9. Given a Pandas DataFrame df with a column 'Values', write a Python function to calculate the mean, \n",
    "median, and standard deviation of the values in the 'Values' column."
   ]
  },
  {
   "cell_type": "code",
   "execution_count": 110,
   "id": "4ad62397-bb5c-4e50-a2d4-35d8dad37409",
   "metadata": {},
   "outputs": [
    {
     "name": "stdout",
     "output_type": "stream",
     "text": [
      "18.428571428571427\n",
      "6.0\n",
      "31.07068964638604\n"
     ]
    }
   ],
   "source": [
    "## answer 9:\n",
    "\n",
    "import numpy as np\n",
    "\n",
    "stat = pd.DataFrame({'Values':[1,2,5,6,8,94,13]})\n",
    "\n",
    "mean = np.mean(stat['Values'])\n",
    "median = np.median(stat['Values'])\n",
    "std = np.std(stat['Values'])\n",
    "\n",
    "print(mean)\n",
    "print(median)\n",
    "print(std)"
   ]
  },
  {
   "cell_type": "code",
   "execution_count": null,
   "id": "5b4a6334-7aef-44f7-96e9-6e7b1775f504",
   "metadata": {},
   "outputs": [],
   "source": []
  },
  {
   "cell_type": "code",
   "execution_count": null,
   "id": "8255d1af-d155-4745-9e43-92a88c3ac1bc",
   "metadata": {},
   "outputs": [],
   "source": []
  },
  {
   "cell_type": "markdown",
   "id": "5aed2d52-30fe-4b8f-bc1b-ccf47626040b",
   "metadata": {},
   "source": [
    "Q10. Given a Pandas DataFrame df with a column 'Sales' and a column 'Date', write a Python function to \n",
    "create a new column 'MovingAverage' that contains the moving average of the sales for the past 7 days \n",
    "for each row in the DataFrame. The moving average should be calculated using a window of size 7 and \n",
    "should include the current day."
   ]
  },
  {
   "cell_type": "code",
   "execution_count": 115,
   "id": "4a56c5d4-6dd6-40b8-b97a-df1a5bfa73e3",
   "metadata": {},
   "outputs": [
    {
     "data": {
      "text/html": [
       "<div>\n",
       "<style scoped>\n",
       "    .dataframe tbody tr th:only-of-type {\n",
       "        vertical-align: middle;\n",
       "    }\n",
       "\n",
       "    .dataframe tbody tr th {\n",
       "        vertical-align: top;\n",
       "    }\n",
       "\n",
       "    .dataframe thead th {\n",
       "        text-align: right;\n",
       "    }\n",
       "</style>\n",
       "<table border=\"1\" class=\"dataframe\">\n",
       "  <thead>\n",
       "    <tr style=\"text-align: right;\">\n",
       "      <th></th>\n",
       "      <th>Date</th>\n",
       "      <th>Sales</th>\n",
       "      <th>MovingAverage</th>\n",
       "    </tr>\n",
       "  </thead>\n",
       "  <tbody>\n",
       "    <tr>\n",
       "      <th>0</th>\n",
       "      <td>2022-01-01</td>\n",
       "      <td>10</td>\n",
       "      <td>10.000000</td>\n",
       "    </tr>\n",
       "    <tr>\n",
       "      <th>1</th>\n",
       "      <td>2022-01-02</td>\n",
       "      <td>12</td>\n",
       "      <td>11.000000</td>\n",
       "    </tr>\n",
       "    <tr>\n",
       "      <th>2</th>\n",
       "      <td>2022-01-03</td>\n",
       "      <td>8</td>\n",
       "      <td>10.000000</td>\n",
       "    </tr>\n",
       "    <tr>\n",
       "      <th>3</th>\n",
       "      <td>2022-01-04</td>\n",
       "      <td>9</td>\n",
       "      <td>9.750000</td>\n",
       "    </tr>\n",
       "    <tr>\n",
       "      <th>4</th>\n",
       "      <td>2022-01-05</td>\n",
       "      <td>15</td>\n",
       "      <td>10.800000</td>\n",
       "    </tr>\n",
       "    <tr>\n",
       "      <th>5</th>\n",
       "      <td>2022-01-06</td>\n",
       "      <td>16</td>\n",
       "      <td>11.666667</td>\n",
       "    </tr>\n",
       "    <tr>\n",
       "      <th>6</th>\n",
       "      <td>2022-01-07</td>\n",
       "      <td>20</td>\n",
       "      <td>12.857143</td>\n",
       "    </tr>\n",
       "    <tr>\n",
       "      <th>7</th>\n",
       "      <td>2022-01-08</td>\n",
       "      <td>18</td>\n",
       "      <td>14.000000</td>\n",
       "    </tr>\n",
       "    <tr>\n",
       "      <th>8</th>\n",
       "      <td>2022-01-09</td>\n",
       "      <td>22</td>\n",
       "      <td>15.428571</td>\n",
       "    </tr>\n",
       "    <tr>\n",
       "      <th>9</th>\n",
       "      <td>2022-01-10</td>\n",
       "      <td>25</td>\n",
       "      <td>17.857143</td>\n",
       "    </tr>\n",
       "    <tr>\n",
       "      <th>10</th>\n",
       "      <td>2022-01-11</td>\n",
       "      <td>23</td>\n",
       "      <td>19.857143</td>\n",
       "    </tr>\n",
       "    <tr>\n",
       "      <th>11</th>\n",
       "      <td>2022-01-12</td>\n",
       "      <td>28</td>\n",
       "      <td>21.714286</td>\n",
       "    </tr>\n",
       "    <tr>\n",
       "      <th>12</th>\n",
       "      <td>2022-01-13</td>\n",
       "      <td>30</td>\n",
       "      <td>23.714286</td>\n",
       "    </tr>\n",
       "    <tr>\n",
       "      <th>13</th>\n",
       "      <td>2022-01-14</td>\n",
       "      <td>32</td>\n",
       "      <td>25.428571</td>\n",
       "    </tr>\n",
       "  </tbody>\n",
       "</table>\n",
       "</div>"
      ],
      "text/plain": [
       "         Date  Sales  MovingAverage\n",
       "0  2022-01-01     10      10.000000\n",
       "1  2022-01-02     12      11.000000\n",
       "2  2022-01-03      8      10.000000\n",
       "3  2022-01-04      9       9.750000\n",
       "4  2022-01-05     15      10.800000\n",
       "5  2022-01-06     16      11.666667\n",
       "6  2022-01-07     20      12.857143\n",
       "7  2022-01-08     18      14.000000\n",
       "8  2022-01-09     22      15.428571\n",
       "9  2022-01-10     25      17.857143\n",
       "10 2022-01-11     23      19.857143\n",
       "11 2022-01-12     28      21.714286\n",
       "12 2022-01-13     30      23.714286\n",
       "13 2022-01-14     32      25.428571"
      ]
     },
     "execution_count": 115,
     "metadata": {},
     "output_type": "execute_result"
    }
   ],
   "source": [
    "## answer 10:\n",
    "\n",
    "import pandas as pd\n",
    "\n",
    "def moving_average(df):\n",
    "    df['MovingAverage'] = df['Sales'].rolling(window=7, min_periods=1).mean()\n",
    "    return df\n",
    "\n",
    "\n",
    "\n",
    "dates = pd.date_range('20220101', periods=14)\n",
    "data = {'Date': dates,\n",
    "        'Sales': [10, 12, 8, 9, 15, 16, 20, 18, 22, 25, 23, 28, 30, 32]}\n",
    "df = pd.DataFrame(data)\n",
    "\n",
    "df = moving_average(df)\n",
    "\n",
    "df\n"
   ]
  },
  {
   "cell_type": "code",
   "execution_count": null,
   "id": "6ffed35c-af6c-4832-bdd9-acf4d294bad0",
   "metadata": {},
   "outputs": [],
   "source": []
  },
  {
   "cell_type": "code",
   "execution_count": null,
   "id": "39a1bd84-1b4b-4a2e-9b47-dd3667319ea6",
   "metadata": {},
   "outputs": [],
   "source": []
  },
  {
   "cell_type": "markdown",
   "id": "9f1d700b-7c3d-4a35-99dc-95e5e3d6f51e",
   "metadata": {},
   "source": [
    "Q11. You have a Pandas DataFrame df with a column 'Date'. Write a Python function that creates a new \n",
    "column 'Weekday' in the DataFrame. The 'Weekday' column should contain the weekday name (e.g. \n",
    "Monday, Tuesday) corresponding to each date in the 'Date' column."
   ]
  },
  {
   "cell_type": "code",
   "execution_count": 123,
   "id": "d0370bcb-4a21-493c-b9df-80978f0ca834",
   "metadata": {},
   "outputs": [],
   "source": [
    "## answer 11:\n",
    "\n",
    "import pandas as pd\n",
    "\n",
    "def add_weekday_column(df, date_column_name='Date', weekday_column_name='Weekday'):\n",
    "    \"\"\"\n",
    "    Adds a new column 'Weekday' to the Pandas DataFrame `df`.\n",
    "    The 'Weekday' column contains the weekday name corresponding to each date in the 'Date' column.\n",
    "    \"\"\"\n",
    "    df[weekday_column_name] = pd.to_datetime(df[date_column_name]).dt.day_name()\n",
    "    return df\n"
   ]
  },
  {
   "cell_type": "code",
   "execution_count": 124,
   "id": "a475a17d-6579-4b87-aeb9-8de269d66883",
   "metadata": {},
   "outputs": [
    {
     "name": "stdout",
     "output_type": "stream",
     "text": [
      "         Date    Weekday\n",
      "0  2022-05-02     Monday\n",
      "1  2022-05-03    Tuesday\n",
      "2  2022-05-04  Wednesday\n",
      "3  2022-05-05   Thursday\n",
      "4  2022-05-06     Friday\n"
     ]
    }
   ],
   "source": [
    "df = pd.DataFrame({'Date': ['2022-05-02', '2022-05-03', '2022-05-04', '2022-05-05', '2022-05-06']})\n",
    "df_with_weekday = add_weekday_column(df)\n",
    "print(df_with_weekday)\n"
   ]
  },
  {
   "cell_type": "code",
   "execution_count": null,
   "id": "55bb2878-6ad7-4fbb-8535-fc1f79e9e876",
   "metadata": {},
   "outputs": [],
   "source": []
  },
  {
   "cell_type": "code",
   "execution_count": null,
   "id": "bda9e3d5-348d-4ad3-8fb3-3da34e787768",
   "metadata": {},
   "outputs": [],
   "source": []
  },
  {
   "cell_type": "markdown",
   "id": "ee7f7d71-cfbd-4258-8e82-ccba1255d1fc",
   "metadata": {},
   "source": [
    "Q12. Given a Pandas DataFrame df with a column 'Date' that contains timestamps, write a Python \n",
    "function to select all rows where the date is between '2023-01-01' and '2023-01-31'."
   ]
  },
  {
   "cell_type": "code",
   "execution_count": 125,
   "id": "6ac8798f-f44a-432a-86c3-5a73dc77568b",
   "metadata": {},
   "outputs": [],
   "source": [
    "## answer 12:\n",
    "\n",
    "import pandas as pd\n",
    "\n",
    "def select_rows_between_dates(df):\n",
    "    df['Date'] = pd.to_datetime(df['Date'])\n",
    "    \n",
    "    start_date = pd.Timestamp('2023-01-01')\n",
    "    end_date = pd.Timestamp('2023-01-31')\n",
    "    \n",
    "    filtered_df = df.loc[(df['Date'] >= start_date) & (df['Date'] <= end_date)]\n",
    "    \n",
    "    return filtered_df\n"
   ]
  },
  {
   "cell_type": "code",
   "execution_count": null,
   "id": "2d079018-cb2b-4d33-86d6-89b8be7358f6",
   "metadata": {},
   "outputs": [],
   "source": []
  },
  {
   "cell_type": "code",
   "execution_count": null,
   "id": "18150408-ad64-4c53-a4b4-8ba1b6099188",
   "metadata": {},
   "outputs": [],
   "source": []
  },
  {
   "cell_type": "markdown",
   "id": "b8eefff9-33e0-4bd0-ad26-6e15039e9076",
   "metadata": {},
   "source": [
    "Q13. To use the basic functions of pandas, what is the first and foremost necessary library that needs to \n",
    "be imported"
   ]
  },
  {
   "cell_type": "code",
   "execution_count": null,
   "id": "bc412c01-0e2c-4a5e-b710-18243940054c",
   "metadata": {},
   "outputs": [],
   "source": [
    "## answer 13:\n",
    "\n",
    "To use the basic functions of pandas we need to import numpy and Pandas Library."
   ]
  },
  {
   "cell_type": "code",
   "execution_count": null,
   "id": "601b4848-5c33-4dc0-81a6-a4f7b0e7421c",
   "metadata": {},
   "outputs": [],
   "source": []
  },
  {
   "cell_type": "code",
   "execution_count": null,
   "id": "3fef935d-2b8b-48dc-92d6-a22b640157a8",
   "metadata": {},
   "outputs": [],
   "source": []
  }
 ],
 "metadata": {
  "kernelspec": {
   "display_name": "Python 3 (ipykernel)",
   "language": "python",
   "name": "python3"
  },
  "language_info": {
   "codemirror_mode": {
    "name": "ipython",
    "version": 3
   },
   "file_extension": ".py",
   "mimetype": "text/x-python",
   "name": "python",
   "nbconvert_exporter": "python",
   "pygments_lexer": "ipython3",
   "version": "3.10.8"
  }
 },
 "nbformat": 4,
 "nbformat_minor": 5
}
