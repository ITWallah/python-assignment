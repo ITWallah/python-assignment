{
 "cells": [
  {
   "cell_type": "markdown",
   "id": "40d2b0c6-bed7-4022-9894-e7f7c0710150",
   "metadata": {},
   "source": [
    "## Assignment(12/FEB/2023)"
   ]
  },
  {
   "cell_type": "markdown",
   "id": "0ef19826-4028-40f9-ad54-eb3ff5956613",
   "metadata": {},
   "source": [
    "Q1. What is an Exception in python? Write the difference between Exceptions and syntax errors."
   ]
  },
  {
   "cell_type": "markdown",
   "id": "4a34dddb-9226-45fa-ac2a-a3d0679cd020",
   "metadata": {},
   "source": [
    "## answer 1\n",
    "\n",
    "-> An exception is an event, which occurs during the execution of a program that disrupts the normal flow of the program's instructions.\n",
    "\n",
    "-> Errors are the problems in a program due to which the program will stop the execution. On the other hand, exceptions are raised when \n",
    "   some internal events occur which changes the normal flow of the program."
   ]
  },
  {
   "cell_type": "code",
   "execution_count": null,
   "id": "de8bd453-9525-4860-a2aa-f89b502e97f9",
   "metadata": {},
   "outputs": [],
   "source": []
  },
  {
   "cell_type": "code",
   "execution_count": null,
   "id": "1946cc32-4079-4a97-a839-8f4cdf06bba3",
   "metadata": {},
   "outputs": [],
   "source": []
  },
  {
   "cell_type": "markdown",
   "id": "0e39f84c-2755-497c-8a6b-700943907872",
   "metadata": {},
   "source": [
    "Q2. What happens when an exception is not handled? Explain with an example."
   ]
  },
  {
   "cell_type": "markdown",
   "id": "aa15aad9-63e4-409e-bcca-c65f8ab36dd6",
   "metadata": {},
   "source": [
    "-> If program doesn't handle exceptions then it will crash suddenly and the user      will have a very disappointing experience with result.\n",
    "\n",
    "-> example:"
   ]
  },
  {
   "cell_type": "code",
   "execution_count": 15,
   "id": "3a9ce57d-4cec-4ad0-b5c3-6854dce468b2",
   "metadata": {},
   "outputs": [
    {
     "name": "stdout",
     "output_type": "stream",
     "text": [
      "exception occured\n"
     ]
    }
   ],
   "source": [
    "try:\n",
    "  print(a+b)\n",
    "except:\n",
    "  print(\"exception occured\")"
   ]
  },
  {
   "cell_type": "code",
   "execution_count": null,
   "id": "d5918b1b-b18b-4eed-a02c-759d4435749e",
   "metadata": {},
   "outputs": [],
   "source": []
  },
  {
   "cell_type": "code",
   "execution_count": null,
   "id": "871edcfc-2822-48df-9ecd-8dc55917a357",
   "metadata": {},
   "outputs": [],
   "source": []
  },
  {
   "cell_type": "markdown",
   "id": "4d3ec385-8388-4b9e-8037-2489d942de68",
   "metadata": {},
   "source": [
    "Q3. Which Python statements are used to catch and handle exceptions? Explain with an example."
   ]
  },
  {
   "cell_type": "markdown",
   "id": "cf58041e-1fe6-4fcd-8a08-bb3b89b99d3c",
   "metadata": {},
   "source": [
    "## answer 3\n",
    "\n",
    "-> Try and except statements are used to catch and handle exceptions in Python. \n",
    "\n",
    "-> example:"
   ]
  },
  {
   "cell_type": "code",
   "execution_count": 4,
   "id": "1ccb4acf-9cf2-4260-a56d-52be8cec8f83",
   "metadata": {},
   "outputs": [
    {
     "name": "stdout",
     "output_type": "stream",
     "text": [
      "Yeah ! Your answer is : 3\n"
     ]
    }
   ],
   "source": [
    "def divide(x, y):\n",
    "\ttry:\n",
    "\t\tresult = x // y\n",
    "\t\tprint(\"Yeah ! Your answer is :\", result)\n",
    "\texcept ZeroDivisionError:\n",
    "\t\tprint(\"Sorry ! You are dividing by zero \")\n",
    "\n",
    "divide(6, 2)\n"
   ]
  },
  {
   "cell_type": "code",
   "execution_count": null,
   "id": "b968b839-8224-4265-939c-7a8155f1ef44",
   "metadata": {},
   "outputs": [],
   "source": []
  },
  {
   "cell_type": "code",
   "execution_count": null,
   "id": "77bf850c-6970-4ed6-b565-e60b1a63e56b",
   "metadata": {},
   "outputs": [],
   "source": []
  },
  {
   "cell_type": "markdown",
   "id": "997630ae-700e-46a0-9c67-ee6ebdf573f5",
   "metadata": {},
   "source": [
    "Q4. Explain with an example:\n",
    "\n",
    "a. try and else\n",
    "b. finally\n",
    "c. raise"
   ]
  },
  {
   "cell_type": "code",
   "execution_count": 6,
   "id": "130a7613-cbab-44c2-b958-c2e7868385be",
   "metadata": {},
   "outputs": [
    {
     "name": "stdout",
     "output_type": "stream",
     "text": [
      "Yeah ! Your answer is : 1\n",
      "Sorry ! You are dividing by zero \n"
     ]
    }
   ],
   "source": [
    "## try and else\n",
    "\n",
    "def divide(x, y):\n",
    "\ttry:\n",
    "\t\tresult = x // y\n",
    "\texcept ZeroDivisionError:\n",
    "\t\tprint(\"Sorry ! You are dividing by zero \")\n",
    "\telse:\n",
    "\t\tprint(\"Yeah ! Your answer is :\", result)\n",
    "\n",
    "divide(3, 2)\n",
    "divide(3, 0)\n"
   ]
  },
  {
   "cell_type": "code",
   "execution_count": 7,
   "id": "e1d43dbc-6c25-40e1-a42c-71fa7048da78",
   "metadata": {},
   "outputs": [
    {
     "name": "stdout",
     "output_type": "stream",
     "text": [
      "This will always executed\n"
     ]
    }
   ],
   "source": [
    "## finally\n",
    "\n",
    "try:\n",
    "    f = open(\"t1.txt\", 'w')\n",
    "except exception as e:\n",
    "    print(\"There is error in code\")\n",
    "finally:\n",
    "    print(\"This will always executed\")"
   ]
  },
  {
   "cell_type": "code",
   "execution_count": 8,
   "id": "33fba10d-1354-4eae-8760-359f6e28ad43",
   "metadata": {},
   "outputs": [
    {
     "ename": "ValueError",
     "evalue": "String can't be changed into integer",
     "output_type": "error",
     "traceback": [
      "\u001b[0;31m---------------------------------------------------------------------------\u001b[0m",
      "\u001b[0;31mValueError\u001b[0m                                Traceback (most recent call last)",
      "Cell \u001b[0;32mIn[8], line 6\u001b[0m\n\u001b[1;32m      5\u001b[0m \u001b[38;5;28;01mtry\u001b[39;00m:\n\u001b[0;32m----> 6\u001b[0m \tnum \u001b[38;5;241m=\u001b[39m \u001b[38;5;28;43mint\u001b[39;49m\u001b[43m(\u001b[49m\u001b[43ms\u001b[49m\u001b[43m)\u001b[49m\n\u001b[1;32m      7\u001b[0m \u001b[38;5;28;01mexcept\u001b[39;00m \u001b[38;5;167;01mValueError\u001b[39;00m:\n",
      "\u001b[0;31mValueError\u001b[0m: invalid literal for int() with base 10: 'apple'",
      "\nDuring handling of the above exception, another exception occurred:\n",
      "\u001b[0;31mValueError\u001b[0m                                Traceback (most recent call last)",
      "Cell \u001b[0;32mIn[8], line 8\u001b[0m\n\u001b[1;32m      6\u001b[0m \tnum \u001b[38;5;241m=\u001b[39m \u001b[38;5;28mint\u001b[39m(s)\n\u001b[1;32m      7\u001b[0m \u001b[38;5;28;01mexcept\u001b[39;00m \u001b[38;5;167;01mValueError\u001b[39;00m:\n\u001b[0;32m----> 8\u001b[0m \t\u001b[38;5;28;01mraise\u001b[39;00m \u001b[38;5;167;01mValueError\u001b[39;00m(\u001b[38;5;124m\"\u001b[39m\u001b[38;5;124mString can\u001b[39m\u001b[38;5;124m'\u001b[39m\u001b[38;5;124mt be changed into integer\u001b[39m\u001b[38;5;124m\"\u001b[39m)\n",
      "\u001b[0;31mValueError\u001b[0m: String can't be changed into integer"
     ]
    }
   ],
   "source": [
    "## raise\n",
    "\n",
    "s = 'apple'\n",
    "\n",
    "try:\n",
    "\tnum = int(s)\n",
    "except ValueError:\n",
    "\traise ValueError(\"String can't be changed into integer\")\n"
   ]
  },
  {
   "cell_type": "code",
   "execution_count": null,
   "id": "7638f772-69ce-430f-82e6-c8f0a1657394",
   "metadata": {},
   "outputs": [],
   "source": []
  },
  {
   "cell_type": "code",
   "execution_count": null,
   "id": "507027fa-15f0-4026-830e-100254e894af",
   "metadata": {},
   "outputs": [],
   "source": []
  },
  {
   "cell_type": "markdown",
   "id": "099bff3b-fedf-45df-82bf-a2e9c28a45a4",
   "metadata": {},
   "source": [
    "Q5. What are custom expceptions in Python? why do we need custom exceptions? explain with an example?"
   ]
  },
  {
   "cell_type": "markdown",
   "id": "c1fc2c4a-3abc-4596-9167-18ad7fad1939",
   "metadata": {},
   "source": [
    "-> we can define custom exceptions by creating a new class that is derived from the built-in Exception class.\n",
    "\n",
    "-> We have the need of custom exceptions in Python for creating customizable conditions which we need according to program. It make easy to write a code.\n",
    "\n",
    "-> Example:"
   ]
  },
  {
   "cell_type": "code",
   "execution_count": 16,
   "id": "aaaf2455-f492-432c-adcd-9529f172cfe7",
   "metadata": {},
   "outputs": [
    {
     "ename": "CustomError",
     "evalue": "Example of Custom Exceptions in Python",
     "output_type": "error",
     "traceback": [
      "\u001b[0;31m---------------------------------------------------------------------------\u001b[0m",
      "\u001b[0;31mCustomError\u001b[0m                               Traceback (most recent call last)",
      "Cell \u001b[0;32mIn[16], line 4\u001b[0m\n\u001b[1;32m      1\u001b[0m \u001b[38;5;28;01mclass\u001b[39;00m \u001b[38;5;21;01mCustomError\u001b[39;00m(\u001b[38;5;167;01mException\u001b[39;00m):\n\u001b[1;32m      2\u001b[0m     \u001b[38;5;28;01mpass\u001b[39;00m\n\u001b[0;32m----> 4\u001b[0m \u001b[38;5;28;01mraise\u001b[39;00m CustomError(\u001b[38;5;124m\"\u001b[39m\u001b[38;5;124mExample of Custom Exceptions in Python\u001b[39m\u001b[38;5;124m\"\u001b[39m)\n",
      "\u001b[0;31mCustomError\u001b[0m: Example of Custom Exceptions in Python"
     ]
    }
   ],
   "source": [
    "class CustomError(Exception):\n",
    "    pass\n",
    "\n",
    "raise CustomError(\"Example of Custom Exceptions in Python\")"
   ]
  },
  {
   "cell_type": "code",
   "execution_count": null,
   "id": "c5b30d9a-3588-4f93-a7a4-a9fa922bf2fa",
   "metadata": {},
   "outputs": [],
   "source": []
  },
  {
   "cell_type": "code",
   "execution_count": null,
   "id": "ce19d202-45e3-4155-84e3-8e65bf80069e",
   "metadata": {},
   "outputs": [],
   "source": []
  },
  {
   "cell_type": "markdown",
   "id": "41c283cc-499c-4a15-9a06-803ffdac8e51",
   "metadata": {},
   "source": [
    "Q6. Create a custom exception class. Use this class to handle an exception."
   ]
  },
  {
   "cell_type": "code",
   "execution_count": 17,
   "id": "926a3f99-d686-4dd4-8916-6d3655c6fb50",
   "metadata": {},
   "outputs": [
    {
     "name": "stdin",
     "output_type": "stream",
     "text": [
      "Enter age :  19\n"
     ]
    },
    {
     "name": "stdout",
     "output_type": "stream",
     "text": [
      "Age is valid\n"
     ]
    }
   ],
   "source": [
    "## answer 6\n",
    "\n",
    "\n",
    "class validateage():\n",
    "    def __init__ (self, msg):\n",
    "        self.msg = msg\n",
    "        \n",
    "def validate_age(age):        \n",
    "    if age<0:\n",
    "        raise validateage(\"Age cant be less than 0\")\n",
    "    elif age>150:\n",
    "        raise validateage(\"Age cant be greater than 150\")\n",
    "    else:\n",
    "        print(\"Age is valid\")\n",
    "       \n",
    "try:\n",
    "    age = int(input(\"Enter age : \"))\n",
    "    validate_age(age)\n",
    "except validateage as i:\n",
    "    print(i)"
   ]
  },
  {
   "cell_type": "code",
   "execution_count": null,
   "id": "405d3ea6-ac6a-47a0-80cb-eb4b6bb1f4e2",
   "metadata": {},
   "outputs": [],
   "source": []
  }
 ],
 "metadata": {
  "kernelspec": {
   "display_name": "Python 3 (ipykernel)",
   "language": "python",
   "name": "python3"
  },
  "language_info": {
   "codemirror_mode": {
    "name": "ipython",
    "version": 3
   },
   "file_extension": ".py",
   "mimetype": "text/x-python",
   "name": "python",
   "nbconvert_exporter": "python",
   "pygments_lexer": "ipython3",
   "version": "3.10.8"
  }
 },
 "nbformat": 4,
 "nbformat_minor": 5
}
